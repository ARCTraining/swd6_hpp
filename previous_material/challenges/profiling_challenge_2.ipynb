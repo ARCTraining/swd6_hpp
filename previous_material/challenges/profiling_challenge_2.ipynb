{
 "cells": [
  {
   "cell_type": "markdown",
   "metadata": {},
   "source": [
    "## Profiling - Challenge 2"
   ]
  },
  {
   "cell_type": "markdown",
   "metadata": {},
   "source": [
    "We need to write a bunch of measurements to a file in a particular format for some esoteric lab equipment we're using.\n",
    "\n",
    "Compare the following two cells, which do the same thing, but written slightly differently."
   ]
  },
  {
   "cell_type": "code",
   "execution_count": 27,
   "metadata": {},
   "outputs": [],
   "source": [
    "# Approach 1\n",
    "\n",
    "import numpy as np\n",
    "\n",
    "def approach_1(measurements):\n",
    "    output = \"\"\n",
    "    \n",
    "    for index, datapoint in enumerate(measurements):\n",
    "        output += \"INDEX=%d,DATA=%f,\\n\" % (index, datapoint)\n",
    "        \n",
    "    return output\n",
    "\n",
    "data = np.random.rand(5000000) # Our measurements (just made up random numbers for now)\n",
    "output = approach_1(data)"
   ]
  },
  {
   "cell_type": "code",
   "execution_count": 26,
   "metadata": {},
   "outputs": [],
   "source": [
    "# Approach 2\n",
    "\n",
    "def approach_2(measurements):\n",
    "\n",
    "    return ''.join([\"INDEX=%d,DATA=%f,\\n\" % (index, datapoint) for index, datapoint in enumerate(measurements)])\n",
    "\n",
    "data = np.random.rand(5000000)\n",
    "output = approach_2(data)"
   ]
  },
  {
   "cell_type": "markdown",
   "metadata": {},
   "source": [
    "* Which one runs faster? (Hint: Use %timeit)\n",
    "\n",
    "* Why might one run faster than the other?\n",
    "\n",
    "* Do we care?"
   ]
  },
  {
   "cell_type": "code",
   "execution_count": null,
   "metadata": {
    "collapsed": true
   },
   "outputs": [],
   "source": []
  }
 ],
 "metadata": {
  "kernelspec": {
   "display_name": "Python 2",
   "language": "python",
   "name": "python2"
  },
  "language_info": {
   "codemirror_mode": {
    "name": "ipython",
    "version": 2
   },
   "file_extension": ".py",
   "mimetype": "text/x-python",
   "name": "python",
   "nbconvert_exporter": "python",
   "pygments_lexer": "ipython2",
   "version": "2.7.13"
  }
 },
 "nbformat": 4,
 "nbformat_minor": 2
}

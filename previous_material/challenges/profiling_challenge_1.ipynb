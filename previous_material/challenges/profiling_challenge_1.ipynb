{
 "cells": [
  {
   "cell_type": "markdown",
   "metadata": {},
   "source": [
    "## Profiling - Challenge 1"
   ]
  },
  {
   "cell_type": "markdown",
   "metadata": {},
   "source": [
    "We have a bunch of size measurements and want to find out the total area.\n",
    "\n",
    "Compare the following two cells, which do the same thing, but written slightly differently."
   ]
  },
  {
   "cell_type": "code",
   "execution_count": 20,
   "metadata": {},
   "outputs": [
    {
     "data": {
      "text/plain": [
       "250071.97559419853"
      ]
     },
     "execution_count": 20,
     "metadata": {},
     "output_type": "execute_result"
    }
   ],
   "source": [
    "# Approach 1\n",
    "\n",
    "import numpy as np\n",
    "\n",
    "def approach_1(widths, heights):\n",
    "    output = 0\n",
    "    \n",
    "    for width, height in zip(widths, heights):\n",
    "        output += width * height\n",
    "        \n",
    "    return output\n",
    "\n",
    "widths = np.random.rand(1000000)\n",
    "heights = np.random.rand(1000000)\n",
    "\n",
    "approach_1(widths, heights)"
   ]
  },
  {
   "cell_type": "code",
   "execution_count": 21,
   "metadata": {},
   "outputs": [
    {
     "data": {
      "text/plain": [
       "249556.77567663937"
      ]
     },
     "execution_count": 21,
     "metadata": {},
     "output_type": "execute_result"
    }
   ],
   "source": [
    "# Approach 2\n",
    "\n",
    "import numpy as np\n",
    "\n",
    "def calculate_area(width, height):\n",
    "    return width * height\n",
    "\n",
    "def approach_1(widths, heights):\n",
    "    output = 0\n",
    "    \n",
    "    for width, height in zip(widths, heights):\n",
    "        output += calculate_area(width, height)\n",
    "        \n",
    "    return output\n",
    "\n",
    "widths = np.random.rand(1000000)\n",
    "heights = np.random.rand(1000000)\n",
    "\n",
    "approach_1(widths, heights)"
   ]
  },
  {
   "cell_type": "markdown",
   "metadata": {},
   "source": [
    "* Which one runs faster? (Hint: Use %timeit)\n",
    "\n",
    "* Why might one run faster than the other?\n",
    "\n",
    "* Do we care?"
   ]
  },
  {
   "cell_type": "code",
   "execution_count": null,
   "metadata": {
    "collapsed": true
   },
   "outputs": [],
   "source": []
  }
 ],
 "metadata": {
  "kernelspec": {
   "display_name": "Python 2",
   "language": "python",
   "name": "python2"
  },
  "language_info": {
   "codemirror_mode": {
    "name": "ipython",
    "version": 2
   },
   "file_extension": ".py",
   "mimetype": "text/x-python",
   "name": "python",
   "nbconvert_exporter": "python",
   "pygments_lexer": "ipython2",
   "version": "2.7.13"
  }
 },
 "nbformat": 4,
 "nbformat_minor": 2
}

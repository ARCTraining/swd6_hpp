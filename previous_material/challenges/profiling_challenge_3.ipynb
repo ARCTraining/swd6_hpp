{
 "cells": [
  {
   "cell_type": "markdown",
   "metadata": {},
   "source": [
    "## Profiling - Challenge 3"
   ]
  },
  {
   "cell_type": "markdown",
   "metadata": {},
   "source": [
    "We need to extract one row of data from a giant CSV file we've inherited and write it to disk in its own file.\n",
    "\n",
    "Compare the following two cells, which do the same thing, but written slightly differently."
   ]
  },
  {
   "cell_type": "code",
   "execution_count": null,
   "metadata": {
    "collapsed": true
   },
   "outputs": [],
   "source": [
    "# Code to create CSV in the first place -- only need to run this if CSV isn't already present.\n",
    "import pandas as pd\n",
    "import numpy as np\n",
    "# Two columns of five millions points\n",
    "data_1 = np.random.rand(5000000)\n",
    "data_2 = np.random.rand(5000000)\n",
    "pd.DataFrame.from_dict({'data_1': data_1, 'data_2': data_2}).to_csv('data.csv')"
   ]
  },
  {
   "cell_type": "code",
   "execution_count": null,
   "metadata": {
    "collapsed": true
   },
   "outputs": [],
   "source": [
    "%%writefile challenge_3_1.py\n",
    "\n",
    "# Approach 1\n",
    "\n",
    "import pandas as pd\n",
    "import numpy as np\n",
    "\n",
    "@profile\n",
    "def approach_1():\n",
    "    data = pd.read_csv('data.csv')    \n",
    "    data['data_1'].to_csv('data_1_only.csv')\n",
    "\n",
    "if __name__ == '__main__':\n",
    "    approach_1()"
   ]
  },
  {
   "cell_type": "code",
   "execution_count": null,
   "metadata": {
    "collapsed": true
   },
   "outputs": [],
   "source": [
    "# Profile Approach 1\n",
    "\n",
    "# Running this outside Jupyter so we don't include it's memory usage\n",
    "# The time command measures the whole overall execution time \n",
    "# (not as accurate as %timeit since only measures one run, but does the job)\n",
    "!time python -m memory_profiler challenge_3_1.py"
   ]
  },
  {
   "cell_type": "code",
   "execution_count": null,
   "metadata": {
    "collapsed": true
   },
   "outputs": [],
   "source": [
    "%%writefile challenge_3_2.py\n",
    "\n",
    "# Approach 2\n",
    "\n",
    "import pandas as pd\n",
    "import numpy as np\n",
    "\n",
    "@profile\n",
    "def approach_2():\n",
    "    data = pd.read_csv('data.csv', chunksize=10000) \n",
    "    \n",
    "    for chunk_num, chunk in enumerate(data):\n",
    "        # Append first column of each chunk to CSV (we need to create initial CSV if it's the first chunk)\n",
    "        if chunk_num == 0:\n",
    "            chunk['data_1'].to_csv('data_1_only.csv')\n",
    "        else:\n",
    "            chunk['data_1'].to_csv('data_1_only.csv', mode='a', header=False)\n",
    "\n",
    "if __name__ == '__main__':\n",
    "    approach_2()"
   ]
  },
  {
   "cell_type": "code",
   "execution_count": null,
   "metadata": {
    "collapsed": true
   },
   "outputs": [],
   "source": [
    "# Profile Approach 2\n",
    "\n",
    "!time python -m memory_profiler challenge_3_2.py"
   ]
  },
  {
   "cell_type": "markdown",
   "metadata": {},
   "source": [
    "* Which one is faster?\n",
    "\n",
    "* Why one uses more memory?\n",
    "\n",
    "* Do we care?"
   ]
  },
  {
   "cell_type": "code",
   "execution_count": null,
   "metadata": {
    "collapsed": true
   },
   "outputs": [],
   "source": []
  }
 ],
 "metadata": {
  "kernelspec": {
   "display_name": "Python 2",
   "language": "python",
   "name": "python2"
  },
  "language_info": {
   "codemirror_mode": {
    "name": "ipython",
    "version": 2
   },
   "file_extension": ".py",
   "mimetype": "text/x-python",
   "name": "python",
   "nbconvert_exporter": "python",
   "pygments_lexer": "ipython2",
   "version": "2.7.13"
  }
 },
 "nbformat": 4,
 "nbformat_minor": 2
}

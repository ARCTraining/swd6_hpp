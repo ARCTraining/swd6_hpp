{
 "cells": [
  {
   "cell_type": "markdown",
   "metadata": {},
   "source": [
    "## Optimization - Challenge 2"
   ]
  },
  {
   "cell_type": "markdown",
   "metadata": {},
   "source": [
    "Below we are multiplying two arrays of numbers together, first looping with plain Python."
   ]
  },
  {
   "cell_type": "code",
   "execution_count": null,
   "metadata": {
    "collapsed": true
   },
   "outputs": [],
   "source": [
    "import numpy as np\n",
    "\n",
    "def approach_1(input_1, input_2):\n",
    "    \n",
    "    out = []\n",
    "    for a, b in zip(input_1, input_2):\n",
    "        out.append(a * b)\n",
    "\n",
    "    return out\n",
    "\n",
    "array_1 = [np.random.rand() for _ in range(10000)]\n",
    "array_2 = [np.random.rand() for _ in range(10000)]\n",
    "\n",
    "%timeit approach_1(array_1, array_2)"
   ]
  },
  {
   "cell_type": "markdown",
   "metadata": {},
   "source": [
    "Now, how do we do it with a vectorised operation in Numpy?"
   ]
  },
  {
   "cell_type": "code",
   "execution_count": null,
   "metadata": {
    "collapsed": true
   },
   "outputs": [],
   "source": [
    "import numpy as np\n",
    "\n",
    "def approach_2(input_1, input_2):\n",
    "    \n",
    "    return  # ??? your code here ???\n",
    "\n",
    "array_1 = np.array([np.random.rand() for _ in range(10000)])\n",
    "array_2 = np.array([np.random.rand() for _ in range(10000)])\n",
    "\n",
    "%timeit approach_2(array_1, array_2)"
   ]
  },
  {
   "cell_type": "markdown",
   "metadata": {},
   "source": [
    "* Which approach is more efficient?\n",
    "* Why might this be the case?"
   ]
  },
  {
   "cell_type": "code",
   "execution_count": null,
   "metadata": {
    "collapsed": true
   },
   "outputs": [],
   "source": []
  }
 ],
 "metadata": {
  "kernelspec": {
   "display_name": "Python 2",
   "language": "python",
   "name": "python2"
  },
  "language_info": {
   "codemirror_mode": {
    "name": "ipython",
    "version": 2
   },
   "file_extension": ".py",
   "mimetype": "text/x-python",
   "name": "python",
   "nbconvert_exporter": "python",
   "pygments_lexer": "ipython2",
   "version": "2.7.13"
  }
 },
 "nbformat": 4,
 "nbformat_minor": 2
}

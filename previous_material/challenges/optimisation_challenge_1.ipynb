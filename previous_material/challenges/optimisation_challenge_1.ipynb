{
 "cells": [
  {
   "cell_type": "markdown",
   "metadata": {},
   "source": [
    "## Optimization - Challenge 1"
   ]
  },
  {
   "cell_type": "markdown",
   "metadata": {},
   "source": [
    "Below we are filling two arrays in Numpy. The first incrementally builds the array, the other starts with a blank array and fills it in. "
   ]
  },
  {
   "cell_type": "code",
   "execution_count": null,
   "metadata": {},
   "outputs": [],
   "source": [
    "import numpy as np\n",
    "\n",
    "\n",
    "def approach_1():\n",
    "    out = np.empty(1)\n",
    "\n",
    "    for index in range(10000):\n",
    "        new_point = np.random.rand()\n",
    "        out = np.append(out, new_point)\n",
    "\n",
    "    return out\n",
    "    \n",
    "%timeit approach_1()"
   ]
  },
  {
   "cell_type": "code",
   "execution_count": null,
   "metadata": {},
   "outputs": [],
   "source": [
    "import numpy as np\n",
    "\n",
    "\n",
    "def approach_2():\n",
    "    out = np.empty(10000)\n",
    "\n",
    "    for index in range(len(out)):\n",
    "        new_point = np.random.rand()\n",
    "        out[index] = new_point\n",
    "\n",
    "    return out\n",
    "    \n",
    "%timeit approach_2()"
   ]
  },
  {
   "cell_type": "markdown",
   "metadata": {},
   "source": [
    "* Which approach is more efficient? (try %timeit)\n",
    "* Why might this be the case?"
   ]
  },
  {
   "cell_type": "code",
   "execution_count": null,
   "metadata": {
    "collapsed": true
   },
   "outputs": [],
   "source": []
  }
 ],
 "metadata": {
  "kernelspec": {
   "display_name": "Python 2",
   "language": "python",
   "name": "python2"
  },
  "language_info": {
   "codemirror_mode": {
    "name": "ipython",
    "version": 2
   },
   "file_extension": ".py",
   "mimetype": "text/x-python",
   "name": "python",
   "nbconvert_exporter": "python",
   "pygments_lexer": "ipython2",
   "version": "2.7.13"
  }
 },
 "nbformat": 4,
 "nbformat_minor": 2
}

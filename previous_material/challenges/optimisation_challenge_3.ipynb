{
 "cells": [
  {
   "cell_type": "markdown",
   "metadata": {},
   "source": [
    "## Optimization - Challenge 3"
   ]
  },
  {
   "cell_type": "markdown",
   "metadata": {},
   "source": [
    "I have a table of names and ages, and want to return a list of names for everyone under 30."
   ]
  },
  {
   "cell_type": "code",
   "execution_count": null,
   "metadata": {
    "collapsed": true
   },
   "outputs": [],
   "source": [
    "import pandas as pd\n",
    "data = pd.DataFrame({'name': ['David', 'Alice', 'Emma', 'Paul'], 'age':[12, 42, 2, 50]})"
   ]
  },
  {
   "cell_type": "markdown",
   "metadata": {},
   "source": [
    "As a starting point, let's search line by line in a loop."
   ]
  },
  {
   "cell_type": "code",
   "execution_count": null,
   "metadata": {
    "collapsed": true
   },
   "outputs": [],
   "source": [
    "def approach_1(data):\n",
    "    names = []\n",
    "    for index, row in data.iterrows():\n",
    "        if row['age'] < 30:\n",
    "            names.append(row['name'])\n",
    "\n",
    "    return names\n",
    "    \n",
    "%timeit approach_1(data)"
   ]
  },
  {
   "cell_type": "markdown",
   "metadata": {},
   "source": [
    "That's the long way of doing things. Pandas provides a handy query interface to make this easier, can you figure out how to do this in one line? Is it faster?\n",
    "\n",
    "Hint: https://pandas.pydata.org/pandas-docs/stable/indexing.html#boolean-indexing (or, you know, Google it)."
   ]
  },
  {
   "cell_type": "code",
   "execution_count": 43,
   "metadata": {},
   "outputs": [
    {
     "name": "stdout",
     "output_type": "stream",
     "text": [
      "1000 loops, best of 3: 632 µs per loop\n"
     ]
    }
   ],
   "source": [
    "def approach_2(data):\n",
    "    return data[data['age'] < 30]['name'].values# < code goes here\n",
    "\n",
    "%timeit approach_2(data)\n"
   ]
  },
  {
   "cell_type": "code",
   "execution_count": null,
   "metadata": {
    "collapsed": true
   },
   "outputs": [],
   "source": []
  }
 ],
 "metadata": {
  "kernelspec": {
   "display_name": "Python 2",
   "language": "python",
   "name": "python2"
  },
  "language_info": {
   "codemirror_mode": {
    "name": "ipython",
    "version": 2
   },
   "file_extension": ".py",
   "mimetype": "text/x-python",
   "name": "python",
   "nbconvert_exporter": "python",
   "pygments_lexer": "ipython2",
   "version": "2.7.13"
  }
 },
 "nbformat": 4,
 "nbformat_minor": 2
}

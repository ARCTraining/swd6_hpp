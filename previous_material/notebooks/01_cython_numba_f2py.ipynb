{
  "nbformat": 4,
  "nbformat_minor": 0,
  "metadata": {
    "colab": {
      "name": "cython_numba_f2py.ipynb",
      "provenance": []
    },
    "kernelspec": {
      "name": "python3",
      "display_name": "Python 3"
    }
  },
  "cells": [
    {
      "cell_type": "code",
      "metadata": {
        "id": "eAx4BwGeVUsA",
        "colab_type": "code",
        "colab": {}
      },
      "source": [
        "!touch test.py"
      ],
      "execution_count": 20,
      "outputs": []
    },
    {
      "cell_type": "code",
      "metadata": {
        "id": "mAIFiK3rVmU9",
        "colab_type": "code",
        "colab": {}
      },
      "source": [
        "%pycat test.py"
      ],
      "execution_count": 23,
      "outputs": []
    },
    {
      "cell_type": "code",
      "metadata": {
        "id": "bNrejwbIVqcT",
        "colab_type": "code",
        "colab": {
          "base_uri": "https://localhost:8080/",
          "height": 35
        },
        "outputId": "6b65e2b5-ad81-4ab6-f682-d2e412423e23"
      },
      "source": [
        "%%writefile test.py\n",
        "import numpy as np\n",
        "print ('Hello')\n"
      ],
      "execution_count": 22,
      "outputs": [
        {
          "output_type": "stream",
          "text": [
            "Overwriting test.py\n"
          ],
          "name": "stdout"
        }
      ]
    },
    {
      "cell_type": "code",
      "metadata": {
        "id": "FdLIZqcuZAow",
        "colab_type": "code",
        "colab": {
          "base_uri": "https://localhost:8080/",
          "height": 53
        },
        "outputId": "c45ac8e6-fb26-4049-ae48-3941970c20ed"
      },
      "source": [
        "!python test.py"
      ],
      "execution_count": 24,
      "outputs": [
        {
          "output_type": "stream",
          "text": [
            "Hello\n",
            "Hello again\n"
          ],
          "name": "stdout"
        }
      ]
    },
    {
      "cell_type": "code",
      "metadata": {
        "id": "zGp2FoMocCN2",
        "colab_type": "code",
        "colab": {}
      },
      "source": [
        "## Cython process"
      ],
      "execution_count": 26,
      "outputs": []
    },
    {
      "cell_type": "code",
      "metadata": {
        "id": "CSx50Uv0dVP3",
        "colab_type": "code",
        "colab": {}
      },
      "source": [
        "# Step 1: Put your functions into a .pyx file\n",
        "# Step 2: Create the setup.py file\n",
        "# Step 3: Tell Python to build the compiled version of .pyx file"
      ],
      "execution_count": 27,
      "outputs": []
    },
    {
      "cell_type": "code",
      "metadata": {
        "id": "GLW3kol_eNGj",
        "colab_type": "code",
        "colab": {
          "base_uri": "https://localhost:8080/",
          "height": 214
        },
        "outputId": "e3c3f0c7-06d8-40b3-9642-753ecf2c8b10"
      },
      "source": [
        "!python setup.py build_ext --inplace"
      ],
      "execution_count": 28,
      "outputs": [
        {
          "output_type": "stream",
          "text": [
            "Compiling helloworld.pyx because it changed.\n",
            "[1/1] Cythonizing helloworld.pyx\n",
            "/usr/local/lib/python3.6/dist-packages/Cython/Compiler/Main.py:369: FutureWarning: Cython directive 'language_level' not set, using 2 for now (Py2). This will change in a later release! File: /content/helloworld.pyx\n",
            "  tree = Parsing.p_module(s, pxd, full_module_name)\n",
            "running build_ext\n",
            "building 'helloworld' extension\n",
            "creating build\n",
            "creating build/temp.linux-x86_64-3.6\n",
            "x86_64-linux-gnu-gcc -pthread -DNDEBUG -g -fwrapv -O2 -Wall -g -fstack-protector-strong -Wformat -Werror=format-security -Wdate-time -D_FORTIFY_SOURCE=2 -fPIC -I/usr/include/python3.6m -c helloworld.c -o build/temp.linux-x86_64-3.6/helloworld.o\n",
            "x86_64-linux-gnu-gcc -pthread -shared -Wl,-O1 -Wl,-Bsymbolic-functions -Wl,-Bsymbolic-functions -Wl,-z,relro -Wl,-Bsymbolic-functions -Wl,-z,relro -g -fstack-protector-strong -Wformat -Werror=format-security -Wdate-time -D_FORTIFY_SOURCE=2 build/temp.linux-x86_64-3.6/helloworld.o -o /content/helloworld.cpython-36m-x86_64-linux-gnu.so\n"
          ],
          "name": "stdout"
        }
      ]
    },
    {
      "cell_type": "code",
      "metadata": {
        "id": "6M8RdGhceXDS",
        "colab_type": "code",
        "colab": {
          "base_uri": "https://localhost:8080/",
          "height": 248
        },
        "outputId": "90573be1-5b4f-4508-9ae8-aeb94ff55b8f"
      },
      "source": [
        "!ls -lah"
      ],
      "execution_count": 30,
      "outputs": [
        {
          "output_type": "stream",
          "text": [
            "total 204K\n",
            "drwxr-xr-x 1 root root 4.0K Jul 28 12:50 .\n",
            "drwxr-xr-x 1 root root 4.0K Jul 28 12:08 ..\n",
            "drwxr-xr-x 3 root root 4.0K Jul 28 12:50 build\n",
            "drwxr-xr-x 1 root root 4.0K Jul 22 16:16 .config\n",
            "-rw-r--r-- 1 root root 101K Jul 28 12:50 helloworld.c\n",
            "-rwxr-xr-x 1 root root  58K Jul 28 12:50 helloworld.cpython-36m-x86_64-linux-gnu.so\n",
            "-rw-r--r-- 1 root root   21 Jul 28 12:47 helloworld.pyx\n",
            "drwxr-xr-x 2 root root 4.0K Jul 28 12:15 .ipynb_checkpoints\n",
            "drwxr-xr-x 1 root root 4.0K Jul 10 16:29 sample_data\n",
            "-rw-r--r-- 1 root root  123 Jul 28 12:48 setup.py\n",
            "-rw-r--r-- 1 root root   33 Jul 28 12:43 test.md\n",
            "-rw-r--r-- 1 root root   56 Jul 28 12:39 test.py\n"
          ],
          "name": "stdout"
        }
      ]
    },
    {
      "cell_type": "code",
      "metadata": {
        "id": "3Q7yDojVe07D",
        "colab_type": "code",
        "colab": {}
      },
      "source": [
        "import helloworld as hw"
      ],
      "execution_count": 32,
      "outputs": []
    },
    {
      "cell_type": "code",
      "metadata": {
        "id": "gr2rCO_7fGvB",
        "colab_type": "code",
        "colab": {}
      },
      "source": [
        "# Exercises 1 and 2"
      ],
      "execution_count": null,
      "outputs": []
    },
    {
      "cell_type": "code",
      "metadata": {
        "id": "v9LecxZ5gSKX",
        "colab_type": "code",
        "colab": {}
      },
      "source": [
        "def fib_pp(n):\n",
        "    \"\"\"Print the Fibonacci series up to n.\"\"\"\n",
        "    a, b = 0, 1\n",
        "    while b < n:\n",
        "        print (b,)\n",
        "        a, b = b, a + b"
      ],
      "execution_count": 41,
      "outputs": []
    },
    {
      "cell_type": "code",
      "metadata": {
        "id": "yoJPG-4DgU2O",
        "colab_type": "code",
        "colab": {}
      },
      "source": [
        "%timeit fib_pp(2000)"
      ],
      "execution_count": null,
      "outputs": []
    },
    {
      "cell_type": "code",
      "metadata": {
        "id": "KDmXlB8jgXqj",
        "colab_type": "code",
        "colab": {
          "base_uri": "https://localhost:8080/",
          "height": 179
        },
        "outputId": "5bcbc4b7-589c-4dba-bd51-3c4699dc3238"
      },
      "source": [
        "# Cythonise the fib.pyx\n",
        "!python setup.py build_ext --inplace"
      ],
      "execution_count": 36,
      "outputs": [
        {
          "output_type": "stream",
          "text": [
            "Compiling fib.pyx because it changed.\n",
            "[1/1] Cythonizing fib.pyx\n",
            "/usr/local/lib/python3.6/dist-packages/Cython/Compiler/Main.py:369: FutureWarning: Cython directive 'language_level' not set, using 2 for now (Py2). This will change in a later release! File: /content/fib.pyx\n",
            "  tree = Parsing.p_module(s, pxd, full_module_name)\n",
            "running build_ext\n",
            "building 'fib' extension\n",
            "x86_64-linux-gnu-gcc -pthread -DNDEBUG -g -fwrapv -O2 -Wall -g -fstack-protector-strong -Wformat -Werror=format-security -Wdate-time -D_FORTIFY_SOURCE=2 -fPIC -I/usr/include/python3.6m -c fib.c -o build/temp.linux-x86_64-3.6/fib.o\n",
            "x86_64-linux-gnu-gcc -pthread -shared -Wl,-O1 -Wl,-Bsymbolic-functions -Wl,-Bsymbolic-functions -Wl,-z,relro -Wl,-Bsymbolic-functions -Wl,-z,relro -g -fstack-protector-strong -Wformat -Werror=format-security -Wdate-time -D_FORTIFY_SOURCE=2 build/temp.linux-x86_64-3.6/fib.o -o /content/fib.cpython-36m-x86_64-linux-gnu.so\n"
          ],
          "name": "stdout"
        }
      ]
    },
    {
      "cell_type": "code",
      "metadata": {
        "id": "Hw0pmzkehYbs",
        "colab_type": "code",
        "colab": {
          "base_uri": "https://localhost:8080/",
          "height": 124
        },
        "outputId": "b924a21b-0bab-400c-8a6b-7d0044881c0d"
      },
      "source": [
        "!ls"
      ],
      "execution_count": 37,
      "outputs": [
        {
          "output_type": "stream",
          "text": [
            "build\t\t\t\t\t    helloworld.pyx\n",
            "fib.c\t\t\t\t\t    sample_data\n",
            "fib.cpython-36m-x86_64-linux-gnu.so\t    setup.py\n",
            "fib.pyx\t\t\t\t\t    test.md\n",
            "helloworld.c\t\t\t\t    test.py\n",
            "helloworld.cpython-36m-x86_64-linux-gnu.so\n"
          ],
          "name": "stdout"
        }
      ]
    },
    {
      "cell_type": "code",
      "metadata": {
        "id": "cD8gc7HUhdOo",
        "colab_type": "code",
        "colab": {}
      },
      "source": [
        "import fib"
      ],
      "execution_count": 38,
      "outputs": []
    },
    {
      "cell_type": "code",
      "metadata": {
        "id": "N0hF97Dghfun",
        "colab_type": "code",
        "colab": {}
      },
      "source": [
        "%timeit fib.fib(2000)"
      ],
      "execution_count": null,
      "outputs": []
    },
    {
      "cell_type": "code",
      "metadata": {
        "id": "LY1ZWjXxhlFv",
        "colab_type": "code",
        "colab": {}
      },
      "source": [
        "## Primes example\n"
      ],
      "execution_count": 51,
      "outputs": []
    },
    {
      "cell_type": "code",
      "metadata": {
        "id": "Z_y0nDiemkUX",
        "colab_type": "code",
        "colab": {}
      },
      "source": [
        "def primes_pp(kmax):\n",
        "    # cdef int n, k, i\n",
        "    p = [i for i in range(1000)]\n",
        "    result = []\n",
        "    if kmax > 1000:\n",
        "        kmax = 1000\n",
        "    k = 0\n",
        "    n = 2\n",
        "    while k < kmax:\n",
        "        i = 0\n",
        "        while i < k and n % p[i] != 0:\n",
        "            i = i + 1\n",
        "        if i == k:\n",
        "            p[k] = n\n",
        "            k = k + 1\n",
        "            result.append(n)\n",
        "        n = n + 1\n",
        "    return result"
      ],
      "execution_count": 58,
      "outputs": []
    },
    {
      "cell_type": "code",
      "metadata": {
        "id": "g_oseXpmmnEG",
        "colab_type": "code",
        "colab": {
          "base_uri": "https://localhost:8080/",
          "height": 35
        },
        "outputId": "61fcda82-c6d4-4268-8265-ee2df3080709"
      },
      "source": [
        "%timeit primes_pp(1000)"
      ],
      "execution_count": 59,
      "outputs": [
        {
          "output_type": "stream",
          "text": [
            "10 loops, best of 3: 51.2 ms per loop\n"
          ],
          "name": "stdout"
        }
      ]
    },
    {
      "cell_type": "code",
      "metadata": {
        "id": "bsduRQbenM_I",
        "colab_type": "code",
        "colab": {
          "base_uri": "https://localhost:8080/",
          "height": 179
        },
        "outputId": "ddbdcfea-afb5-408b-80c1-dcc3d0e4787d"
      },
      "source": [
        "!python setup.py build_ext --inplace"
      ],
      "execution_count": 61,
      "outputs": [
        {
          "output_type": "stream",
          "text": [
            "Compiling primes_pp.pyx because it changed.\n",
            "[1/1] Cythonizing primes_pp.pyx\n",
            "/usr/local/lib/python3.6/dist-packages/Cython/Compiler/Main.py:369: FutureWarning: Cython directive 'language_level' not set, using 2 for now (Py2). This will change in a later release! File: /content/primes_pp.pyx\n",
            "  tree = Parsing.p_module(s, pxd, full_module_name)\n",
            "running build_ext\n",
            "building 'primes_pp' extension\n",
            "x86_64-linux-gnu-gcc -pthread -DNDEBUG -g -fwrapv -O2 -Wall -g -fstack-protector-strong -Wformat -Werror=format-security -Wdate-time -D_FORTIFY_SOURCE=2 -fPIC -I/usr/include/python3.6m -c primes_pp.c -o build/temp.linux-x86_64-3.6/primes_pp.o\n",
            "x86_64-linux-gnu-gcc -pthread -shared -Wl,-O1 -Wl,-Bsymbolic-functions -Wl,-Bsymbolic-functions -Wl,-z,relro -Wl,-Bsymbolic-functions -Wl,-z,relro -g -fstack-protector-strong -Wformat -Werror=format-security -Wdate-time -D_FORTIFY_SOURCE=2 build/temp.linux-x86_64-3.6/primes_pp.o -o /content/primes_pp.cpython-36m-x86_64-linux-gnu.so\n"
          ],
          "name": "stdout"
        }
      ]
    },
    {
      "cell_type": "code",
      "metadata": {
        "id": "phcO0sPIoUL0",
        "colab_type": "code",
        "colab": {}
      },
      "source": [
        "import primes_pp"
      ],
      "execution_count": 62,
      "outputs": []
    },
    {
      "cell_type": "code",
      "metadata": {
        "id": "1cBfFvHaoaC5",
        "colab_type": "code",
        "colab": {
          "base_uri": "https://localhost:8080/",
          "height": 35
        },
        "outputId": "deedcdf6-fc43-4c03-8df2-4887c8b064c9"
      },
      "source": [
        "%timeit primes_pp.primes(1000)"
      ],
      "execution_count": 63,
      "outputs": [
        {
          "output_type": "stream",
          "text": [
            "10 loops, best of 3: 28 ms per loop\n"
          ],
          "name": "stdout"
        }
      ]
    },
    {
      "cell_type": "code",
      "metadata": {
        "id": "CNGcqHKiohMb",
        "colab_type": "code",
        "colab": {
          "base_uri": "https://localhost:8080/",
          "height": 179
        },
        "outputId": "e7c7e2de-a001-48af-edd6-4398c5aaca5d"
      },
      "source": [
        "!python setup.py build_ext --inplace"
      ],
      "execution_count": 64,
      "outputs": [
        {
          "output_type": "stream",
          "text": [
            "Compiling primes_td.pyx because it changed.\n",
            "[1/1] Cythonizing primes_td.pyx\n",
            "/usr/local/lib/python3.6/dist-packages/Cython/Compiler/Main.py:369: FutureWarning: Cython directive 'language_level' not set, using 2 for now (Py2). This will change in a later release! File: /content/primes_td.pyx\n",
            "  tree = Parsing.p_module(s, pxd, full_module_name)\n",
            "running build_ext\n",
            "building 'primes_td' extension\n",
            "x86_64-linux-gnu-gcc -pthread -DNDEBUG -g -fwrapv -O2 -Wall -g -fstack-protector-strong -Wformat -Werror=format-security -Wdate-time -D_FORTIFY_SOURCE=2 -fPIC -I/usr/include/python3.6m -c primes_td.c -o build/temp.linux-x86_64-3.6/primes_td.o\n",
            "x86_64-linux-gnu-gcc -pthread -shared -Wl,-O1 -Wl,-Bsymbolic-functions -Wl,-Bsymbolic-functions -Wl,-z,relro -Wl,-Bsymbolic-functions -Wl,-z,relro -g -fstack-protector-strong -Wformat -Werror=format-security -Wdate-time -D_FORTIFY_SOURCE=2 build/temp.linux-x86_64-3.6/primes_td.o -o /content/primes_td.cpython-36m-x86_64-linux-gnu.so\n"
          ],
          "name": "stdout"
        }
      ]
    },
    {
      "cell_type": "code",
      "metadata": {
        "id": "sc9JQlD3pLHO",
        "colab_type": "code",
        "colab": {}
      },
      "source": [
        "import primes_td"
      ],
      "execution_count": 66,
      "outputs": []
    },
    {
      "cell_type": "code",
      "metadata": {
        "id": "dtH5LG1ypXho",
        "colab_type": "code",
        "colab": {
          "base_uri": "https://localhost:8080/",
          "height": 35
        },
        "outputId": "f69289fb-e920-40f1-9dbd-4f3ca2af31a4"
      },
      "source": [
        "%timeit primes_td.primes(1000)"
      ],
      "execution_count": 67,
      "outputs": [
        {
          "output_type": "stream",
          "text": [
            "100 loops, best of 3: 2.08 ms per loop\n"
          ],
          "name": "stdout"
        }
      ]
    },
    {
      "cell_type": "code",
      "metadata": {
        "id": "EQ1sjI9TpmFo",
        "colab_type": "code",
        "colab": {}
      },
      "source": [
        "## Numba JIT"
      ],
      "execution_count": 68,
      "outputs": []
    },
    {
      "cell_type": "code",
      "metadata": {
        "id": "WBt6AbZzqijz",
        "colab_type": "code",
        "colab": {}
      },
      "source": [
        "import numpy as np"
      ],
      "execution_count": 69,
      "outputs": []
    },
    {
      "cell_type": "code",
      "metadata": {
        "id": "E3P9AF0gqleH",
        "colab_type": "code",
        "colab": {}
      },
      "source": [
        "def pairwise_python_pp(X, D):\n",
        "    M = X.shape[0]\n",
        "    N = X.shape[1]\n",
        "    for i in range(M):\n",
        "        for j in range(M):\n",
        "            d = 0.0\n",
        "            for k in range(N):\n",
        "                tmp = X[i, k] - X[j, k]\n",
        "                d += tmp * tmp\n",
        "            D[i, j] = np.sqrt(d)\n",
        "            \n"
      ],
      "execution_count": 74,
      "outputs": []
    },
    {
      "cell_type": "code",
      "metadata": {
        "id": "Jklrl58Oqyyt",
        "colab_type": "code",
        "colab": {}
      },
      "source": [
        "from numba import double\n",
        "from numba.decorators import jit\n",
        "\n",
        "@jit\n",
        "def pairwise_python_nb(X, D):\n",
        "    M = X.shape[0]\n",
        "    N = X.shape[1]\n",
        "    for i in range(M):\n",
        "        for j in range(M):\n",
        "            d = 0.0\n",
        "            for k in range(N):\n",
        "                tmp = X[i, k] - X[j, k]\n",
        "                d += tmp * tmp\n",
        "            D[i, j] = np.sqrt(d)\n",
        "\n"
      ],
      "execution_count": 89,
      "outputs": []
    },
    {
      "cell_type": "code",
      "metadata": {
        "id": "mwxgLJCHrJcR",
        "colab_type": "code",
        "colab": {}
      },
      "source": [
        "X = np.random.random((1000, 3))\n",
        "D = np.empty((1000,1000))"
      ],
      "execution_count": 73,
      "outputs": []
    },
    {
      "cell_type": "code",
      "metadata": {
        "id": "scYozFijrKq1",
        "colab_type": "code",
        "colab": {
          "base_uri": "https://localhost:8080/",
          "height": 35
        },
        "outputId": "615c937a-5fee-4020-b3e4-c77773935510"
      },
      "source": [
        "%timeit pairwise_python_pp(X, D)"
      ],
      "execution_count": 75,
      "outputs": [
        {
          "output_type": "stream",
          "text": [
            "1 loop, best of 3: 3.64 s per loop\n"
          ],
          "name": "stdout"
        }
      ]
    },
    {
      "cell_type": "code",
      "metadata": {
        "id": "Fk91Z131rjUG",
        "colab_type": "code",
        "colab": {
          "base_uri": "https://localhost:8080/",
          "height": 35
        },
        "outputId": "1fed0c93-0d8a-42d7-81f3-1b96e736e294"
      },
      "source": [
        "%timeit pairwise_python_nb (X, D)"
      ],
      "execution_count": 91,
      "outputs": [
        {
          "output_type": "stream",
          "text": [
            "100 loops, best of 3: 4.15 ms per loop\n"
          ],
          "name": "stdout"
        }
      ]
    },
    {
      "cell_type": "code",
      "metadata": {
        "id": "HCw1VJ4yr3zF",
        "colab_type": "code",
        "colab": {}
      },
      "source": [
        "## Numba doesn't understand all python packages"
      ],
      "execution_count": 92,
      "outputs": []
    },
    {
      "cell_type": "code",
      "metadata": {
        "id": "fi8nOCc50D7c",
        "colab_type": "code",
        "colab": {}
      },
      "source": [
        "# Pure python\n",
        "def pandas_ex_pp (a): # Function will not benefit from Numba jit\n",
        "    df = pd.DataFrame.from_dict(a) # Numba doesn't know about pd.DataFrame\n",
        "    df += 1                        # Numba doesn't understand what this is\n",
        "    return df.cov()                # or this!\n"
      ],
      "execution_count": 93,
      "outputs": []
    },
    {
      "cell_type": "code",
      "metadata": {
        "id": "6jOpksD00WLZ",
        "colab_type": "code",
        "colab": {}
      },
      "source": [
        "# Numba version\n",
        "@jit\n",
        "def pandas_ex_nb(a): # Function will not benefit from Numba jit\n",
        "    df = pd.DataFrame.from_dict(a) # Numba doesn't know about pd.DataFrame\n",
        "    df += 1                        # Numba doesn't understand what this is\n",
        "    return df.cov()                # or this!"
      ],
      "execution_count": 94,
      "outputs": []
    },
    {
      "cell_type": "code",
      "metadata": {
        "id": "9QJiTha30g-t",
        "colab_type": "code",
        "colab": {}
      },
      "source": [
        "import pandas as pd"
      ],
      "execution_count": 95,
      "outputs": []
    },
    {
      "cell_type": "code",
      "metadata": {
        "id": "0Ioos_P80qNh",
        "colab_type": "code",
        "colab": {}
      },
      "source": [
        "x = {'a': [1, 2, 3], 'b': [20, 30, 40]}"
      ],
      "execution_count": 96,
      "outputs": []
    },
    {
      "cell_type": "code",
      "metadata": {
        "id": "1Qo-C-Iz0wIe",
        "colab_type": "code",
        "colab": {
          "base_uri": "https://localhost:8080/",
          "height": 73
        },
        "outputId": "b390a2d4-1280-479f-dd94-5c50e01c3c66"
      },
      "source": [
        "%timeit pandas_ex_pp (x)"
      ],
      "execution_count": 97,
      "outputs": [
        {
          "output_type": "stream",
          "text": [
            "The slowest run took 40.34 times longer than the fastest. This could mean that an intermediate result is being cached.\n",
            "1000 loops, best of 3: 1.2 ms per loop\n"
          ],
          "name": "stdout"
        }
      ]
    },
    {
      "cell_type": "code",
      "metadata": {
        "id": "UqFe1Z2S00hI",
        "colab_type": "code",
        "colab": {
          "base_uri": "https://localhost:8080/",
          "height": 586
        },
        "outputId": "391cb49b-b3a7-478a-94c7-8949dfbf8211"
      },
      "source": [
        "%timeit pandas_ex_nb (x)"
      ],
      "execution_count": 98,
      "outputs": [
        {
          "output_type": "stream",
          "text": [
            "<ipython-input-94-53d6f6404b89>:2: NumbaWarning: \n",
            "Compilation is falling back to object mode WITH looplifting enabled because Function \"pandas_ex_nb\" failed type inference due to: non-precise type pyobject\n",
            "[1] During: typing of argument at <ipython-input-94-53d6f6404b89> (4)\n",
            "\n",
            "File \"<ipython-input-94-53d6f6404b89>\", line 4:\n",
            "def pandas_ex_nb(a): # Function will not benefit from Numba jit\n",
            "    df = pd.DataFrame.from_dict(a) # Numba doesn't know about pd.DataFrame\n",
            "    ^\n",
            "\n",
            "  @jit\n",
            "/usr/local/lib/python3.6/dist-packages/numba/object_mode_passes.py:178: NumbaWarning: Function \"pandas_ex_nb\" was compiled in object mode without forceobj=True.\n",
            "\n",
            "File \"<ipython-input-94-53d6f6404b89>\", line 3:\n",
            "@jit\n",
            "def pandas_ex_nb(a): # Function will not benefit from Numba jit\n",
            "^\n",
            "\n",
            "  state.func_ir.loc))\n",
            "/usr/local/lib/python3.6/dist-packages/numba/object_mode_passes.py:188: NumbaDeprecationWarning: \n",
            "Fall-back from the nopython compilation path to the object mode compilation path has been detected, this is deprecated behaviour.\n",
            "\n",
            "For more information visit http://numba.pydata.org/numba-doc/latest/reference/deprecation.html#deprecation-of-object-mode-fall-back-behaviour-when-using-jit\n",
            "\n",
            "File \"<ipython-input-94-53d6f6404b89>\", line 3:\n",
            "@jit\n",
            "def pandas_ex_nb(a): # Function will not benefit from Numba jit\n",
            "^\n",
            "\n",
            "  state.func_ir.loc))\n"
          ],
          "name": "stderr"
        },
        {
          "output_type": "stream",
          "text": [
            "The slowest run took 54.31 times longer than the fastest. This could mean that an intermediate result is being cached.\n",
            "1000 loops, best of 3: 1.22 ms per loop\n"
          ],
          "name": "stdout"
        }
      ]
    },
    {
      "cell_type": "code",
      "metadata": {
        "id": "nL8OguWF08t8",
        "colab_type": "code",
        "colab": {}
      },
      "source": [
        "## Using f2py"
      ],
      "execution_count": 99,
      "outputs": []
    },
    {
      "cell_type": "code",
      "metadata": {
        "id": "NdReysct2-DQ",
        "colab_type": "code",
        "colab": {
          "base_uri": "https://localhost:8080/",
          "height": 53
        },
        "outputId": "89ee8e1a-9207-43d7-c9a8-70c2b1f3e65e"
      },
      "source": [
        "!gfortran"
      ],
      "execution_count": 100,
      "outputs": [
        {
          "output_type": "stream",
          "text": [
            "\u001b[01m\u001b[Kgfortran:\u001b[m\u001b[K \u001b[01;31m\u001b[Kfatal error: \u001b[m\u001b[Kno input files\n",
            "compilation terminated.\n"
          ],
          "name": "stdout"
        }
      ]
    },
    {
      "cell_type": "code",
      "metadata": {
        "id": "OOuBG81b3B2E",
        "colab_type": "code",
        "colab": {
          "base_uri": "https://localhost:8080/",
          "height": 1000
        },
        "outputId": "df96deaf-10c5-4f76-d06f-ef2e552b43a7"
      },
      "source": [
        "!f2py -c fib1.f -m fib1"
      ],
      "execution_count": 102,
      "outputs": [
        {
          "output_type": "stream",
          "text": [
            "\u001b[39mrunning build\u001b[0m\n",
            "\u001b[39mrunning config_cc\u001b[0m\n",
            "\u001b[39munifing config_cc, config, build_clib, build_ext, build commands --compiler options\u001b[0m\n",
            "\u001b[39mrunning config_fc\u001b[0m\n",
            "\u001b[39munifing config_fc, config, build_clib, build_ext, build commands --fcompiler options\u001b[0m\n",
            "\u001b[39mrunning build_src\u001b[0m\n",
            "\u001b[39mbuild_src\u001b[0m\n",
            "\u001b[39mbuilding extension \"fib1\" sources\u001b[0m\n",
            "\u001b[39mf2py options: []\u001b[0m\n",
            "\u001b[39mf2py:> /tmp/tmpmbti80fa/src.linux-x86_64-3.6/fib1module.c\u001b[0m\n",
            "\u001b[39mcreating /tmp/tmpmbti80fa/src.linux-x86_64-3.6\u001b[0m\n",
            "Reading fortran codes...\n",
            "\tReading file 'fib1.f' (format:fix,strict)\n",
            "Post-processing...\n",
            "\tBlock: fib1\n",
            "\t\t\tBlock: fib\n",
            "Post-processing (stage 2)...\n",
            "Building modules...\n",
            "\tBuilding module \"fib1\"...\n",
            "\t\tConstructing wrapper function \"fib\"...\n",
            "\t\t  fib(a,[n])\n",
            "\tWrote C/API module \"fib1\" to file \"/tmp/tmpmbti80fa/src.linux-x86_64-3.6/fib1module.c\"\n",
            "\u001b[39m  adding '/tmp/tmpmbti80fa/src.linux-x86_64-3.6/fortranobject.c' to sources.\u001b[0m\n",
            "\u001b[39m  adding '/tmp/tmpmbti80fa/src.linux-x86_64-3.6' to include_dirs.\u001b[0m\n",
            "\u001b[39mcopying /usr/local/lib/python3.6/dist-packages/numpy/f2py/src/fortranobject.c -> /tmp/tmpmbti80fa/src.linux-x86_64-3.6\u001b[0m\n",
            "\u001b[39mcopying /usr/local/lib/python3.6/dist-packages/numpy/f2py/src/fortranobject.h -> /tmp/tmpmbti80fa/src.linux-x86_64-3.6\u001b[0m\n",
            "\u001b[39mbuild_src: building npy-pkg config files\u001b[0m\n",
            "\u001b[39mrunning build_ext\u001b[0m\n",
            "\u001b[39mcustomize UnixCCompiler\u001b[0m\n",
            "\u001b[39mcustomize UnixCCompiler using build_ext\u001b[0m\n",
            "\u001b[39mget_default_fcompiler: matching types: '['gnu95', 'intel', 'lahey', 'pg', 'absoft', 'nag', 'vast', 'compaq', 'intele', 'intelem', 'gnu', 'g95', 'pathf95', 'nagfor']'\u001b[0m\n",
            "\u001b[39mcustomize Gnu95FCompiler\u001b[0m\n",
            "\u001b[39mFound executable /usr/bin/gfortran\u001b[0m\n",
            "\u001b[39mcustomize Gnu95FCompiler\u001b[0m\n",
            "\u001b[39mcustomize Gnu95FCompiler using build_ext\u001b[0m\n",
            "\u001b[39mbuilding 'fib1' extension\u001b[0m\n",
            "\u001b[39mcompiling C sources\u001b[0m\n",
            "\u001b[39mC compiler: x86_64-linux-gnu-gcc -pthread -DNDEBUG -g -fwrapv -O2 -Wall -g -fstack-protector-strong -Wformat -Werror=format-security -Wdate-time -D_FORTIFY_SOURCE=2 -fPIC\n",
            "\u001b[0m\n",
            "\u001b[39mcreating /tmp/tmpmbti80fa/tmp\u001b[0m\n",
            "\u001b[39mcreating /tmp/tmpmbti80fa/tmp/tmpmbti80fa\u001b[0m\n",
            "\u001b[39mcreating /tmp/tmpmbti80fa/tmp/tmpmbti80fa/src.linux-x86_64-3.6\u001b[0m\n",
            "\u001b[39mcompile options: '-I/tmp/tmpmbti80fa/src.linux-x86_64-3.6 -I/usr/local/lib/python3.6/dist-packages/numpy/core/include -I/usr/include/python3.6m -c'\u001b[0m\n",
            "\u001b[39mx86_64-linux-gnu-gcc: /tmp/tmpmbti80fa/src.linux-x86_64-3.6/fib1module.c\u001b[0m\n",
            "\u001b[39mx86_64-linux-gnu-gcc: /tmp/tmpmbti80fa/src.linux-x86_64-3.6/fortranobject.c\u001b[0m\n",
            "In file included from \u001b[01m\u001b[K/usr/local/lib/python3.6/dist-packages/numpy/core/include/numpy/ndarraytypes.h:1832:0\u001b[m\u001b[K,\n",
            "                 from \u001b[01m\u001b[K/usr/local/lib/python3.6/dist-packages/numpy/core/include/numpy/ndarrayobject.h:12\u001b[m\u001b[K,\n",
            "                 from \u001b[01m\u001b[K/usr/local/lib/python3.6/dist-packages/numpy/core/include/numpy/arrayobject.h:4\u001b[m\u001b[K,\n",
            "                 from \u001b[01m\u001b[K/tmp/tmpmbti80fa/src.linux-x86_64-3.6/fortranobject.h:13\u001b[m\u001b[K,\n",
            "                 from \u001b[01m\u001b[K/tmp/tmpmbti80fa/src.linux-x86_64-3.6/fib1module.c:16\u001b[m\u001b[K:\n",
            "\u001b[01m\u001b[K/usr/local/lib/python3.6/dist-packages/numpy/core/include/numpy/npy_1_7_deprecated_api.h:17:2:\u001b[m\u001b[K \u001b[01;35m\u001b[Kwarning: \u001b[m\u001b[K#warning \"Using deprecated NumPy API, disable it with \" \"#define NPY_NO_DEPRECATED_API NPY_1_7_API_VERSION\" [\u001b[01;35m\u001b[K-Wcpp\u001b[m\u001b[K]\n",
            " #\u001b[01;35m\u001b[Kwarning\u001b[m\u001b[K \"Using deprecated NumPy API, disable it with \" \\\n",
            "  \u001b[01;35m\u001b[K^~~~~~~\u001b[m\u001b[K\n",
            "In file included from \u001b[01m\u001b[K/usr/local/lib/python3.6/dist-packages/numpy/core/include/numpy/ndarraytypes.h:1832:0\u001b[m\u001b[K,\n",
            "                 from \u001b[01m\u001b[K/usr/local/lib/python3.6/dist-packages/numpy/core/include/numpy/ndarrayobject.h:12\u001b[m\u001b[K,\n",
            "                 from \u001b[01m\u001b[K/usr/local/lib/python3.6/dist-packages/numpy/core/include/numpy/arrayobject.h:4\u001b[m\u001b[K,\n",
            "                 from \u001b[01m\u001b[K/tmp/tmpmbti80fa/src.linux-x86_64-3.6/fortranobject.h:13\u001b[m\u001b[K,\n",
            "                 from \u001b[01m\u001b[K/tmp/tmpmbti80fa/src.linux-x86_64-3.6/fortranobject.c:2\u001b[m\u001b[K:\n",
            "\u001b[01m\u001b[K/usr/local/lib/python3.6/dist-packages/numpy/core/include/numpy/npy_1_7_deprecated_api.h:17:2:\u001b[m\u001b[K \u001b[01;35m\u001b[Kwarning: \u001b[m\u001b[K#warning \"Using deprecated NumPy API, disable it with \" \"#define NPY_NO_DEPRECATED_API NPY_1_7_API_VERSION\" [\u001b[01;35m\u001b[K-Wcpp\u001b[m\u001b[K]\n",
            " #\u001b[01;35m\u001b[Kwarning\u001b[m\u001b[K \"Using deprecated NumPy API, disable it with \" \\\n",
            "  \u001b[01;35m\u001b[K^~~~~~~\u001b[m\u001b[K\n",
            "\u001b[01m\u001b[K/tmp/tmpmbti80fa/src.linux-x86_64-3.6/fib1module.c:109:12:\u001b[m\u001b[K \u001b[01;35m\u001b[Kwarning: \u001b[m\u001b[K‘\u001b[01m\u001b[Kf2py_size\u001b[m\u001b[K’ defined but not used [\u001b[01;35m\u001b[K-Wunused-function\u001b[m\u001b[K]\n",
            " static int \u001b[01;35m\u001b[Kf2py_size\u001b[m\u001b[K(PyArrayObject* var, ...)\n",
            "            \u001b[01;35m\u001b[K^~~~~~~~~\u001b[m\u001b[K\n",
            "\u001b[39mcompiling Fortran sources\u001b[0m\n",
            "\u001b[39mFortran f77 compiler: /usr/bin/gfortran -Wall -g -ffixed-form -fno-second-underscore -fPIC -O3 -funroll-loops\n",
            "Fortran f90 compiler: /usr/bin/gfortran -Wall -g -fno-second-underscore -fPIC -O3 -funroll-loops\n",
            "Fortran fix compiler: /usr/bin/gfortran -Wall -g -ffixed-form -fno-second-underscore -Wall -g -fno-second-underscore -fPIC -O3 -funroll-loops\u001b[0m\n",
            "\u001b[39mcompile options: '-I/tmp/tmpmbti80fa/src.linux-x86_64-3.6 -I/usr/local/lib/python3.6/dist-packages/numpy/core/include -I/usr/include/python3.6m -c'\u001b[0m\n",
            "\u001b[39mgfortran:f77: fib1.f\u001b[0m\n",
            "\u001b[39m/usr/bin/gfortran -Wall -g -Wall -g -shared /tmp/tmpmbti80fa/tmp/tmpmbti80fa/src.linux-x86_64-3.6/fib1module.o /tmp/tmpmbti80fa/tmp/tmpmbti80fa/src.linux-x86_64-3.6/fortranobject.o /tmp/tmpmbti80fa/fib1.o -L/usr/lib/gcc/x86_64-linux-gnu/7 -L/usr/lib/gcc/x86_64-linux-gnu/7 -lgfortran -o ./fib1.cpython-36m-x86_64-linux-gnu.so\u001b[0m\n",
            "Removing build directory /tmp/tmpmbti80fa\n"
          ],
          "name": "stdout"
        }
      ]
    },
    {
      "cell_type": "code",
      "metadata": {
        "id": "ttmmRqea4Q6O",
        "colab_type": "code",
        "colab": {
          "base_uri": "https://localhost:8080/",
          "height": 354
        },
        "outputId": "65f59548-4df1-4f70-bbfd-782a98a8f76f"
      },
      "source": [
        "!ls\n"
      ],
      "execution_count": 103,
      "outputs": [
        {
          "output_type": "stream",
          "text": [
            "build\n",
            "fib1.cpython-36m-x86_64-linux-gnu.so\n",
            "fib1.f\n",
            "fib.c\n",
            "fib.cpython-36m-x86_64-linux-gnu.so\n",
            "fib.pyx\n",
            "helloworld.c\n",
            "helloworld.cpython-36m-x86_64-linux-gnu.so\n",
            "helloworld.pyx\n",
            "primes_pp.c\n",
            "primes_pp.cpython-36m-x86_64-linux-gnu.so\n",
            "primes_pp.pyx\n",
            "primes_td.c\n",
            "primes_td.cpython-36m-x86_64-linux-gnu.so\n",
            "primes_td.pyx\n",
            "sample_data\n",
            "setup.py\n",
            "test.md\n",
            "test.py\n"
          ],
          "name": "stdout"
        }
      ]
    },
    {
      "cell_type": "code",
      "metadata": {
        "id": "bH4yUJlf4yth",
        "colab_type": "code",
        "colab": {}
      },
      "source": [
        "import numpy as np\n",
        "import fib1 as fb"
      ],
      "execution_count": 104,
      "outputs": []
    },
    {
      "cell_type": "code",
      "metadata": {
        "id": "NtWrExEv5KUd",
        "colab_type": "code",
        "colab": {
          "base_uri": "https://localhost:8080/",
          "height": 248
        },
        "outputId": "d0669c05-6f28-437d-f30a-56db536865a6"
      },
      "source": [
        "# Find out about the interface to fb.fib\n",
        "print (fb.fib.__doc__)"
      ],
      "execution_count": 105,
      "outputs": [
        {
          "output_type": "stream",
          "text": [
            "fib(a,[n])\n",
            "\n",
            "Wrapper for ``fib``.\n",
            "\n",
            "Parameters\n",
            "----------\n",
            "a : input rank-1 array('d') with bounds (n)\n",
            "\n",
            "Other Parameters\n",
            "----------------\n",
            "n : input int, optional\n",
            "    Default: len(a)\n",
            "\n"
          ],
          "name": "stdout"
        }
      ]
    },
    {
      "cell_type": "code",
      "metadata": {
        "id": "gXTohBuQ5bWo",
        "colab_type": "code",
        "colab": {}
      },
      "source": [
        "a = np.zeros(14, 'd')\n",
        "fb.fib(a)"
      ],
      "execution_count": 109,
      "outputs": []
    },
    {
      "cell_type": "code",
      "metadata": {
        "id": "E0XizIG16W3V",
        "colab_type": "code",
        "colab": {
          "base_uri": "https://localhost:8080/",
          "height": 35
        },
        "outputId": "1cfa48ed-7f62-4bc7-85a6-5eb17e91afcf"
      },
      "source": [
        "print (a)"
      ],
      "execution_count": 110,
      "outputs": [
        {
          "output_type": "stream",
          "text": [
            "[  0.   1.   1.   2.   3.   5.   8.  13.  21.  34.  55.  89. 144. 233.]\n"
          ],
          "name": "stdout"
        }
      ]
    },
    {
      "cell_type": "code",
      "metadata": {
        "id": "aGUWRPQd6bq7",
        "colab_type": "code",
        "colab": {}
      },
      "source": [
        "fb.fib(a, 6)"
      ],
      "execution_count": 111,
      "outputs": []
    },
    {
      "cell_type": "code",
      "metadata": {
        "id": "BTQN7-Uw6wcA",
        "colab_type": "code",
        "colab": {
          "base_uri": "https://localhost:8080/",
          "height": 35
        },
        "outputId": "d99ad900-d2cc-48d5-aab2-8049e0715795"
      },
      "source": [
        "print (a)"
      ],
      "execution_count": 112,
      "outputs": [
        {
          "output_type": "stream",
          "text": [
            "[  0.   1.   1.   2.   3.   5.   8.  13.  21.  34.  55.  89. 144. 233.]\n"
          ],
          "name": "stdout"
        }
      ]
    },
    {
      "cell_type": "code",
      "metadata": {
        "id": "XeTrgZH-6yV_",
        "colab_type": "code",
        "colab": {
          "base_uri": "https://localhost:8080/",
          "height": 35
        },
        "outputId": "5b131945-768b-4c49-bc85-c87c7bf0034c"
      },
      "source": [
        "a1 = np.zeros(8,'d')\n",
        "fb.fib(a1,3)\n",
        "print (a1)"
      ],
      "execution_count": 116,
      "outputs": [
        {
          "output_type": "stream",
          "text": [
            "[0. 1. 1. 0. 0. 0. 0. 0.]\n"
          ],
          "name": "stdout"
        }
      ]
    },
    {
      "cell_type": "code",
      "metadata": {
        "id": "bzuuUrvQ68p1",
        "colab_type": "code",
        "colab": {
          "base_uri": "https://localhost:8080/",
          "height": 35
        },
        "outputId": "75cd5ea3-03ee-4601-dc74-c2d9ebc436d8"
      },
      "source": [
        "fb.fib(a1,7)\n",
        "print (a1)"
      ],
      "execution_count": 118,
      "outputs": [
        {
          "output_type": "stream",
          "text": [
            "[0. 1. 1. 2. 3. 5. 8. 0.]\n"
          ],
          "name": "stdout"
        }
      ]
    },
    {
      "cell_type": "code",
      "metadata": {
        "id": "tr1bReBH7OHW",
        "colab_type": "code",
        "colab": {}
      },
      "source": [
        ""
      ],
      "execution_count": null,
      "outputs": []
    }
  ]
}
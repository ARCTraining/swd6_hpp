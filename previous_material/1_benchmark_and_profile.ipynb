{
  "nbformat": 4,
  "nbformat_minor": 0,
  "metadata": {
    "colab": {
      "name": "1_benchmark_and_profile.ipynb",
      "provenance": []
    },
    "kernelspec": {
      "name": "python3",
      "display_name": "Python 3"
    }
  },
  "cells": [
    {
      "cell_type": "markdown",
      "metadata": {
        "id": "AWXke92tbLXY",
        "colab_type": "text"
      },
      "source": [
        "# Introduction to benchmarking and profiling"
      ]
    },
    {
      "cell_type": "code",
      "metadata": {
        "id": "WLXYuHCga2Ua",
        "colab_type": "code",
        "colab": {}
      },
      "source": [
        "data = [[90, 62, 33, 78, 82],\n",
        "        [37, 31, 0, 72, 32],\n",
        "        [7, 71, 79, 81, 100],\n",
        "        [33, 50, 66, 81, 71],\n",
        "        [87, 26, 54, 78, 81],\n",
        "        [37, 22, 96, 79, 41],\n",
        "        [88, 75, 100, 19, 88],\n",
        "        [24, 72, 59, 33, 92],\n",
        "        [71, 6, 59, 8, 11],\n",
        "        [89, 76, 65, 12, 13]]"
      ],
      "execution_count": 1,
      "outputs": []
    },
    {
      "cell_type": "code",
      "metadata": {
        "id": "x-flOr7EbQLk",
        "colab_type": "code",
        "colab": {}
      },
      "source": [
        "def sum1d(l):\n",
        "  \"\"\"Compute the sum of a list of numbers\"\"\"\n",
        "  s = 0\n",
        "  for x in l:\n",
        "    s = s + x\n",
        "  \n",
        "  return s\n",
        "\n",
        "def sum2d(ll):\n",
        "  \"\"\"Compute the sum of a list of lists of numbers\"\"\"\n",
        "  s = 0 \n",
        "  for l in ll:\n",
        "    s = s + sum1d(l)\n",
        "\n",
        "  return s"
      ],
      "execution_count": 2,
      "outputs": []
    },
    {
      "cell_type": "code",
      "metadata": {
        "id": "rBCZKnBjci6b",
        "colab_type": "code",
        "colab": {
          "base_uri": "https://localhost:8080/",
          "height": 35
        },
        "outputId": "0ca17ad2-fa4f-446a-b32c-90d64b72a7c0"
      },
      "source": [
        "# Check that this works\n",
        "sum2d(data)"
      ],
      "execution_count": 3,
      "outputs": [
        {
          "output_type": "execute_result",
          "data": {
            "text/plain": [
              "2817"
            ]
          },
          "metadata": {
            "tags": []
          },
          "execution_count": 3
        }
      ]
    },
    {
      "cell_type": "code",
      "metadata": {
        "id": "pX6ofQHzc2Y3",
        "colab_type": "code",
        "colab": {}
      },
      "source": [
        "# Make a meaningfully large dataset\n",
        "big_data = data * 100000"
      ],
      "execution_count": 23,
      "outputs": []
    },
    {
      "cell_type": "code",
      "metadata": {
        "id": "BVSvYGJEdGLc",
        "colab_type": "code",
        "colab": {
          "base_uri": "https://localhost:8080/",
          "height": 35
        },
        "outputId": "723d9b02-b39a-4412-9d38-24d8cd51b3e5"
      },
      "source": [
        "len (big_data)"
      ],
      "execution_count": 5,
      "outputs": [
        {
          "output_type": "execute_result",
          "data": {
            "text/plain": [
              "100000000"
            ]
          },
          "metadata": {
            "tags": []
          },
          "execution_count": 5
        }
      ]
    },
    {
      "cell_type": "code",
      "metadata": {
        "id": "pTZoZ2aydMfw",
        "colab_type": "code",
        "colab": {
          "base_uri": "https://localhost:8080/",
          "height": 35
        },
        "outputId": "73396e93-e4e0-4cd0-a758-1b80370ab2da"
      },
      "source": [
        "len(big_data[0])"
      ],
      "execution_count": 6,
      "outputs": [
        {
          "output_type": "execute_result",
          "data": {
            "text/plain": [
              "5"
            ]
          },
          "metadata": {
            "tags": []
          },
          "execution_count": 6
        }
      ]
    },
    {
      "cell_type": "code",
      "metadata": {
        "id": "J6bALI-idSac",
        "colab_type": "code",
        "colab": {
          "base_uri": "https://localhost:8080/",
          "height": 35
        },
        "outputId": "1837aa22-29d1-4f90-c8af-c273d671273e"
      },
      "source": [
        "# Now confirm that sum2d works again\n",
        "sum2d(big_data)"
      ],
      "execution_count": 7,
      "outputs": [
        {
          "output_type": "execute_result",
          "data": {
            "text/plain": [
              "28170000000"
            ]
          },
          "metadata": {
            "tags": []
          },
          "execution_count": 7
        }
      ]
    },
    {
      "cell_type": "code",
      "metadata": {
        "id": "JEgWQmXgdcfw",
        "colab_type": "code",
        "colab": {
          "base_uri": "https://localhost:8080/",
          "height": 70
        },
        "outputId": "fe9ca536-de1e-46b2-8995-dc68b8b03bf7"
      },
      "source": [
        "# Jupyter functions %time, %timeit to benchmark our code\n",
        "%time sum2d(big_data)"
      ],
      "execution_count": 8,
      "outputs": [
        {
          "output_type": "stream",
          "text": [
            "CPU times: user 31.5 s, sys: 6.72 ms, total: 31.5 s\n",
            "Wall time: 31.5 s\n"
          ],
          "name": "stdout"
        },
        {
          "output_type": "execute_result",
          "data": {
            "text/plain": [
              "28170000000"
            ]
          },
          "metadata": {
            "tags": []
          },
          "execution_count": 8
        }
      ]
    },
    {
      "cell_type": "code",
      "metadata": {
        "id": "8pjWRS_5eeRf",
        "colab_type": "code",
        "colab": {
          "base_uri": "https://localhost:8080/",
          "height": 35
        },
        "outputId": "dcfba512-b22d-435b-ef93-824a20eff806"
      },
      "source": [
        "# Run %time several times with %timeit\n",
        "%timeit sum2d(big_data)"
      ],
      "execution_count": 9,
      "outputs": [
        {
          "output_type": "stream",
          "text": [
            "1 loop, best of 3: 30.9 s per loop\n"
          ],
          "name": "stdout"
        }
      ]
    },
    {
      "cell_type": "code",
      "metadata": {
        "id": "e4at1CmKer_D",
        "colab_type": "code",
        "colab": {}
      },
      "source": [
        "# Find out where the bottlenecks are by doing some profiling...\n",
        "# Easiest way in Jupyter is with %prun magic"
      ],
      "execution_count": 10,
      "outputs": []
    },
    {
      "cell_type": "code",
      "metadata": {
        "id": "yMavjNZffitb",
        "colab_type": "code",
        "colab": {
          "base_uri": "https://localhost:8080/",
          "height": 35
        },
        "outputId": "fe4c1337-8358-45a8-a95d-d52305db8adc"
      },
      "source": [
        "%prun sum2d(big_data)"
      ],
      "execution_count": 11,
      "outputs": [
        {
          "output_type": "stream",
          "text": [
            " "
          ],
          "name": "stdout"
        }
      ]
    },
    {
      "cell_type": "code",
      "metadata": {
        "id": "k3P6pzexfnow",
        "colab_type": "code",
        "colab": {}
      },
      "source": [
        "# We could examine the impact of reducing the number of function calls\n",
        "# Join the two functions together\n",
        "\n",
        "def sum2d_v2(ll):\n",
        "    \"\"\"Compute the sum of a list of lists of numbers.\"\"\"\n",
        "    s = 0\n",
        "    for l in ll:\n",
        "        for x in l:\n",
        "            s += x\n",
        "    return s"
      ],
      "execution_count": 12,
      "outputs": []
    },
    {
      "cell_type": "code",
      "metadata": {
        "id": "F3EkeS1XguU1",
        "colab_type": "code",
        "colab": {
          "base_uri": "https://localhost:8080/",
          "height": 35
        },
        "outputId": "b27e1386-87f2-436d-dedc-f985cf0e8691"
      },
      "source": [
        "%timeit sum2d_v2(big_data)"
      ],
      "execution_count": 13,
      "outputs": [
        {
          "output_type": "stream",
          "text": [
            "1 loop, best of 3: 26.4 s per loop\n"
          ],
          "name": "stdout"
        }
      ]
    },
    {
      "cell_type": "code",
      "metadata": {
        "id": "SaIpDAE4g0Uj",
        "colab_type": "code",
        "colab": {
          "base_uri": "https://localhost:8080/",
          "height": 35
        },
        "outputId": "feaddeac-c4af-49f9-908a-00114736f53c"
      },
      "source": [
        "%prun sum2d_v2(big_data)"
      ],
      "execution_count": 14,
      "outputs": [
        {
          "output_type": "stream",
          "text": [
            " "
          ],
          "name": "stdout"
        }
      ]
    },
    {
      "cell_type": "code",
      "metadata": {
        "id": "SqS54msyhfEl",
        "colab_type": "code",
        "colab": {
          "base_uri": "https://localhost:8080/",
          "height": 356
        },
        "outputId": "fb0ea295-0f60-427d-d135-60939a0cdfae"
      },
      "source": [
        "# Now we need to do some line profiling\n",
        "!pip3 install line_profiler"
      ],
      "execution_count": 18,
      "outputs": [
        {
          "output_type": "stream",
          "text": [
            "Collecting line_profiler\n",
            "\u001b[?25l  Downloading https://files.pythonhosted.org/packages/d8/cc/4237472dd5c9a1a4079a89df7ba3d2924eed2696d68b91886743c728a9df/line_profiler-3.0.2-cp36-cp36m-manylinux2010_x86_64.whl (68kB)\n",
            "\r\u001b[K     |████▊                           | 10kB 16.9MB/s eta 0:00:01\r\u001b[K     |█████████▌                      | 20kB 1.8MB/s eta 0:00:01\r\u001b[K     |██████████████▎                 | 30kB 2.3MB/s eta 0:00:01\r\u001b[K     |███████████████████             | 40kB 2.6MB/s eta 0:00:01\r\u001b[K     |███████████████████████▉        | 51kB 2.0MB/s eta 0:00:01\r\u001b[K     |████████████████████████████▋   | 61kB 2.3MB/s eta 0:00:01\r\u001b[K     |████████████████████████████████| 71kB 2.0MB/s \n",
            "\u001b[?25hRequirement already satisfied: IPython in /usr/local/lib/python3.6/dist-packages (from line_profiler) (5.5.0)\n",
            "Requirement already satisfied: pygments in /usr/local/lib/python3.6/dist-packages (from IPython->line_profiler) (2.1.3)\n",
            "Requirement already satisfied: traitlets>=4.2 in /usr/local/lib/python3.6/dist-packages (from IPython->line_profiler) (4.3.3)\n",
            "Requirement already satisfied: simplegeneric>0.8 in /usr/local/lib/python3.6/dist-packages (from IPython->line_profiler) (0.8.1)\n",
            "Requirement already satisfied: decorator in /usr/local/lib/python3.6/dist-packages (from IPython->line_profiler) (4.4.2)\n",
            "Requirement already satisfied: setuptools>=18.5 in /usr/local/lib/python3.6/dist-packages (from IPython->line_profiler) (49.1.0)\n",
            "Requirement already satisfied: pickleshare in /usr/local/lib/python3.6/dist-packages (from IPython->line_profiler) (0.7.5)\n",
            "Requirement already satisfied: prompt-toolkit<2.0.0,>=1.0.4 in /usr/local/lib/python3.6/dist-packages (from IPython->line_profiler) (1.0.18)\n",
            "Requirement already satisfied: pexpect; sys_platform != \"win32\" in /usr/local/lib/python3.6/dist-packages (from IPython->line_profiler) (4.8.0)\n",
            "Requirement already satisfied: ipython-genutils in /usr/local/lib/python3.6/dist-packages (from traitlets>=4.2->IPython->line_profiler) (0.2.0)\n",
            "Requirement already satisfied: six in /usr/local/lib/python3.6/dist-packages (from traitlets>=4.2->IPython->line_profiler) (1.12.0)\n",
            "Requirement already satisfied: wcwidth in /usr/local/lib/python3.6/dist-packages (from prompt-toolkit<2.0.0,>=1.0.4->IPython->line_profiler) (0.2.5)\n",
            "Requirement already satisfied: ptyprocess>=0.5 in /usr/local/lib/python3.6/dist-packages (from pexpect; sys_platform != \"win32\"->IPython->line_profiler) (0.6.0)\n",
            "Installing collected packages: line-profiler\n",
            "Successfully installed line-profiler-3.0.2\n"
          ],
          "name": "stdout"
        }
      ]
    },
    {
      "cell_type": "code",
      "metadata": {
        "id": "X1AuZ0hEiLT2",
        "colab_type": "code",
        "colab": {}
      },
      "source": [
        "# Tell the notebook it can use line_profiler\n",
        "%load_ext line_profiler"
      ],
      "execution_count": 19,
      "outputs": []
    },
    {
      "cell_type": "code",
      "metadata": {
        "id": "b5BEXz-4ihV7",
        "colab_type": "code",
        "colab": {
          "base_uri": "https://localhost:8080/",
          "height": 73
        },
        "outputId": "fecdb792-a9b7-4abb-962e-e4f4c5f51e3b"
      },
      "source": [
        "# Line profile my new function\n",
        "%lprun -f sum2d_v2(big_data)"
      ],
      "execution_count": 20,
      "outputs": [
        {
          "output_type": "stream",
          "text": [
            "/usr/local/lib/python3.6/dist-packages/line_profiler/line_profiler.py:328: UserWarning: Could not extract a code object for the object 28170000000\n",
            "  profile = LineProfiler(*funcs)\n"
          ],
          "name": "stderr"
        }
      ]
    },
    {
      "cell_type": "code",
      "metadata": {
        "id": "EB5kCma5kgmB",
        "colab_type": "code",
        "colab": {}
      },
      "source": [
        "# Whoops. pebkac"
      ],
      "execution_count": null,
      "outputs": []
    },
    {
      "cell_type": "code",
      "metadata": {
        "id": "G93NabXeklnP",
        "colab_type": "code",
        "colab": {
          "base_uri": "https://localhost:8080/",
          "height": 35
        },
        "outputId": "c24fa5ad-1ab5-4395-ee69-a5b046ed6dc6"
      },
      "source": [
        "%lprun -f sum2d_v2 sum2d_v2(big_data)"
      ],
      "execution_count": 21,
      "outputs": [
        {
          "output_type": "stream",
          "text": [
            "*** KeyboardInterrupt exception caught in code being profiled."
          ],
          "name": "stdout"
        }
      ]
    },
    {
      "cell_type": "code",
      "metadata": {
        "id": "3wQFxOYam69d",
        "colab_type": "code",
        "colab": {}
      },
      "source": [
        "# Firstly, less data\n"
      ],
      "execution_count": 24,
      "outputs": []
    },
    {
      "cell_type": "code",
      "metadata": {
        "id": "VxigNH5znBFK",
        "colab_type": "code",
        "colab": {}
      },
      "source": [
        "# See whether I can improve my summation\n",
        "\n",
        "def sum2d_v3(ll):\n",
        "    \"\"\"Compute the sum of a list of lists of numbers.\"\"\"\n",
        "    s = 0\n",
        "    for l in ll:\n",
        "        x = sum(l)\n",
        "        s += x\n",
        "    return s"
      ],
      "execution_count": 25,
      "outputs": []
    },
    {
      "cell_type": "code",
      "metadata": {
        "id": "Q5TCMazTnduA",
        "colab_type": "code",
        "colab": {
          "base_uri": "https://localhost:8080/",
          "height": 35
        },
        "outputId": "8e9adca3-06a9-45db-a7c4-08485c5094ba"
      },
      "source": [
        "%timeit sum2d_v3(big_data)"
      ],
      "execution_count": 26,
      "outputs": [
        {
          "output_type": "stream",
          "text": [
            "1 loop, best of 3: 181 ms per loop\n"
          ],
          "name": "stdout"
        }
      ]
    },
    {
      "cell_type": "code",
      "metadata": {
        "id": "XD3z6A9aniio",
        "colab_type": "code",
        "colab": {}
      },
      "source": [
        "%lprun -f sum2d_v3 sum2d_v3(big_data)"
      ],
      "execution_count": 27,
      "outputs": []
    },
    {
      "cell_type": "code",
      "metadata": {
        "id": "4HgsIS7rntDG",
        "colab_type": "code",
        "colab": {}
      },
      "source": [
        "# Profiling exercises\n",
        "def primes(n):\n",
        "    if n==2:\n",
        "        return [2]\n",
        "    elif n<2:\n",
        "        return []\n",
        "\n",
        "    s=list(range(3,n+1,2))\n",
        "    mroot = n ** 0.5\n",
        "    half=(n+1)//2-1\n",
        "    i=0\n",
        "    m=3\n",
        "\n",
        "    while m <= mroot:\n",
        "        if s[i]:\n",
        "            j=(m*m-3)//2\n",
        "            s[j]=0\n",
        "            while j<half:\n",
        "                s[j]=0\n",
        "                j+=m\n",
        "        i=i+1\n",
        "        m=2*i+3\n",
        "    return [2]+[x for x in s if x]\n"
      ],
      "execution_count": 28,
      "outputs": []
    },
    {
      "cell_type": "code",
      "metadata": {
        "id": "HQLc6zvTpBEe",
        "colab_type": "code",
        "colab": {
          "base_uri": "https://localhost:8080/",
          "height": 53
        },
        "outputId": "3ef33d90-876f-45bf-dac0-ca1167fbe912"
      },
      "source": [
        "%timeit primes (100)"
      ],
      "execution_count": 36,
      "outputs": [
        {
          "output_type": "stream",
          "text": [
            "The slowest run took 4.33 times longer than the fastest. This could mean that an intermediate result is being cached.\n",
            "100000 loops, best of 3: 5.44 µs per loop\n"
          ],
          "name": "stdout"
        }
      ]
    },
    {
      "cell_type": "code",
      "metadata": {
        "id": "ON9AMIzwpHnU",
        "colab_type": "code",
        "colab": {}
      },
      "source": [
        "# 1. Use profiling to find out where the problems are\n",
        "# 2. Suggest some possible fixes\n",
        "# 3. Do they work?"
      ],
      "execution_count": 30,
      "outputs": []
    },
    {
      "cell_type": "code",
      "metadata": {
        "id": "3rszBeT5ps7C",
        "colab_type": "code",
        "colab": {}
      },
      "source": [
        "%lprun -f primes primes(100)"
      ],
      "execution_count": 32,
      "outputs": []
    },
    {
      "cell_type": "code",
      "metadata": {
        "id": "JdyhC46csC4u",
        "colab_type": "code",
        "colab": {}
      },
      "source": [
        "import math\n",
        "\n",
        "def primes_v2(n):\n",
        "    if n==2:\n",
        "        return [2]\n",
        "    elif n<2:\n",
        "        return []\n",
        "\n",
        "    s=list(range(3,n+1,2))\n",
        "    mroot = math.sqrt(n)\n",
        "    half=(n+1)//2-1\n",
        "    i=0\n",
        "    m=3\n",
        "\n",
        "    while m <= mroot:\n",
        "        if s[i]:\n",
        "            j=(m*m-3)//2\n",
        "            s[j]=0\n",
        "            while j<half:\n",
        "                s[j]=0\n",
        "                j+=m\n",
        "        i=i+1\n",
        "        m=2*i+3\n",
        "    return [2]+[x for x in s if x]"
      ],
      "execution_count": 33,
      "outputs": []
    },
    {
      "cell_type": "code",
      "metadata": {
        "id": "ka61egeIyDKm",
        "colab_type": "code",
        "colab": {
          "base_uri": "https://localhost:8080/",
          "height": 35
        },
        "outputId": "e9484a27-97bd-4749-f3c4-e0791da790ad"
      },
      "source": [
        "%timeit primes_v2(100)"
      ],
      "execution_count": 37,
      "outputs": [
        {
          "output_type": "stream",
          "text": [
            "100000 loops, best of 3: 5.42 µs per loop\n"
          ],
          "name": "stdout"
        }
      ]
    },
    {
      "cell_type": "code",
      "metadata": {
        "id": "PCPnyYG4yKCv",
        "colab_type": "code",
        "colab": {}
      },
      "source": [
        "%lprun -f primes_v2 primes_v2(100)"
      ],
      "execution_count": 38,
      "outputs": []
    },
    {
      "cell_type": "code",
      "metadata": {
        "id": "CbGOEap_yisV",
        "colab_type": "code",
        "colab": {
          "base_uri": "https://localhost:8080/",
          "height": 144
        },
        "outputId": "7dd9ef5d-0d70-4426-e052-3c79e1afe537"
      },
      "source": [
        "# Visualising profiling runs\n",
        "!pip install snakeviz"
      ],
      "execution_count": 39,
      "outputs": [
        {
          "output_type": "stream",
          "text": [
            "Collecting snakeviz\n",
            "\u001b[?25l  Downloading https://files.pythonhosted.org/packages/a2/9a/6c753d20af6f177d3cbdb05a4b2e4419db4ec021c50ba86aa0d13a784a5c/snakeviz-2.1.0-py2.py3-none-any.whl (282kB)\n",
            "\r\u001b[K     |█▏                              | 10kB 13.4MB/s eta 0:00:01\r\u001b[K     |██▎                             | 20kB 1.6MB/s eta 0:00:01\r\u001b[K     |███▌                            | 30kB 2.1MB/s eta 0:00:01\r\u001b[K     |████▋                           | 40kB 2.4MB/s eta 0:00:01\r\u001b[K     |█████▉                          | 51kB 1.9MB/s eta 0:00:01\r\u001b[K     |███████                         | 61kB 2.2MB/s eta 0:00:01\r\u001b[K     |████████▏                       | 71kB 2.4MB/s eta 0:00:01\r\u001b[K     |█████████▎                      | 81kB 2.6MB/s eta 0:00:01\r\u001b[K     |██████████▌                     | 92kB 2.8MB/s eta 0:00:01\r\u001b[K     |███████████▋                    | 102kB 2.7MB/s eta 0:00:01\r\u001b[K     |████████████▉                   | 112kB 2.7MB/s eta 0:00:01\r\u001b[K     |██████████████                  | 122kB 2.7MB/s eta 0:00:01\r\u001b[K     |███████████████                 | 133kB 2.7MB/s eta 0:00:01\r\u001b[K     |████████████████▎               | 143kB 2.7MB/s eta 0:00:01\r\u001b[K     |█████████████████▍              | 153kB 2.7MB/s eta 0:00:01\r\u001b[K     |██████████████████▋             | 163kB 2.7MB/s eta 0:00:01\r\u001b[K     |███████████████████▊            | 174kB 2.7MB/s eta 0:00:01\r\u001b[K     |█████████████████████           | 184kB 2.7MB/s eta 0:00:01\r\u001b[K     |██████████████████████          | 194kB 2.7MB/s eta 0:00:01\r\u001b[K     |███████████████████████▎        | 204kB 2.7MB/s eta 0:00:01\r\u001b[K     |████████████████████████▍       | 215kB 2.7MB/s eta 0:00:01\r\u001b[K     |█████████████████████████▋      | 225kB 2.7MB/s eta 0:00:01\r\u001b[K     |██████████████████████████▊     | 235kB 2.7MB/s eta 0:00:01\r\u001b[K     |███████████████████████████▉    | 245kB 2.7MB/s eta 0:00:01\r\u001b[K     |█████████████████████████████   | 256kB 2.7MB/s eta 0:00:01\r\u001b[K     |██████████████████████████████▏ | 266kB 2.7MB/s eta 0:00:01\r\u001b[K     |███████████████████████████████▍| 276kB 2.7MB/s eta 0:00:01\r\u001b[K     |████████████████████████████████| 286kB 2.7MB/s \n",
            "\u001b[?25hRequirement already satisfied: tornado>=2.0 in /usr/local/lib/python3.6/dist-packages (from snakeviz) (4.5.3)\n",
            "Installing collected packages: snakeviz\n",
            "Successfully installed snakeviz-2.1.0\n"
          ],
          "name": "stdout"
        }
      ]
    },
    {
      "cell_type": "code",
      "metadata": {
        "id": "jHKb7MYwzGHI",
        "colab_type": "code",
        "colab": {}
      },
      "source": [
        "%load_ext snakeviz"
      ],
      "execution_count": 40,
      "outputs": []
    },
    {
      "cell_type": "code",
      "metadata": {
        "id": "NGucn-zQzLI9",
        "colab_type": "code",
        "colab": {
          "base_uri": "https://localhost:8080/",
          "height": 35
        },
        "outputId": "bdf6e9d2-0de7-4b7a-bc63-a1757e47b40e"
      },
      "source": [
        "!ls\n"
      ],
      "execution_count": 41,
      "outputs": [
        {
          "output_type": "stream",
          "text": [
            "sample_data\n"
          ],
          "name": "stdout"
        }
      ]
    },
    {
      "cell_type": "code",
      "metadata": {
        "id": "ZSg7wYwIzVX8",
        "colab_type": "code",
        "colab": {}
      },
      "source": [
        "import glob"
      ],
      "execution_count": 42,
      "outputs": []
    },
    {
      "cell_type": "code",
      "metadata": {
        "id": "0UBgMUI3zXrS",
        "colab_type": "code",
        "colab": {}
      },
      "source": [
        "%snakeviz glob.glob('sample_data/*')"
      ],
      "execution_count": null,
      "outputs": []
    },
    {
      "cell_type": "code",
      "metadata": {
        "id": "eHTMO5Q0zihy",
        "colab_type": "code",
        "colab": {
          "base_uri": "https://localhost:8080/",
          "height": 53
        },
        "outputId": "7bb5289c-31e1-4cf7-892f-5aa164bd76ce"
      },
      "source": [
        "%prun -D primes.prof primes_v2(100)"
      ],
      "execution_count": 46,
      "outputs": [
        {
          "output_type": "stream",
          "text": [
            " \n",
            "*** Profile stats marshalled to file 'primes.prof'. \n"
          ],
          "name": "stdout"
        }
      ]
    },
    {
      "cell_type": "code",
      "metadata": {
        "id": "Q7gT-jaE0IQm",
        "colab_type": "code",
        "colab": {
          "base_uri": "https://localhost:8080/",
          "height": 35
        },
        "outputId": "b7b1ab71-c34d-41a9-9d44-2eb9461fb4da"
      },
      "source": [
        "!ls\n"
      ],
      "execution_count": 47,
      "outputs": [
        {
          "output_type": "stream",
          "text": [
            "primes.prof  sample_data\n"
          ],
          "name": "stdout"
        }
      ]
    },
    {
      "cell_type": "code",
      "metadata": {
        "id": "KepVNNIX0YDx",
        "colab_type": "code",
        "colab": {}
      },
      "source": [
        "%snakeviz primes.prof"
      ],
      "execution_count": null,
      "outputs": []
    },
    {
      "cell_type": "code",
      "metadata": {
        "id": "ejsYIicb0lcM",
        "colab_type": "code",
        "colab": {
          "base_uri": "https://localhost:8080/",
          "height": 1000
        },
        "outputId": "67205ceb-7096-493b-faf4-986bdc913598"
      },
      "source": [
        "from IPython.display import display\n",
        "%snakeviz primes_v2(100)"
      ],
      "execution_count": 51,
      "outputs": [
        {
          "output_type": "stream",
          "text": [
            " \n",
            "*** Profile stats marshalled to file '/tmp/tmp49avhwgq'. \n",
            "Embedding SnakeViz in this document...\n"
          ],
          "name": "stdout"
        },
        {
          "output_type": "display_data",
          "data": {
            "text/html": [
              "\n",
              "<iframe id='snakeviz-293264e0-cb61-11ea-9bbd-0242ac1c0002' frameborder=0 seamless width='100%' height='1000'></iframe>\n",
              "<script>document.getElementById(\"snakeviz-293264e0-cb61-11ea-9bbd-0242ac1c0002\").setAttribute(\"src\", \"http://\" + document.location.hostname + \":8081/snakeviz/%2Ftmp%2Ftmp49avhwgq\")</script>\n"
            ],
            "text/plain": [
              "<IPython.core.display.HTML object>"
            ]
          },
          "metadata": {
            "tags": []
          }
        }
      ]
    },
    {
      "cell_type": "code",
      "metadata": {
        "id": "vLYzuKrP1mDI",
        "colab_type": "code",
        "colab": {}
      },
      "source": [
        ""
      ],
      "execution_count": null,
      "outputs": []
    }
  ]
}
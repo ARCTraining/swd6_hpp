{
 "cells": [
  {
   "cell_type": "markdown",
   "id": "e1f167c0-52a8-4800-9999-0419acc312a8",
   "metadata": {},
   "source": [
    "# Profiling"
   ]
  },
  {
   "cell_type": "markdown",
   "id": "a6ae8044-47c9-4c48-b50d-e3dadb441757",
   "metadata": {},
   "source": [
    "[![Open in Colab](https://colab.research.google.com/assets/colab-badge.svg)](https://colab.research.google.com/github/ARCTraining/swd6_hpp/blob/master/docs/01_profiling.ipynb)"
   ]
  },
  {
   "cell_type": "code",
   "execution_count": 1,
   "id": "49aef6fc-d7fe-45a5-9593-f9092ae02ebe",
   "metadata": {},
   "outputs": [],
   "source": [
    "# if you're using colab, then install the required modules\n",
    "import sys\n",
    "\n",
    "IN_COLAB = \"google.colab\" in sys.modules\n",
    "if IN_COLAB:\n",
    "    %pip install --quiet line_profiler snakeviz pyinstrument eliot eliot-tree"
   ]
  },
  {
   "cell_type": "markdown",
   "id": "c24c725f-0aed-4b26-b2c0-6e02de0ad324",
   "metadata": {},
   "source": [
    "[Profiling](https://jakevdp.github.io/PythonDataScienceHandbook/01.07-timing-and-profiling.html) analyses your code in terms of speed or memory. \n",
    "\n",
    "This helps identify where the bottlenecks are (_why and where is it slow?_) and how much potential there is for improvement."
   ]
  },
  {
   "cell_type": "markdown",
   "id": "04a874e6-e779-4534-bee3-4e0ae763cb0a",
   "metadata": {},
   "source": [
    "```{note}\n",
    "IPython magic commands are useful, commonly used commands in Jupyter Notebooks.  \n",
    "They have one `%` at the start for use on a single line, or two `%%` at the start for use over a whole cell.  \n",
    "```"
   ]
  },
  {
   "cell_type": "markdown",
   "id": "e9c991ec-da35-4765-b919-9a7e2c7fabf3",
   "metadata": {
    "tags": []
   },
   "source": [
    "## [`timeit`](https://ipython.readthedocs.io/en/stable/interactive/magics.html#magic-timeit)\n",
    "\n",
    "An [IPython magic command](https://jakevdp.github.io/PythonDataScienceHandbook/01.03-magic-commands.html) that measures the time execution of an expression. \n",
    "\n",
    "It runs a few times, depending on how intensive the expression is, and returns the average time with a standard deviation. It is useful for benchmarking small code snippets."
   ]
  },
  {
   "cell_type": "markdown",
   "id": "2d427d7f-2e10-4386-ab9a-1354152afded",
   "metadata": {},
   "source": [
    "```{tip}\n",
    "`timeit` is different to `time`, which is a less optimised alternative.  We recommend the use of `timeit`.  \n",
    "```"
   ]
  },
  {
   "cell_type": "code",
   "execution_count": 2,
   "id": "dfe4a003-8f16-451d-8b13-d3556df15eed",
   "metadata": {},
   "outputs": [
    {
     "name": "stdout",
     "output_type": "stream",
     "text": [
      "56.7 ns ± 0.18 ns per loop (mean ± std. dev. of 7 runs, 10,000,000 loops each)\n"
     ]
    }
   ],
   "source": [
    "%timeit range(100)"
   ]
  },
  {
   "cell_type": "code",
   "execution_count": 3,
   "id": "c30554f8-1066-4350-bce7-1ed758da1c45",
   "metadata": {},
   "outputs": [
    {
     "name": "stdout",
     "output_type": "stream",
     "text": [
      "726 ns ± 9.36 ns per loop (mean ± std. dev. of 7 runs, 1,000,000 loops each)\n"
     ]
    }
   ],
   "source": [
    "%%timeit\n",
    "for x in range(100):\n",
    "    pass"
   ]
  },
  {
   "cell_type": "markdown",
   "id": "d0f35ee0-8611-4398-911d-51b81b04bf0d",
   "metadata": {},
   "source": [
    "Another option is:"
   ]
  },
  {
   "cell_type": "markdown",
   "id": "7f879806-bf28-44e0-8c53-6b72d640f3de",
   "metadata": {
    "tags": []
   },
   "source": [
    "## [`line_profiler`](https://github.com/pyutils/line_profiler)\n",
    "\n",
    "This is module that measures the time spent in each line of a function. A simple example:"
   ]
  },
  {
   "cell_type": "code",
   "execution_count": 4,
   "id": "19304421-9f5a-483e-92eb-5ac32a2f7be2",
   "metadata": {},
   "outputs": [],
   "source": [
    "%load_ext line_profiler"
   ]
  },
  {
   "cell_type": "code",
   "execution_count": 5,
   "id": "fa6b7bee-588b-46f5-a7fd-46b471c9d58c",
   "metadata": {},
   "outputs": [],
   "source": [
    "import time\n",
    "\n",
    "\n",
    "def relax():\n",
    "    pass\n",
    "\n",
    "\n",
    "def bottleneck():\n",
    "    time.sleep(0.001)\n",
    "\n",
    "\n",
    "def some_function():\n",
    "    nums = [num for num in range(1_000)]\n",
    "    bigger_nums = [num**2 for num in nums]\n",
    "    bottleneck()\n",
    "    bigger_nums.extend(bigger_nums)\n",
    "    relax()"
   ]
  },
  {
   "cell_type": "markdown",
   "id": "dfa0f9dc-099e-46d2-b584-9751694c4ec9",
   "metadata": {},
   "source": [
    "The `Timer unit` is the conversion to seconds.  \n",
    "\n",
    "The table shows the following columns for each line of the function (each row):  \n",
    "- `Line #`: The line number.\n",
    "- `Hits`: The number of times that line was called.\n",
    "- `Time`: The total time spent calling that line (in the `Timer units`).\n",
    "- `Per Hit`: The time spent for one call of that line.\n",
    "- `% Time`: The percentage of total time spent on that line (this is the often the most useful column).\n",
    "- `Line Contents`: The source code for that line."
   ]
  },
  {
   "cell_type": "code",
   "execution_count": 6,
   "id": "015b9b11-0da5-4ba7-91fc-9427752a7360",
   "metadata": {},
   "outputs": [],
   "source": [
    "%lprun -f some_function some_function()"
   ]
  },
  {
   "cell_type": "markdown",
   "id": "38438a6a-aa4a-4509-b458-cc591edf47a0",
   "metadata": {},
   "source": [
    "```{note}\n",
    "In Colab, the results will pop up at the bottom under \"Help\", rather than inline like we have for a local Jupyter Notebook.\n",
    "```"
   ]
  },
  {
   "cell_type": "markdown",
   "id": "7b80dfb8-2796-4cd3-8a47-19317971652b",
   "metadata": {},
   "source": [
    "We can see that most of the time was in the `bottleneck()` call, highlighting the potential here for possible improvements."
   ]
  },
  {
   "cell_type": "markdown",
   "id": "452482a7-70b5-48b5-82fc-0f6513673de5",
   "metadata": {
    "tags": []
   },
   "source": [
    "## [`SnakeViz`](https://jiffyclub.github.io/snakeviz/)\n",
    "\n",
    "`SnakeViz` visualises the output from `cProfile` in nice interactive plots.\n",
    "\n",
    "[`cProfile`](https://docs.python.org/3/library/profile.html) is part of the Python standard library. It's a deterministic profiler of wallclock time (producing the same output for the same input).  It is for serial code (not parallel, which we'll cover later).  \n",
    "\n",
    "However, the output has lots of tabular information that isn't ideal.  Every function call gets measured in seconds (each row). For example:"
   ]
  },
  {
   "cell_type": "code",
   "execution_count": 7,
   "id": "2c761faa-9cea-4631-b107-97f36c8db947",
   "metadata": {},
   "outputs": [],
   "source": [
    "import cProfile"
   ]
  },
  {
   "cell_type": "code",
   "execution_count": 8,
   "id": "d8b10e06-cbb9-4c26-948a-e118a64b6d4d",
   "metadata": {},
   "outputs": [
    {
     "name": "stdout",
     "output_type": "stream",
     "text": [
      "         10 function calls in 0.001 seconds\n",
      "\n",
      "   Ordered by: standard name\n",
      "\n",
      "   ncalls  tottime  percall  cumtime  percall filename:lineno(function)\n",
      "        1    0.000    0.000    0.001    0.001 3630047074.py:12(some_function)\n",
      "        1    0.000    0.000    0.000    0.000 3630047074.py:13(<listcomp>)\n",
      "        1    0.000    0.000    0.000    0.000 3630047074.py:14(<listcomp>)\n",
      "        1    0.000    0.000    0.000    0.000 3630047074.py:4(relax)\n",
      "        1    0.000    0.000    0.001    0.001 3630047074.py:8(bottleneck)\n",
      "        1    0.000    0.000    0.001    0.001 <string>:1(<module>)\n",
      "        1    0.000    0.000    0.001    0.001 {built-in method builtins.exec}\n",
      "        1    0.001    0.001    0.001    0.001 {built-in method time.sleep}\n",
      "        1    0.000    0.000    0.000    0.000 {method 'disable' of '_lsprof.Profiler' objects}\n",
      "        1    0.000    0.000    0.000    0.000 {method 'extend' of 'list' objects}\n",
      "\n",
      "\n"
     ]
    }
   ],
   "source": [
    "cProfile.run(\"some_function()\")"
   ]
  },
  {
   "cell_type": "markdown",
   "id": "b7315479-2804-4ca2-a917-19a78cb496ee",
   "metadata": {},
   "source": [
    "Instead, visualising this output in `SnakeViz` is easier to interpret.\n",
    "\n",
    "You can switch between the two styles using the \"Style\" dropdown.\n",
    "\n",
    "**Style: Icicle**\n",
    "\n",
    "- Functions are represented by rectangles.\n",
    "- The root function is the _top-most rectangle_, with functions it calls below it, then the functions those call below them, and so on.\n",
    "- The amount of time spent inside a function is represented by the width of the rectangle.\n",
    "    - A big rectangle that stretches across most of the visualization represents a function that is taking up most of the time of its calling function, while a small rectangle represents a function that is using hardly any time at all.\n",
    "\n",
    "**Style: Sunburst**\n",
    "\n",
    "- Functions are represented by arcs.\n",
    "- The root function is the _centre circle_, with functions it calls around it, then the functions those functions call around that, and so on. \n",
    "- The amount of time spent inside a function is represented by how far around the circle the arc goes.\n",
    "    - An big arc that wraps most of the way around the circle represents a function that is taking up most of the time of its calling function, while a small arc represents a function that is using hardly any time at all."
   ]
  },
  {
   "cell_type": "markdown",
   "id": "4a8743b0-7507-4b47-a482-06c5e13db38a",
   "metadata": {},
   "source": [
    "```{warning}\n",
    "`SnakeViz` doesn't currently work with Colab. Please, see the demonstrators results or use it in a local Jupyter Notebook.\n",
    "```"
   ]
  },
  {
   "cell_type": "code",
   "execution_count": 9,
   "id": "f7ca3dec-e4cf-4224-bb53-bc574d3c12e9",
   "metadata": {},
   "outputs": [],
   "source": [
    "%load_ext snakeviz"
   ]
  },
  {
   "cell_type": "code",
   "execution_count": 10,
   "id": "7b40c61a-2567-4f4c-af36-5a74dbb32687",
   "metadata": {},
   "outputs": [],
   "source": [
    "# %%snakeviz\n",
    "# some_function()"
   ]
  },
  {
   "cell_type": "markdown",
   "id": "e0bb8bdf-622b-4df7-bf82-5dbdcf16ead0",
   "metadata": {},
   "source": [
    "## [`pyinstrument`](https://pyinstrument.readthedocs.io/en/latest/home.html)\n",
    "\n",
    "A statistical profiler of wall-clock time (recording the call stack every 1ms), lowering the overhead compared to tracing profilers (like `cProfile`).\n",
    "\n",
    "It hides library frames and fast functions, so you can focus on the slow parts of your code.\n",
    "\n",
    "The output shows a tree of actions of *how* the function executes, using a traffic light colour legend (i.e., red = slow)."
   ]
  },
  {
   "cell_type": "code",
   "execution_count": 11,
   "id": "c8a93895-c394-4485-a567-0f59aad35ad6",
   "metadata": {},
   "outputs": [],
   "source": [
    "%load_ext pyinstrument"
   ]
  },
  {
   "cell_type": "code",
   "execution_count": 12,
   "id": "96600a3d-27a5-4632-9a20-beae74cf5d39",
   "metadata": {},
   "outputs": [
    {
     "data": {
      "text/html": [
       "\n",
       "        <iframe\n",
       "            width=\"100%\"\n",
       "            height=\"400\"\n",
       "            src=\"data:text/html, Loading…\"\n",
       "            frameborder=\"0\"\n",
       "            allowfullscreen\n",
       "            style=\"resize: vertical\" srcdoc=\"&lt;!DOCTYPE html&gt;\n",
       "            &lt;html&gt;\n",
       "            &lt;head&gt;\n",
       "                &lt;meta charset=&quot;utf-8&quot;&gt;\n",
       "            &lt;/head&gt;\n",
       "            &lt;body&gt;\n",
       "                &lt;div id=&quot;app&quot;&gt;&lt;/div&gt;\n",
       "\n",
       "                &lt;script&gt;var pyinstrumentHTMLRenderer=function(){&quot;use strict&quot;;var is=Object.defineProperty;var ns=(F,ve,Pe)=&gt;ve in F?is(F,ve,{enumerable:!0,configurable:!0,writable:!0,value:Pe}):F[ve]=Pe;var A=(F,ve,Pe)=&gt;ns(F,typeof ve!=&quot;symbol&quot;?ve+&quot;&quot;:ve,Pe);function F(){}function ve(i){return i()}function Pe(){return Object.create(null)}function oe(i){i.forEach(ve)}function pt(i){return typeof i==&quot;function&quot;}function re(i,e){return i!=i?e==e:i!==e||i&amp;&amp;typeof i==&quot;object&quot;||typeof i==&quot;function&quot;}function ki(i){return Object.keys(i).length===0}function St(i,...e){if(i==null){for(const n of e)n(void 0);return F}const t=i.subscribe(...e);return t.unsubscribe?()=&gt;t.unsubscribe():t}function ge(i,e,t){i.$$.on_destroy.push(St(e,t))}function Ci(i,e,t){return i.set(t),e}function u(i,e){i.appendChild(e)}function S(i,e,t){i.insertBefore(e,t||null)}function L(i){i.parentNode&amp;&amp;i.parentNode.removeChild(i)}function h(i){return document.createElement(i)}function V(i){return document.createElementNS(&quot;http://www.w3.org/2000/svg&quot;,i)}function I(i){return document.createTextNode(i)}function b(){return I(&quot; &quot;)}function Mi(){return I(&quot;&quot;)}function N(i,e,t,n){return i.addEventListener(e,t,n),()=&gt;i.removeEventListener(e,t,n)}function vt(i){return function(e){return e.preventDefault(),i.call(this,e)}}function gt(i){return function(e){return e.stopPropagation(),i.call(this,e)}}function a(i,e,t){t==null?i.removeAttribute(e):i.getAttribute(e)!==t&amp;&amp;i.setAttribute(e,t)}function _t(i){let e;return{p(...t){e=t,e.forEach(n=&gt;i.push(n))},r(){e.forEach(t=&gt;i.splice(i.indexOf(t),1))}}}function Fi(i){return Array.from(i.childNodes)}function _e(i,e){e=&quot;&quot;+e,i.data!==e&amp;&amp;(i.data=e)}function ae(i,e){i.value=e??&quot;&quot;}function j(i,e,t,n){t==null?i.style.removeProperty(e):i.style.setProperty(e,t,&quot;&quot;)}function Ee(i,e,t){i.classList.toggle(e,!!t)}function Pi(i,e,{bubbles:t=!1,cancelable:n=!1}={}){return new CustomEvent(i,{detail:e,bubbles:t,cancelable:n})}class Ri{constructor(e=!1){A(this,&quot;is_svg&quot;,!1);A(this,&quot;e&quot;);A(this,&quot;n&quot;);A(this,&quot;t&quot;);A(this,&quot;a&quot;);this.is_svg=e,this.e=this.n=null}c(e){this.h(e)}m(e,t,n=null){this.e||(this.is_svg?this.e=V(t.nodeName):this.e=h(t.nodeType===11?&quot;TEMPLATE&quot;:t.nodeName),this.t=t.tagName!==&quot;TEMPLATE&quot;?t:t.content,this.c(e)),this.i(n)}h(e){this.e.innerHTML=e,this.n=Array.from(this.e.nodeName===&quot;TEMPLATE&quot;?this.e.content.childNodes:this.e.childNodes)}i(e){for(let t=0;t&lt;this.n.length;t+=1)S(this.t,this.n[t],e)}p(e){this.d(),this.h(e),this.i(this.a)}d(){this.n.forEach(L)}}let Ye;function Xe(i){Ye=i}function wt(){if(!Ye)throw new Error(&quot;Function called outside component initialization&quot;);return Ye}function bt(i){wt().$$.on_mount.push(i)}function Ii(i){wt().$$.on_destroy.push(i)}function Li(){const i=wt();return(e,t,{cancelable:n=!1}={})=&gt;{const s=i.$$.callbacks[e];if(s){const l=Pi(e,t,{cancelable:n});return s.slice().forEach(r=&gt;{r.call(i,l)}),!l.defaultPrevented}return!0}}const Se=[],ke=[];let De=[];const Dt=[],Si=Promise.resolve();let yt=!1;function Di(){yt||(yt=!0,Si.then(Ht))}function Tt(i){De.push(i)}const At=new Set;let He=0;function Ht(){if(He!==0)return;const i=Ye;do{try{for(;He&lt;Se.length;){const e=Se[He];He++,Xe(e),Hi(e.$$)}}catch(e){throw Se.length=0,He=0,e}for(Xe(null),Se.length=0,He=0;ke.length;)ke.pop()();for(let e=0;e&lt;De.length;e+=1){const t=De[e];At.has(t)||(At.add(t),t())}De.length=0}while(Se.length);for(;Dt.length;)Dt.pop()();yt=!1,At.clear(),Xe(i)}function Hi(i){if(i.fragment!==null){i.update(),oe(i.before_update);const e=i.dirty;i.dirty=[-1],i.fragment&amp;&amp;i.fragment.p(i.ctx,e),i.after_update.forEach(Tt)}}function Oi(i){const e=[],t=[];De.forEach(n=&gt;i.indexOf(n)===-1?e.push(n):t.push(n)),t.forEach(n=&gt;n()),De=e}const nt=new Set;let Re;function Oe(){Re={r:0,c:[],p:Re}}function Ve(){Re.r||oe(Re.c),Re=Re.p}function D(i,e){i&amp;&amp;i.i&amp;&amp;(nt.delete(i),i.i(e))}function x(i,e,t,n){if(i&amp;&amp;i.o){if(nt.has(i))return;nt.add(i),Re.c.push(()=&gt;{nt.delete(i),n&amp;&amp;(t&amp;&amp;i.d(1),n())}),i.o(e)}else n&amp;&amp;n()}function Ot(i){return(i==null?void 0:i.length)!==void 0?i:Array.from(i)}function Vi(i,e){x(i,1,1,()=&gt;{e.delete(i.key)})}function Ni(i,e,t,n,s,l,r,o,c,d,v,p){let m=i.length,f=l.length,g=m;const w={};for(;g--;)w[i[g].key]=g;const E=[],C=new Map,y=new Map,k=[];for(g=f;g--;){const M=p(s,l,g),_=t(M);let T=r.get(_);T?k.push(()=&gt;T.p(M,e)):(T=d(_,M),T.c()),C.set(_,E[g]=T),_ in w&amp;&amp;y.set(_,Math.abs(g-w[_]))}const H=new Set,W=new Set;function P(M){D(M,1),M.m(o,v),r.set(M.key,M),v=M.first,f--}for(;m&amp;&amp;f;){const M=E[f-1],_=i[m-1],T=M.key,R=_.key;M===_?(v=M.first,m--,f--):C.has(R)?!r.has(T)||H.has(T)?P(M):W.has(R)?m--:y.get(T)&gt;y.get(R)?(W.add(T),P(M)):(H.add(R),m--):(c(_,r),m--)}for(;m--;){const M=i[m];C.has(M.key)||c(M,r)}for(;f;)P(E[f-1]);return oe(k),E}function we(i){i&amp;&amp;i.c()}function ce(i,e,t){const{fragment:n,after_update:s}=i.$$;n&amp;&amp;n.m(e,t),Tt(()=&gt;{const l=i.$$.on_mount.map(ve).filter(pt);i.$$.on_destroy?i.$$.on_destroy.push(...l):oe(l),i.$$.on_mount=[]}),s.forEach(Tt)}function ue(i,e){const t=i.$$;t.fragment!==null&amp;&amp;(Oi(t.after_update),oe(t.on_destroy),t.fragment&amp;&amp;t.fragment.d(e),t.on_destroy=t.fragment=null,t.ctx=[])}function xi(i,e){i.$$.dirty[0]===-1&amp;&amp;(Se.push(i),Di(),i.$$.dirty.fill(0)),i.$$.dirty[e/31|0]|=1&lt;&lt;e%31}function de(i,e,t,n,s,l,r=null,o=[-1]){const c=Ye;Xe(i);const d=i.$$={fragment:null,ctx:[],props:l,update:F,not_equal:s,bound:Pe(),on_mount:[],on_destroy:[],on_disconnect:[],before_update:[],after_update:[],context:new Map(e.context||(c?c.$$.context:[])),callbacks:Pe(),dirty:o,skip_bound:!1,root:e.target||c.$$.root};r&amp;&amp;r(d.root);let v=!1;if(d.ctx=t?t(i,e.props||{},(p,m,...f)=&gt;{const g=f.length?f[0]:m;return d.ctx&amp;&amp;s(d.ctx[p],d.ctx[p]=g)&amp;&amp;(!d.skip_bound&amp;&amp;d.bound[p]&amp;&amp;d.bound[p](g),v&amp;&amp;xi(i,p)),m}):[],d.update(),v=!0,oe(d.before_update),d.fragment=n?n(d.ctx):!1,e.target){if(e.hydrate){const p=Fi(e.target);d.fragment&amp;&amp;d.fragment.l(p),p.forEach(L)}else d.fragment&amp;&amp;d.fragment.c();e.intro&amp;&amp;D(i.$$.fragment),ce(i,e.target,e.anchor),Ht()}Xe(c)}class fe{constructor(){A(this,&quot;$$&quot;);A(this,&quot;$$set&quot;)}$destroy(){ue(this,1),this.$destroy=F}$on(e,t){if(!pt(t))return F;const n=this.$$.callbacks[e]||(this.$$.callbacks[e]=[]);return n.push(t),()=&gt;{const s=n.indexOf(t);s!==-1&amp;&amp;n.splice(s,1)}}$set(e){this.$$set&amp;&amp;!ki(e)&amp;&amp;(this.$$.skip_bound=!0,this.$$set(e),this.$$.skip_bound=!1)}}const $i=&quot;4&quot;;typeof window&lt;&quot;u&quot;&amp;&amp;(window.__svelte||(window.__svelte={v:new Set})).v.add($i);function Bi(i){let e,t;return{c(){e=V(&quot;svg&quot;),t=V(&quot;path&quot;),a(t,&quot;fill-rule&quot;,&quot;evenodd&quot;),a(t,&quot;clip-rule&quot;,&quot;evenodd&quot;),a(t,&quot;d&quot;,&quot;M5.11634 0.889422C4.86506 -0.296474 3.17237 -0.296474 2.92109 0.889422C2.78291 1.54158 2.10994 1.93011 1.47607 1.72371C0.323418 1.34837 -0.522932 2.81429 0.378448 3.62484C0.87414 4.07059 0.87414 4.84767 0.378448 5.29341C-0.522931 6.10397 0.323418 7.56989 1.47607 7.19455C2.10994 6.98814 2.78291 7.37668 2.92109 8.02883C3.17237 9.21473 4.86506 9.21473 5.11634 8.02883C5.25452 7.37668 5.92749 6.98814 6.56136 7.19455C7.71401 7.56989 8.56036 6.10397 7.65898 5.29341C7.16329 4.84767 7.16329 4.07059 7.65898 3.62484C8.56036 2.81429 7.71401 1.34837 6.56136 1.72371C5.92749 1.93011 5.25452 1.54158 5.11634 0.889422ZM4.01883 6.33408C5.05436 6.33408 5.89383 5.49462 5.89383 4.45908C5.89383 3.42355 5.05436 2.58408 4.01883 2.58408C2.98329 2.58408 2.14383 3.42355 2.14383 4.45908C2.14383 5.49462 2.98329 6.33408 4.01883 6.33408Z&quot;),a(t,&quot;fill&quot;,&quot;currentColor&quot;),a(e,&quot;width&quot;,&quot;9&quot;),a(e,&quot;height&quot;,&quot;9&quot;),a(e,&quot;viewBox&quot;,&quot;0 0 9 9&quot;),a(e,&quot;fill&quot;,&quot;none&quot;),a(e,&quot;xmlns&quot;,&quot;http://www.w3.org/2000/svg&quot;)},m(n,s){S(n,e,s),u(e,t)},p:F,i:F,o:F,d(n){n&amp;&amp;L(e)}}}class zi extends fe{constructor(e){super(),de(this,e,null,Bi,re,{})}}function Wi(i){let e,t,n,s,l,r,o,c,d,v,p,m,f,g,w,E,C;return{c(){e=V(&quot;svg&quot;),t=V(&quot;g&quot;),n=V(&quot;path&quot;),s=V(&quot;path&quot;),l=V(&quot;defs&quot;),r=V(&quot;filter&quot;),o=V(&quot;feFlood&quot;),c=V(&quot;feBlend&quot;),d=V(&quot;feGaussianBlur&quot;),v=V(&quot;linearGradient&quot;),p=V(&quot;stop&quot;),m=V(&quot;stop&quot;),f=V(&quot;stop&quot;),g=V(&quot;linearGradient&quot;),w=V(&quot;stop&quot;),E=V(&quot;stop&quot;),C=V(&quot;stop&quot;),a(n,&quot;fill-rule&quot;,&quot;evenodd&quot;),a(n,&quot;clip-rule&quot;,&quot;evenodd&quot;),a(n,&quot;d&quot;,&quot;M30 9H10V11.5H30V9ZM30 19H12.5V21.5H30V19ZM12.5 14H32.5V16.5H12.5V14ZM20 24H12.5V26.5H20V24ZM12.5 29H20V31.5H12.5V29ZM22.5 34H10V36.5H22.5V34Z&quot;),a(n,&quot;fill&quot;,&quot;url(#paint0_linear_67_262)&quot;),a(t,&quot;opacity&quot;,&quot;0.5&quot;),a(t,&quot;filter&quot;,&quot;url(#filter0_f_67_262)&quot;),a(s,&quot;fill-rule&quot;,&quot;evenodd&quot;),a(s,&quot;clip-rule&quot;,&quot;evenodd&quot;),a(s,&quot;d&quot;,&quot;M30 9H10V11.5H30V9ZM30 19H12.5V21.5H30V19ZM12.5 14H32.5V16.5H12.5V14ZM20 24H12.5V26.5H20V24ZM12.5 29H20V31.5H12.5V29ZM22.5 34H10V36.5H22.5V34Z&quot;),a(s,&quot;fill&quot;,&quot;url(#paint1_linear_67_262)&quot;),a(o,&quot;flood-opacity&quot;,&quot;0&quot;),a(o,&quot;result&quot;,&quot;BackgroundImageFix&quot;),a(c,&quot;mode&quot;,&quot;normal&quot;),a(c,&quot;in&quot;,&quot;SourceGraphic&quot;),a(c,&quot;in2&quot;,&quot;BackgroundImageFix&quot;),a(c,&quot;result&quot;,&quot;shape&quot;),a(d,&quot;stdDeviation&quot;,&quot;3.39785&quot;),a(d,&quot;result&quot;,&quot;effect1_foregroundBlur_67_262&quot;),a(r,&quot;id&quot;,&quot;filter0_f_67_262&quot;),a(r,&quot;x&quot;,&quot;3.2043&quot;),a(r,&quot;y&quot;,&quot;2.2043&quot;),a(r,&quot;width&quot;,&quot;36.0914&quot;),a(r,&quot;height&quot;,&quot;41.0914&quot;),a(r,&quot;filterUnits&quot;,&quot;userSpaceOnUse&quot;),a(r,&quot;color-interpolation-filters&quot;,&quot;sRGB&quot;),a(p,&quot;stop-color&quot;,&quot;#FFAA00&quot;),a(m,&quot;offset&quot;,&quot;0.514478&quot;),a(m,&quot;stop-color&quot;,&quot;#FFEB00&quot;),a(f,&quot;offset&quot;,&quot;1&quot;),a(f,&quot;stop-color&quot;,&quot;#98FF05&quot;),a(v,&quot;id&quot;,&quot;paint0_linear_67_262&quot;),a(v,&quot;x1&quot;,&quot;7.3769&quot;),a(v,&quot;y1&quot;,&quot;18.4566&quot;),a(v,&quot;x2&quot;,&quot;20.6583&quot;),a(v,&quot;y2&quot;,&quot;33.1038&quot;),a(v,&quot;gradientUnits&quot;,&quot;userSpaceOnUse&quot;),a(w,&quot;stop-color&quot;,&quot;#FFC834&quot;),a(E,&quot;offset&quot;,&quot;0.514478&quot;),a(E,&quot;stop-color&quot;,&quot;#FAF534&quot;),a(C,&quot;offset&quot;,&quot;1&quot;),a(C,&quot;stop-color&quot;,&quot;#B8FF38&quot;),a(g,&quot;id&quot;,&quot;paint1_linear_67_262&quot;),a(g,&quot;x1&quot;,&quot;7.3769&quot;),a(g,&quot;y1&quot;,&quot;18.4566&quot;),a(g,&quot;x2&quot;,&quot;20.6583&quot;),a(g,&quot;y2&quot;,&quot;33.1038&quot;),a(g,&quot;gradientUnits&quot;,&quot;userSpaceOnUse&quot;),a(e,&quot;width&quot;,&quot;44&quot;),a(e,&quot;height&quot;,&quot;44&quot;),a(e,&quot;viewBox&quot;,&quot;0 0 44 44&quot;),a(e,&quot;fill&quot;,&quot;none&quot;),a(e,&quot;xmlns&quot;,&quot;http://www.w3.org/2000/svg&quot;)},m(y,k){S(y,e,k),u(e,t),u(t,n),u(e,s),u(e,l),u(l,r),u(r,o),u(r,c),u(r,d),u(l,v),u(v,p),u(v,m),u(v,f),u(l,g),u(g,w),u(g,E),u(g,C)},p:F,i:F,o:F,d(y){y&amp;&amp;L(e)}}}class qi extends fe{constructor(e){super(),de(this,e,null,Wi,re,{})}}const Ne=[];function Ui(i,e){return{subscribe:st(i,e).subscribe}}function st(i,e=F){let t;const n=new Set;function s(o){if(re(i,o)&amp;&amp;(i=o,t)){const c=!Ne.length;for(const d of n)d[1](),Ne.push(d,i);if(c){for(let d=0;d&lt;Ne.length;d+=2)Ne[d][0](Ne[d+1]);Ne.length=0}}}function l(o){s(o(i))}function r(o,c=F){const d=[o,c];return n.add(d),n.size===1&amp;&amp;(t=e(s,l)||F),o(i),()=&gt;{n.delete(d),n.size===0&amp;&amp;t&amp;&amp;(t(),t=null)}}return{set:s,update:l,subscribe:r}}function Vt(i,e,t){const n=!Array.isArray(i),s=n?[i]:i;if(!s.every(Boolean))throw new Error(&quot;derived() expects stores as input, got a falsy value&quot;);const l=e.length&lt;2;return Ui(t,(r,o)=&gt;{let c=!1;const d=[];let v=0,p=F;const m=()=&gt;{if(v)return;p();const g=e(n?d[0]:d,r,o);l?r(g):p=pt(g)?g:F},f=s.map((g,w)=&gt;St(g,E=&gt;{d[w]=E,v&amp;=~(1&lt;&lt;w),c&amp;&amp;m()},()=&gt;{v|=1&lt;&lt;w}));return c=!0,m(),function(){oe(f),p(),c=!1}})}var Et={local:{},session:{}};function Yi(i){return i===&quot;local&quot;?localStorage:sessionStorage}function kt(i,e,t){var n,s,l,r,o,c,d,v;t!=null&amp;&amp;t.onError&amp;&amp;console.warn(&quot;onError has been deprecated. Please use onWriteError instead&quot;);const p=(n=t==null?void 0:t.serializer)!=null?n:JSON,m=(s=t==null?void 0:t.storage)!=null?s:&quot;local&quot;,f=(l=t==null?void 0:t.syncTabs)!=null?l:!0,g=(o=(r=t==null?void 0:t.onWriteError)!=null?r:t==null?void 0:t.onError)!=null?o:P=&gt;console.error(`Error when writing value from persisted store &quot;${i}&quot; to ${m}`,P),w=(c=t==null?void 0:t.onParseError)!=null?c:(P,M)=&gt;console.error(`Error when parsing ${P?&#x27;&quot;&#x27;+P+&#x27;&quot;&#x27;:&quot;value&quot;} from persisted store &quot;${i}&quot;`,M),E=(d=t==null?void 0:t.beforeRead)!=null?d:P=&gt;P,C=(v=t==null?void 0:t.beforeWrite)!=null?v:P=&gt;P,y=typeof window&lt;&quot;u&quot;&amp;&amp;typeof document&lt;&quot;u&quot;,k=y?Yi(m):null;function H(P,M){const _=C(M);try{k==null||k.setItem(P,p.stringify(_))}catch(T){g(T)}}function W(){function P(R){try{return p.parse(R)}catch(B){w(R,B)}}const M=k==null?void 0:k.getItem(i);if(M==null)return e;const _=P(M);return _==null?e:E(_)}if(!Et[m][i]){const P=W(),M=st(P,R=&gt;{if(y&amp;&amp;m==&quot;local&quot;&amp;&amp;f){const B=J=&gt;{if(J.key===i&amp;&amp;J.newValue){let $;try{$=p.parse(J.newValue)}catch(ee){w(J.newValue,ee);return}const Le=E($);R(Le)}};return window.addEventListener(&quot;storage&quot;,B),()=&gt;window.removeEventListener(&quot;storage&quot;,B)}}),{subscribe:_,set:T}=M;Et[m][i]={set(R){T(R),H(i,R)},update(R){return M.update(B=&gt;{const J=R(B);return H(i,J),J})},reset(){this.set(e)},subscribe:_}}return Et[m][i]}function Nt(){return{collapseMode:&quot;non-application&quot;,collapseCustomHide:&quot;&quot;,collapseCustomShow:&quot;&quot;,removeImportlib:!0,removeTracebackHide:!0,removePyinstrument:!0,removeIrrelevant:!0,removeIrrelevantThreshold:.001,timeFormat:&quot;absolute&quot;}}const Z=kt(&quot;pyinstrument:viewOptionsCallStack&quot;,Nt(),{syncTabs:!0,beforeRead(i){return{...Nt(),...i}}}),Ge=kt(&quot;pyinstrument:viewOptions&quot;,{viewMode:&quot;call-stack&quot;},{syncTabs:!1}),je=kt(&quot;pyinstrument:viewOptionsTimeline&quot;,{removeImportlib:!0,removeTracebackHide:!0,removePyinstrument:!0,removeIrrelevant:!0,removeIrrelevantThreshold:1e-4},{syncTabs:!0});class Xi extends Error{constructor(e){super(`Unreachable case: ${e}`)}}function Gi(i,e){const t=e*(i.length-1),n=Math.floor(t),s=Math.ceil(t),l=i[n],r=i[s],o=t-n;return Zi(o,{to:[l,r]})}function ji(i,e,t){return i===1/0?(console.warn(&quot;clamp: value is Infinity, returning `max`&quot;,i),t):i===-1/0?(console.warn(&quot;clamp: value is -Infinity, returning `min`&quot;,i),e):Number.isFinite(i)?i&lt;e?e:i&gt;t?t:i:(console.warn(&quot;clamp: value isn&#x27;t finite, returning `min`&quot;,i),e)}function xe(i,e){const{from:t=[0,1],to:n=[0,1]}=e,s=e.clamp||!1;let l=(i-t[0])/(t[1]-t[0])*(n[1]-n[0])+n[0];return s&amp;&amp;(l=ji(l,Math.min(n[0],n[1]),Math.max(n[0],n[1]))),l}function Zi(i,e){return`rgb(\n",
       "      ${xe(i,{from:e.from,to:[e.to[0][0],e.to[1][0]],clamp:e.clamp})},\n",
       "      ${xe(i,{from:e.from,to:[e.to[0][1],e.to[1][1]],clamp:e.clamp})},\n",
       "      ${xe(i,{from:e.from,to:[e.to[0][2],e.to[1][2]],clamp:e.clamp})}\n",
       "    )`}function Ki(i){if(i.substr(0,1)==&quot;#&quot;){var e=(i.length-1)/3,t=[17,1,.062272][e-1];return[Math.round(parseInt(i.substr(1,e),16)*t),Math.round(parseInt(i.substr(1+e,e),16)*t),Math.round(parseInt(i.substr(1+2*e,e),16)*t)]}else return i.split(&quot;(&quot;)[1].split(&quot;)&quot;)[0].split(&quot;,&quot;).map(n=&gt;+n)}function Qi(i,e,t={}){const{ignore:n=[],capture:s=!0}=t,l=window;if(!l)return()=&gt;{};let r=!0,o=!1;const c=f=&gt;n.some(g=&gt;typeof g==&quot;string&quot;?Array.from(document.querySelectorAll(g)).some(w=&gt;w===f.target||f.composedPath().includes(w)):g&amp;&amp;(f.target===g||f.composedPath().includes(g))),d=f=&gt;{if(!(!i||i===f.target||f.composedPath().includes(i))){if(f.detail===0&amp;&amp;(r=!c(f)),!r){r=!0;return}e(f)}},v=f=&gt;{o||(o=!0,setTimeout(()=&gt;{o=!1},0),d(f))},p=f=&gt;{r=!c(f)&amp;&amp;!!(i&amp;&amp;!f.composedPath().includes(i))};return l.addEventListener(&quot;click&quot;,v,{passive:!0,capture:s}),l.addEventListener(&quot;pointerdown&quot;,p,{passive:!0}),()=&gt;{l.removeEventListener(&quot;click&quot;,v,{capture:s}),l.removeEventListener(&quot;pointerdown&quot;,p)}}function Ji(i){const e=document.createElement(&quot;div&quot;);return e.appendChild(document.createTextNode(i)),e.innerHTML}function Ct(i){return Ji(i).replace(/(\\/|\\\\)/g,t=&gt;`${t}&lt;wbr&gt;`)}function en(i,e){if(i.length==0)return null;let t=i[0],n=e(t);for(const s of i){const l=e(s);l&gt;n&amp;&amp;(t=s,n=l)}return t}function ot(){return Math.random().toString(36).substring(2)}function tn(i){let e,t,n,s,l,r,o,c,d,v,p,m,f,g,w,E,C,y,k,H,W,P,M,_,T,R,B,J,$,Le,ee,Q,Y,Ce,q,Qe,Je,le,U,et,te,he,me,be,pe,Te,tt,Ae,K,Be,Me,it,z,O,X,fi,at,hi,mi,ze,Fe,pi,We,ct,vi,gi,ye,_i,wi,qe,ut,bi,Ue,dt,ft,ie,yi,Ti,ht,mt,ne,Ai,Rt,It,Lt,Ei;return Rt=_t(i[5][0]),It=_t(i[5][1]),{c(){e=h(&quot;div&quot;),t=h(&quot;div&quot;),n=h(&quot;div&quot;),n.textContent=&quot;Collapse frames&quot;,s=b(),l=h(&quot;div&quot;),r=h(&quot;div&quot;),o=h(&quot;input&quot;),c=b(),d=h(&quot;label&quot;),v=I(&quot;Library code&quot;),p=b(),m=h(&quot;div&quot;),m.textContent=&quot;Code run from the Python stdlib, a virtualenv, or a conda env will be collapsed.&quot;,f=b(),g=h(&quot;div&quot;),w=h(&quot;input&quot;),E=b(),C=h(&quot;label&quot;),y=I(&quot;Custom&quot;),k=b(),H=h(&quot;div&quot;),W=I(`Regex on the source file path.\n",
       "          `),P=h(&quot;div&quot;),M=h(&quot;label&quot;),M.textContent=&quot;Show&quot;,_=b(),T=h(&quot;input&quot;),R=b(),B=h(&quot;label&quot;),B.textContent=&quot;Hide&quot;,J=b(),$=h(&quot;input&quot;),Le=I(`\n",
       "          If neither match, the library code rule is used.`),ee=b(),Q=h(&quot;div&quot;),Y=h(&quot;input&quot;),Ce=b(),q=h(&quot;label&quot;),Qe=I(&quot;Disabled&quot;),Je=b(),le=h(&quot;div&quot;),U=h(&quot;div&quot;),U.textContent=&quot;Remove frames&quot;,et=b(),te=h(&quot;div&quot;),he=h(&quot;div&quot;),me=h(&quot;input&quot;),be=b(),pe=h(&quot;label&quot;),Te=I(&quot;importlib machinery&quot;),tt=b(),Ae=h(&quot;div&quot;),K=h(&quot;input&quot;),Be=b(),Me=h(&quot;label&quot;),it=I(&quot;Frames declaring __traceback_hide__&quot;),z=b(),O=h(&quot;div&quot;),X=h(&quot;input&quot;),fi=b(),at=h(&quot;label&quot;),hi=I(&quot;pyinstrument frames&quot;),mi=b(),ze=h(&quot;div&quot;),Fe=h(&quot;input&quot;),pi=b(),We=h(&quot;span&quot;),ct=h(&quot;label&quot;),vi=I(&quot;Frames with durations less than&quot;),gi=b(),ye=h(&quot;input&quot;),_i=I(`\n",
       "          % of the total time`),wi=b(),qe=h(&quot;div&quot;),ut=h(&quot;div&quot;),ut.textContent=&quot;Time format&quot;,bi=b(),Ue=h(&quot;div&quot;),dt=h(&quot;div&quot;),ft=h(&quot;label&quot;),ie=h(&quot;input&quot;),yi=I(`\n",
       "          Absolute time in seconds`),Ti=b(),ht=h(&quot;div&quot;),mt=h(&quot;label&quot;),ne=h(&quot;input&quot;),Ai=I(`\n",
       "          Percentage of the total run time`),a(n,&quot;class&quot;,&quot;name svelte-1pecl4m&quot;),a(o,&quot;id&quot;,i[1]+&quot;collapseModeAll&quot;),a(o,&quot;type&quot;,&quot;radio&quot;),o.__value=&quot;non-application&quot;,ae(o,o.__value),a(o,&quot;class&quot;,&quot;svelte-1pecl4m&quot;),a(d,&quot;for&quot;,i[1]+&quot;collapseModeAll&quot;),a(m,&quot;class&quot;,&quot;description svelte-1pecl4m&quot;),a(r,&quot;class&quot;,&quot;option svelte-1pecl4m&quot;),a(w,&quot;id&quot;,i[1]+&quot;collapseModeCustom&quot;),a(w,&quot;type&quot;,&quot;radio&quot;),w.__value=&quot;custom&quot;,ae(w,w.__value),a(w,&quot;class&quot;,&quot;svelte-1pecl4m&quot;),a(C,&quot;for&quot;,i[1]+&quot;collapseModeCustom&quot;),a(M,&quot;for&quot;,&quot;collapseCustomShow&quot;),a(M,&quot;class&quot;,&quot;svelte-1pecl4m&quot;),a(T,&quot;id&quot;,&quot;collapseCustomShow&quot;),a(T,&quot;type&quot;,&quot;text&quot;),a(T,&quot;placeholder&quot;,&quot;myproject&quot;),a(T,&quot;spellcheck&quot;,&quot;false&quot;),a(T,&quot;autocapitalize&quot;,&quot;off&quot;),a(T,&quot;autocomplete&quot;,&quot;off&quot;),a(T,&quot;autocorrect&quot;,&quot;off&quot;),a(T,&quot;class&quot;,&quot;svelte-1pecl4m&quot;),a(B,&quot;for&quot;,&quot;collapseCustomHide&quot;),a(B,&quot;class&quot;,&quot;svelte-1pecl4m&quot;),a($,&quot;id&quot;,&quot;collapseCustomHide&quot;),a($,&quot;type&quot;,&quot;text&quot;),a($,&quot;placeholder&quot;,&quot;.*/lib/.*&quot;),a($,&quot;spellcheck&quot;,&quot;false&quot;),a($,&quot;autocapitalize&quot;,&quot;off&quot;),a($,&quot;autocomplete&quot;,&quot;off&quot;),a($,&quot;autocorrect&quot;,&quot;off&quot;),a($,&quot;class&quot;,&quot;svelte-1pecl4m&quot;),a(P,&quot;class&quot;,&quot;mini-input-grid svelte-1pecl4m&quot;),a(H,&quot;class&quot;,&quot;description svelte-1pecl4m&quot;),a(g,&quot;class&quot;,&quot;option svelte-1pecl4m&quot;),a(Y,&quot;id&quot;,i[1]+&quot;collapseModeDisabled&quot;),a(Y,&quot;type&quot;,&quot;radio&quot;),Y.__value=&quot;disabled&quot;,ae(Y,Y.__value),a(Y,&quot;class&quot;,&quot;svelte-1pecl4m&quot;),a(q,&quot;for&quot;,i[1]+&quot;collapseModeDisabled&quot;),a(Q,&quot;class&quot;,&quot;option svelte-1pecl4m&quot;),a(l,&quot;class&quot;,&quot;body&quot;),a(t,&quot;class&quot;,&quot;option-group svelte-1pecl4m&quot;),a(U,&quot;class&quot;,&quot;name svelte-1pecl4m&quot;),a(me,&quot;id&quot;,i[1]+&quot;removeImportlib&quot;),a(me,&quot;type&quot;,&quot;checkbox&quot;),a(me,&quot;class&quot;,&quot;svelte-1pecl4m&quot;),a(pe,&quot;for&quot;,i[1]+&quot;removeImportlib&quot;),a(he,&quot;class&quot;,&quot;option svelte-1pecl4m&quot;),a(K,&quot;id&quot;,i[1]+&quot;removeTracebackHide&quot;),a(K,&quot;type&quot;,&quot;checkbox&quot;),a(K,&quot;class&quot;,&quot;svelte-1pecl4m&quot;),a(Me,&quot;for&quot;,i[1]+&quot;removeTracebackHide&quot;),a(Ae,&quot;class&quot;,&quot;option svelte-1pecl4m&quot;),a(X,&quot;id&quot;,i[1]+&quot;removePyinstrument&quot;),a(X,&quot;type&quot;,&quot;checkbox&quot;),a(X,&quot;class&quot;,&quot;svelte-1pecl4m&quot;),a(at,&quot;for&quot;,i[1]+&quot;removePyinstrument&quot;),a(O,&quot;class&quot;,&quot;option svelte-1pecl4m&quot;),a(Fe,&quot;id&quot;,i[1]+&quot;removeIrrelevant&quot;),a(Fe,&quot;type&quot;,&quot;checkbox&quot;),a(Fe,&quot;class&quot;,&quot;svelte-1pecl4m&quot;),a(ct,&quot;for&quot;,i[1]+&quot;removeIrrelevant&quot;),a(ye,&quot;type&quot;,&quot;number&quot;),ye.value=i[2](),a(ye,&quot;min&quot;,&quot;0&quot;),a(ye,&quot;max&quot;,&quot;99&quot;),a(ye,&quot;step&quot;,&quot;0.01&quot;),j(ye,&quot;width&quot;,&quot;4em&quot;),a(ye,&quot;class&quot;,&quot;svelte-1pecl4m&quot;),a(ze,&quot;class&quot;,&quot;option svelte-1pecl4m&quot;),a(te,&quot;class&quot;,&quot;body&quot;),a(le,&quot;class&quot;,&quot;option-group svelte-1pecl4m&quot;),a(ut,&quot;class&quot;,&quot;name svelte-1pecl4m&quot;),a(ie,&quot;type&quot;,&quot;radio&quot;),ie.__value=&quot;absolute&quot;,ae(ie,ie.__value),a(ie,&quot;class&quot;,&quot;svelte-1pecl4m&quot;),a(dt,&quot;class&quot;,&quot;option svelte-1pecl4m&quot;),a(ne,&quot;type&quot;,&quot;radio&quot;),ne.__value=&quot;proportion&quot;,ae(ne,ne.__value),a(ne,&quot;class&quot;,&quot;svelte-1pecl4m&quot;),a(ht,&quot;class&quot;,&quot;option svelte-1pecl4m&quot;),a(Ue,&quot;class&quot;,&quot;body&quot;),a(qe,&quot;class&quot;,&quot;option-group svelte-1pecl4m&quot;),a(e,&quot;class&quot;,&quot;view-options-call-stack svelte-1pecl4m&quot;),Rt.p(ie,ne),It.p(o,w,Y)},m(G,se){S(G,e,se),u(e,t),u(t,n),u(t,s),u(t,l),u(l,r),u(r,o),o.checked=o.__value===i[0].collapseMode,u(r,c),u(r,d),u(d,v),u(r,p),u(r,m),u(l,f),u(l,g),u(g,w),w.checked=w.__value===i[0].collapseMode,u(g,E),u(g,C),u(C,y),u(g,k),u(g,H),u(H,W),u(H,P),u(P,M),u(P,_),u(P,T),ae(T,i[0].collapseCustomShow),u(P,R),u(P,B),u(P,J),u(P,$),ae($,i[0].collapseCustomHide),u(H,Le),u(l,ee),u(l,Q),u(Q,Y),Y.checked=Y.__value===i[0].collapseMode,u(Q,Ce),u(Q,q),u(q,Qe),u(e,Je),u(e,le),u(le,U),u(le,et),u(le,te),u(te,he),u(he,me),me.checked=i[0].removeImportlib,u(he,be),u(he,pe),u(pe,Te),u(te,tt),u(te,Ae),u(Ae,K),K.checked=i[0].removeTracebackHide,u(Ae,Be),u(Ae,Me),u(Me,it),u(te,z),u(te,O),u(O,X),X.checked=i[0].removePyinstrument,u(O,fi),u(O,at),u(at,hi),u(te,mi),u(te,ze),u(ze,Fe),Fe.checked=i[0].removeIrrelevant,u(ze,pi),u(ze,We),u(We,ct),u(ct,vi),u(We,gi),u(We,ye),u(We,_i),u(e,wi),u(e,qe),u(qe,ut),u(qe,bi),u(qe,Ue),u(Ue,dt),u(dt,ft),u(ft,ie),ie.checked=ie.__value===i[0].timeFormat,u(ft,yi),u(Ue,Ti),u(Ue,ht),u(ht,mt),u(mt,ne),ne.checked=ne.__value===i[0].timeFormat,u(mt,Ai),Lt||(Ei=[N(o,&quot;change&quot;,i[4]),N(w,&quot;change&quot;,i[6]),N(T,&quot;input&quot;,i[7]),N($,&quot;input&quot;,i[8]),N(Y,&quot;change&quot;,i[9]),N(me,&quot;change&quot;,i[10]),N(K,&quot;change&quot;,i[11]),N(X,&quot;change&quot;,i[12]),N(Fe,&quot;change&quot;,i[13]),N(ye,&quot;input&quot;,i[3]),N(ie,&quot;change&quot;,i[14]),N(ne,&quot;change&quot;,i[15])],Lt=!0)},p(G,[se]){se&amp;1&amp;&amp;(o.checked=o.__value===G[0].collapseMode),se&amp;1&amp;&amp;(w.checked=w.__value===G[0].collapseMode),se&amp;1&amp;&amp;T.value!==G[0].collapseCustomShow&amp;&amp;ae(T,G[0].collapseCustomShow),se&amp;1&amp;&amp;$.value!==G[0].collapseCustomHide&amp;&amp;ae($,G[0].collapseCustomHide),se&amp;1&amp;&amp;(Y.checked=Y.__value===G[0].collapseMode),se&amp;1&amp;&amp;(me.checked=G[0].removeImportlib),se&amp;1&amp;&amp;(K.checked=G[0].removeTracebackHide),se&amp;1&amp;&amp;(X.checked=G[0].removePyinstrument),se&amp;1&amp;&amp;(Fe.checked=G[0].removeIrrelevant),se&amp;1&amp;&amp;(ie.checked=ie.__value===G[0].timeFormat),se&amp;1&amp;&amp;(ne.checked=ne.__value===G[0].timeFormat)},i:F,o:F,d(G){G&amp;&amp;L(e),Rt.r(),It.r(),Lt=!1,oe(Ei)}}}function nn(i,e,t){let n;ge(i,Z,k=&gt;t(0,n=k));const s=ot();function l(){return(n.removeIrrelevantThreshold*100).toLocaleString(void 0,{maximumFractionDigits:4})}function r(k){Ci(Z,n.removeIrrelevantThreshold=k.currentTarget.valueAsNumber/100,n)}const o=[[],[]];function c(){n.collapseMode=this.__value,Z.set(n)}function d(){n.collapseMode=this.__value,Z.set(n)}function v(){n.collapseCustomShow=this.value,Z.set(n)}function p(){n.collapseCustomHide=this.value,Z.set(n)}function m(){n.collapseMode=this.__value,Z.set(n)}function f(){n.removeImportlib=this.checked,Z.set(n)}function g(){n.removeTracebackHide=this.checked,Z.set(n)}function w(){n.removePyinstrument=this.checked,Z.set(n)}function E(){n.removeIrrelevant=this.checked,Z.set(n)}function C(){n.timeFormat=this.__value,Z.set(n)}function y(){n.timeFormat=this.__value,Z.set(n)}return[n,s,l,r,c,o,d,v,p,m,f,g,w,E,C,y]}class sn extends fe{constructor(e){super(),de(this,e,nn,tn,re,{})}}function on(i){let e,t,n,s,l,r,o,c,d,v,p,m,f,g,w,E,C,y,k,H,W,P,M,_;return{c(){e=h(&quot;div&quot;),t=h(&quot;div&quot;),n=h(&quot;div&quot;),n.textContent=&quot;Remove frames&quot;,s=b(),l=h(&quot;div&quot;),r=h(&quot;div&quot;),o=h(&quot;input&quot;),c=b(),d=h(&quot;label&quot;),v=I(&quot;importlib machinery&quot;),p=b(),m=h(&quot;div&quot;),f=h(&quot;input&quot;),g=b(),w=h(&quot;label&quot;),E=I(&quot;Frames declaring __traceback_hide__&quot;),C=b(),y=h(&quot;div&quot;),k=h(&quot;input&quot;),H=b(),W=h(&quot;label&quot;),P=I(&quot;pyinstrument frames&quot;),a(n,&quot;class&quot;,&quot;name&quot;),a(o,&quot;id&quot;,i[1]+&quot;removeImportlib&quot;),a(o,&quot;type&quot;,&quot;checkbox&quot;),a(d,&quot;for&quot;,i[1]+&quot;removeImportlib&quot;),a(r,&quot;class&quot;,&quot;option&quot;),a(f,&quot;id&quot;,i[1]+&quot;removeTracebackHide&quot;),a(f,&quot;type&quot;,&quot;checkbox&quot;),a(w,&quot;for&quot;,i[1]+&quot;removeTracebackHide&quot;),a(m,&quot;class&quot;,&quot;option&quot;),a(k,&quot;id&quot;,i[1]+&quot;removePyinstrument&quot;),a(k,&quot;type&quot;,&quot;checkbox&quot;),a(W,&quot;for&quot;,i[1]+&quot;removePyinstrument&quot;),a(y,&quot;class&quot;,&quot;option&quot;),a(l,&quot;class&quot;,&quot;body&quot;),a(t,&quot;class&quot;,&quot;option-group&quot;),a(e,&quot;class&quot;,&quot;view-options-timeline svelte-vsz8zm&quot;)},m(T,R){S(T,e,R),u(e,t),u(t,n),u(t,s),u(t,l),u(l,r),u(r,o),o.checked=i[0].removeImportlib,u(r,c),u(r,d),u(d,v),u(l,p),u(l,m),u(m,f),f.checked=i[0].removeTracebackHide,u(m,g),u(m,w),u(w,E),u(l,C),u(l,y),u(y,k),k.checked=i[0].removePyinstrument,u(y,H),u(y,W),u(W,P),M||(_=[N(o,&quot;change&quot;,i[2]),N(f,&quot;change&quot;,i[3]),N(k,&quot;change&quot;,i[4])],M=!0)},p(T,[R]){R&amp;1&amp;&amp;(o.checked=T[0].removeImportlib),R&amp;1&amp;&amp;(f.checked=T[0].removeTracebackHide),R&amp;1&amp;&amp;(k.checked=T[0].removePyinstrument)},i:F,o:F,d(T){T&amp;&amp;L(e),M=!1,oe(_)}}}function rn(i,e,t){let n;ge(i,je,c=&gt;t(0,n=c));const s=ot();function l(){n.removeImportlib=this.checked,je.set(n)}function r(){n.removeTracebackHide=this.checked,je.set(n)}function o(){n.removePyinstrument=this.checked,je.set(n)}return[n,s,l,r,o]}class ln extends fe{constructor(e){super(),de(this,e,rn,on,re,{})}}function an(i){let e,t;return e=new ln({}),{c(){we(e.$$.fragment)},m(n,s){ce(e,n,s),t=!0},i(n){t||(D(e.$$.fragment,n),t=!0)},o(n){x(e.$$.fragment,n),t=!1},d(n){ue(e,n)}}}function cn(i){let e,t;return e=new sn({}),{c(){we(e.$$.fragment)},m(n,s){ce(e,n,s),t=!0},i(n){t||(D(e.$$.fragment,n),t=!0)},o(n){x(e.$$.fragment,n),t=!1},d(n){ue(e,n)}}}function un(i){let e,t,n,s,l,r,o,c,d;const v=[cn,an],p=[];function m(f,g){return f[0].viewMode===&quot;call-stack&quot;?0:f[0].viewMode===&quot;timeline&quot;?1:-1}return~(o=m(i))&amp;&amp;(c=p[o]=v[o](i)),{c(){e=h(&quot;div&quot;),t=h(&quot;div&quot;),n=h(&quot;div&quot;),s=I(i[3]),l=b(),r=h(&quot;div&quot;),c&amp;&amp;c.c(),a(n,&quot;class&quot;,&quot;title-row svelte-rpk7lo&quot;),a(r,&quot;class&quot;,&quot;body svelte-rpk7lo&quot;),a(t,&quot;class&quot;,&quot;box svelte-rpk7lo&quot;),a(e,&quot;class&quot;,&quot;view-options svelte-rpk7lo&quot;)},m(f,g){S(f,e,g),u(e,t),u(t,n),u(n,s),u(t,l),u(t,r),~o&amp;&amp;p[o].m(r,null),i[4](t),i[5](e),d=!0},p(f,[g]){(!d||g&amp;8)&amp;&amp;_e(s,f[3]);let w=o;o=m(f),o!==w&amp;&amp;(c&amp;&amp;(Oe(),x(p[w],1,1,()=&gt;{p[w]=null}),Ve()),~o?(c=p[o],c||(c=p[o]=v[o](f),c.c()),D(c,1),c.m(r,null)):c=null)},i(f){d||(D(c),d=!0)},o(f){x(c),d=!1},d(f){f&amp;&amp;L(e),~o&amp;&amp;p[o].d(),i[4](null),i[5](null)}}}function dn(i,e,t){let n;ge(i,Ge,m=&gt;t(0,n=m));const s=Li();function l(){s(&quot;close&quot;)}let r,o;bt(()=&gt;{if(o)return Qi(o,l,{ignore:[&quot;.js-view-options-button&quot;]})});function c(){if(!r||!o)return;const m=r.getBoundingClientRect(),g=o.getBoundingClientRect().width;m.right-g-20&lt;0?t(2,o.style.right=`${m.right-g-20}px`,o):t(2,o.style.right=&quot;0&quot;,o)}bt(()=&gt;(c(),window.addEventListener(&quot;resize&quot;,c),()=&gt;window.removeEventListener(&quot;resize&quot;,c)));let d=&quot;View options&quot;;function v(m){ke[m?&quot;unshift&quot;:&quot;push&quot;](()=&gt;{o=m,t(2,o)})}function p(m){ke[m?&quot;unshift&quot;:&quot;push&quot;](()=&gt;{r=m,t(1,r)})}return i.$$.update=()=&gt;{i.$$.dirty&amp;1&amp;&amp;(n.viewMode===&quot;call-stack&quot;?t(3,d=&quot;Call stack view options&quot;):n.viewMode===&quot;timeline&quot;&amp;&amp;t(3,d=&quot;Timeline view options&quot;))},[n,r,o,d,v,p]}class fn extends fe{constructor(e){super(),de(this,e,dn,un,re,{})}}function xt(i){let e,t;return e=new fn({}),e.$on(&quot;close&quot;,i[9]),{c(){we(e.$$.fragment)},m(n,s){ce(e,n,s),t=!0},p:F,i(n){t||(D(e.$$.fragment,n),t=!0)},o(n){x(e.$$.fragment,n),t=!1},d(n){ue(e,n)}}}function hn(i){let e,t,n,s,l,r,o,c,d=Ct(i[0].target_description)+&quot;&quot;,v,p,m,f,g,w,E,C,y,k,H,W,P,M=i[0].sampleCount+&quot;&quot;,_,T,R,B,J,$,Le,ee,Q,Y,Ce,q,Qe,Je,le,U,et,te,he,me,be,pe,Te,tt,Ae,K,Be,Me,it;l=new qi({}),Te=new zi({});let z=i[1]&amp;&amp;xt(i);return Be=_t(i[7][0]),{c(){e=h(&quot;div&quot;),t=h(&quot;div&quot;),n=h(&quot;div&quot;),s=h(&quot;div&quot;),we(l.$$.fragment),r=b(),o=h(&quot;div&quot;),c=h(&quot;div&quot;),v=b(),p=h(&quot;div&quot;),m=h(&quot;div&quot;),f=h(&quot;span&quot;),f.textContent=&quot;Recorded:&quot;,g=b(),w=h(&quot;span&quot;),w.textContent=`${i[3]}`,E=b(),C=h(&quot;br&quot;),y=b(),k=h(&quot;div&quot;),H=h(&quot;span&quot;),H.textContent=&quot;Samples:&quot;,W=b(),P=h(&quot;span&quot;),_=I(M),T=b(),R=h(&quot;div&quot;),B=h(&quot;span&quot;),B.textContent=&quot;CPU utilization:&quot;,J=b(),$=h(&quot;span&quot;),$.textContent=`${(i[4]*100).toFixed(0)}%`,Le=b(),ee=h(&quot;div&quot;),Q=h(&quot;div&quot;),Y=I(`View:\n",
       "            `),Ce=h(&quot;label&quot;),q=h(&quot;input&quot;),Qe=I(`\n",
       "              Call stack`),Je=b(),le=h(&quot;label&quot;),U=h(&quot;input&quot;),et=I(`\n",
       "              Timeline`),te=b(),he=h(&quot;div&quot;),me=b(),be=h(&quot;div&quot;),pe=h(&quot;button&quot;),we(Te.$$.fragment),tt=I(`\n",
       "              View options`),Ae=b(),z&amp;&amp;z.c(),a(s,&quot;class&quot;,&quot;logo svelte-qdxst2&quot;),a(c,&quot;class&quot;,&quot;target-description svelte-qdxst2&quot;),a(f,&quot;class&quot;,&quot;metric-label svelte-qdxst2&quot;),a(w,&quot;class&quot;,&quot;metric-value svelte-qdxst2&quot;),a(m,&quot;class&quot;,&quot;metric date svelte-qdxst2&quot;),a(C,&quot;class&quot;,&quot;svelte-qdxst2&quot;),a(H,&quot;class&quot;,&quot;metric-label svelte-qdxst2&quot;),a(P,&quot;class&quot;,&quot;metric-value svelte-qdxst2&quot;),a(k,&quot;class&quot;,&quot;metric svelte-qdxst2&quot;),a(B,&quot;class&quot;,&quot;metric-label svelte-qdxst2&quot;),a($,&quot;class&quot;,&quot;metric-value svelte-qdxst2&quot;),a(R,&quot;class&quot;,&quot;metric svelte-qdxst2&quot;),a(p,&quot;class&quot;,&quot;metrics svelte-qdxst2&quot;),a(q,&quot;type&quot;,&quot;radio&quot;),q.__value=&quot;call-stack&quot;,ae(q,q.__value),a(q,&quot;class&quot;,&quot;svelte-qdxst2&quot;),a(Ce,&quot;class&quot;,&quot;svelte-qdxst2&quot;),a(U,&quot;type&quot;,&quot;radio&quot;),U.__value=&quot;timeline&quot;,ae(U,U.__value),a(U,&quot;class&quot;,&quot;svelte-qdxst2&quot;),a(le,&quot;class&quot;,&quot;svelte-qdxst2&quot;),a(Q,&quot;class&quot;,&quot;toggle&quot;),a(he,&quot;class&quot;,&quot;spacer&quot;),j(he,&quot;flex&quot;,&quot;1&quot;),a(pe,&quot;class&quot;,&quot;js-view-options-button svelte-qdxst2&quot;),a(be,&quot;class&quot;,&quot;button-container svelte-qdxst2&quot;),a(ee,&quot;class&quot;,&quot;view-options svelte-qdxst2&quot;),a(o,&quot;class&quot;,&quot;layout svelte-qdxst2&quot;),a(n,&quot;class&quot;,&quot;row svelte-qdxst2&quot;),a(t,&quot;class&quot;,&quot;margins&quot;),a(e,&quot;class&quot;,&quot;header svelte-qdxst2&quot;),Be.p(q,U)},m(O,X){S(O,e,X),u(e,t),u(t,n),u(n,s),ce(l,s,null),u(n,r),u(n,o),u(o,c),c.innerHTML=d,u(o,v),u(o,p),u(p,m),u(m,f),u(m,g),u(m,w),u(p,E),u(p,C),u(p,y),u(p,k),u(k,H),u(k,W),u(k,P),u(P,_),u(p,T),u(p,R),u(R,B),u(R,J),u(R,$),u(o,Le),u(o,ee),u(ee,Q),u(Q,Y),u(Q,Ce),u(Ce,q),q.checked=q.__value===i[2].viewMode,u(Ce,Qe),u(Q,Je),u(Q,le),u(le,U),U.checked=U.__value===i[2].viewMode,u(le,et),u(ee,te),u(ee,he),u(ee,me),u(ee,be),u(be,pe),ce(Te,pe,null),u(pe,tt),u(be,Ae),z&amp;&amp;z.m(be,null),K=!0,Me||(it=[N(q,&quot;change&quot;,i[6]),N(U,&quot;change&quot;,i[8]),N(pe,&quot;click&quot;,gt(vt(i[5])))],Me=!0)},p(O,[X]){(!K||X&amp;1)&amp;&amp;d!==(d=Ct(O[0].target_description)+&quot;&quot;)&amp;&amp;(c.innerHTML=d),(!K||X&amp;1)&amp;&amp;M!==(M=O[0].sampleCount+&quot;&quot;)&amp;&amp;_e(_,M),X&amp;4&amp;&amp;(q.checked=q.__value===O[2].viewMode),X&amp;4&amp;&amp;(U.checked=U.__value===O[2].viewMode),O[1]?z?(z.p(O,X),X&amp;2&amp;&amp;D(z,1)):(z=xt(O),z.c(),D(z,1),z.m(be,null)):z&amp;&amp;(Oe(),x(z,1,1,()=&gt;{z=null}),Ve())},i(O){K||(D(l.$$.fragment,O),D(Te.$$.fragment,O),D(z),K=!0)},o(O){x(l.$$.fragment,O),x(Te.$$.fragment,O),x(z),K=!1},d(O){O&amp;&amp;L(e),ue(l),ue(Te),z&amp;&amp;z.d(),Be.r(),Me=!1,oe(it)}}}function mn(i,e,t){let n;ge(i,Ge,f=&gt;t(2,n=f));let{session:s}=e;const l=new Date(s.startTime*1e3).toLocaleString(void 0,{dateStyle:&quot;long&quot;,timeStyle:&quot;medium&quot;}),r=s.cpuTime/s.duration;let o=!1;function c(f){t(1,o=!o)}const d=[[]];function v(){n.viewMode=this.__value,Ge.set(n)}function p(){n.viewMode=this.__value,Ge.set(n)}const m=()=&gt;t(1,o=!1);return i.$$set=f=&gt;{&quot;session&quot;in f&amp;&amp;t(0,s=f.session)},[s,o,n,l,r,c,v,d,p,m]}class pn extends fe{constructor(e){super(),de(this,e,mn,hn,re,{session:0})}}const vn=&quot;data:image/png;base64,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&quot;,$t=st({}),Bt=st({});function zt(i){return i&gt;.6?&quot;#FF4159&quot;:i&gt;.3?&quot;#F5A623&quot;:i&gt;.15?&quot;#D8CB2A&quot;:i&gt;.05?&quot;#7ED321&quot;:&quot;#58984f&quot;}function Wt(i,e,t){const n=i.slice();return n[21]=e[t],n}function qt(i){let e,t,n,s,l,r,o,c,d,v,p,m,f,g,w,E,C;return{c(){e=h(&quot;div&quot;),t=h(&quot;div&quot;),n=V(&quot;svg&quot;),s=V(&quot;path&quot;),l=b(),r=h(&quot;div&quot;),o=I(i[6]),c=b(),d=h(&quot;div&quot;),v=I(i[4]),p=b(),m=h(&quot;div&quot;),f=I(i[5]),g=b(),w=h(&quot;div&quot;),a(s,&quot;d&quot;,&quot;M.937-.016L5.793 4.84.937 9.696z&quot;),a(s,&quot;fill&quot;,i[8]),a(s,&quot;fill-rule&quot;,&quot;evenodd&quot;),a(s,&quot;fill-opacity&quot;,&quot;.582&quot;),a(n,&quot;width&quot;,&quot;6&quot;),a(n,&quot;height&quot;,&quot;10&quot;),a(t,&quot;class&quot;,&quot;frame-triangle svelte-7e9kco&quot;),Ee(t,&quot;rotate&quot;,!i[9]),j(t,&quot;visibility&quot;,i[0].children.length&gt;0?&quot;visible&quot;:&quot;hidden&quot;),a(r,&quot;class&quot;,&quot;time svelte-7e9kco&quot;),j(r,&quot;color&quot;,i[8]),j(r,&quot;font-weight&quot;,i[11]&lt;.15?500:600),a(d,&quot;class&quot;,&quot;name svelte-7e9kco&quot;),a(m,&quot;class&quot;,&quot;code-position svelte-7e9kco&quot;),a(e,&quot;class&quot;,&quot;frame-description svelte-7e9kco&quot;),a(e,&quot;role&quot;,&quot;button&quot;),a(e,&quot;tabindex&quot;,&quot;0&quot;),Ee(e,&quot;application-code&quot;,i[0].isApplicationCode),Ee(e,&quot;children-visible&quot;,!i[9]),j(e,&quot;padding-left&quot;,`${i[2]*35}px`),a(w,&quot;class&quot;,&quot;visual-guide svelte-7e9kco&quot;),j(w,&quot;left&quot;,`${i[2]*35+21}px`),j(w,&quot;background-color&quot;,i[8])},m(y,k){S(y,e,k),u(e,t),u(t,n),u(n,s),u(e,l),u(e,r),u(r,o),u(e,c),u(e,d),u(d,v),u(e,p),u(e,m),u(m,f),S(y,g,k),S(y,w,k),E||(C=[N(e,&quot;keydown&quot;,i[14]),N(e,&quot;click&quot;,gt(vt(i[12])))],E=!0)},p(y,k){k&amp;256&amp;&amp;a(s,&quot;fill&quot;,y[8]),k&amp;512&amp;&amp;Ee(t,&quot;rotate&quot;,!y[9]),k&amp;1&amp;&amp;j(t,&quot;visibility&quot;,y[0].children.length&gt;0?&quot;visible&quot;:&quot;hidden&quot;),k&amp;64&amp;&amp;_e(o,y[6]),k&amp;256&amp;&amp;j(r,&quot;color&quot;,y[8]),k&amp;16&amp;&amp;_e(v,y[4]),k&amp;32&amp;&amp;_e(f,y[5]),k&amp;1&amp;&amp;Ee(e,&quot;application-code&quot;,y[0].isApplicationCode),k&amp;512&amp;&amp;Ee(e,&quot;children-visible&quot;,!y[9]),k&amp;4&amp;&amp;j(e,&quot;padding-left&quot;,`${y[2]*35}px`),k&amp;4&amp;&amp;j(w,&quot;left&quot;,`${y[2]*35+21}px`),k&amp;256&amp;&amp;j(w,&quot;background-color&quot;,y[8])},d(y){y&amp;&amp;(L(e),L(g),L(w)),E=!1,oe(C)}}}function Ut(i){let e,t,n,s,l=i[0].group.frames.length-1+&quot;&quot;,r,o,c,d,v,p;return{c(){e=h(&quot;div&quot;),t=h(&quot;div&quot;),n=h(&quot;div&quot;),n.innerHTML=&#x27;&lt;svg width=&quot;6&quot; height=&quot;10&quot;&gt;&lt;path d=&quot;M.937-.016L5.793 4.84.937 9.696z&quot; fill=&quot;#FFF&quot; fill-rule=&quot;evenodd&quot; fill-opacity=&quot;.582&quot;&gt;&lt;/path&gt;&lt;/svg&gt;&#x27;,s=b(),r=I(l),o=I(&quot; frames hidden (&quot;),c=I(i[7]),d=I(&quot;)&quot;),a(n,&quot;class&quot;,&quot;group-triangle svelte-7e9kco&quot;),Ee(n,&quot;rotate&quot;,i[10]),a(t,&quot;class&quot;,&quot;group-header-button svelte-7e9kco&quot;),a(e,&quot;class&quot;,&quot;group-header svelte-7e9kco&quot;),a(e,&quot;role&quot;,&quot;button&quot;),a(e,&quot;tabindex&quot;,&quot;0&quot;),j(e,&quot;padding-left&quot;,`${i[2]*35}px`)},m(m,f){S(m,e,f),u(e,t),u(t,n),u(t,s),u(t,r),u(t,o),u(t,c),u(t,d),v||(p=[N(e,&quot;keydown&quot;,i[15]),N(e,&quot;click&quot;,gt(vt(i[13])))],v=!0)},p(m,f){f&amp;1024&amp;&amp;Ee(n,&quot;rotate&quot;,m[10]),f&amp;1&amp;&amp;l!==(l=m[0].group.frames.length-1+&quot;&quot;)&amp;&amp;_e(r,l),f&amp;128&amp;&amp;_e(c,m[7]),f&amp;4&amp;&amp;j(e,&quot;padding-left&quot;,`${m[2]*35}px`)},d(m){m&amp;&amp;L(e),v=!1,oe(p)}}}function Yt(i){let e,t=[],n=new Map,s,l=Ot(i[0].children);const r=o=&gt;o[21].uuid;for(let o=0;o&lt;l.length;o+=1){let c=Wt(i,l,o),d=r(c);n.set(d,t[o]=Xt(d,c))}return{c(){e=h(&quot;div&quot;);for(let o=0;o&lt;t.length;o+=1)t[o].c();a(e,&quot;class&quot;,&quot;children svelte-7e9kco&quot;)},m(o,c){S(o,e,c);for(let d=0;d&lt;t.length;d+=1)t[d]&amp;&amp;t[d].m(e,null);s=!0},p(o,c){c&amp;15&amp;&amp;(l=Ot(o[0].children),Oe(),t=Ni(t,c,r,1,o,l,n,e,Vi,Xt,null,Wt),Ve())},i(o){if(!s){for(let c=0;c&lt;l.length;c+=1)D(t[c]);s=!0}},o(o){for(let c=0;c&lt;t.length;c+=1)x(t[c]);s=!1},d(o){o&amp;&amp;L(e);for(let c=0;c&lt;t.length;c+=1)t[c].d()}}}function Xt(i,e){let t,n,s;return n=new Kt({props:{frame:e[21],rootFrame:e[1],indent:e[2]+(e[3]?1:0)}}),{key:i,first:null,c(){t=Mi(),we(n.$$.fragment),this.first=t},m(l,r){S(l,t,r),ce(n,l,r),s=!0},p(l,r){e=l;const o={};r&amp;1&amp;&amp;(o.frame=e[21]),r&amp;2&amp;&amp;(o.rootFrame=e[1]),r&amp;12&amp;&amp;(o.indent=e[2]+(e[3]?1:0)),n.$set(o)},i(l){s||(D(n.$$.fragment,l),s=!0)},o(l){x(n.$$.fragment,l),s=!1},d(l){l&amp;&amp;L(t),ue(n,l)}}}function gn(i){let e,t,n,s,l=i[3]&amp;&amp;qt(i),r=i[0].group&amp;&amp;i[0].group.rootFrame==i[0]&amp;&amp;!i[9]&amp;&amp;Ut(i),o=!i[9]&amp;&amp;i[0].children.length&gt;0&amp;&amp;Yt(i);return{c(){e=h(&quot;div&quot;),l&amp;&amp;l.c(),t=b(),r&amp;&amp;r.c(),n=b(),o&amp;&amp;o.c(),a(e,&quot;class&quot;,&quot;frame svelte-7e9kco&quot;)},m(c,d){S(c,e,d),l&amp;&amp;l.m(e,null),u(e,t),r&amp;&amp;r.m(e,null),u(e,n),o&amp;&amp;o.m(e,null),s=!0},p(c,[d]){c[3]?l?l.p(c,d):(l=qt(c),l.c(),l.m(e,t)):l&amp;&amp;(l.d(1),l=null),c[0].group&amp;&amp;c[0].group.rootFrame==c[0]&amp;&amp;!c[9]?r?r.p(c,d):(r=Ut(c),r.c(),r.m(e,n)):r&amp;&amp;(r.d(1),r=null),!c[9]&amp;&amp;c[0].children.length&gt;0?o?(o.p(c,d),d&amp;513&amp;&amp;D(o,1)):(o=Yt(c),o.c(),D(o,1),o.m(e,null)):o&amp;&amp;(Oe(),x(o,1,1,()=&gt;{o=null}),Ve())},i(c){s||(D(o),s=!0)},o(c){x(o),s=!1},d(c){c&amp;&amp;L(e),l&amp;&amp;l.d(),r&amp;&amp;r.d(),o&amp;&amp;o.d()}}}function Gt(){const i=&#x27;a:not([disabled]), button:not([disabled]), input[type=text]:not([disabled]), [tabindex]:not([disabled]):not([tabindex=&quot;-1&quot;])&#x27;,e=document.querySelector(&quot;.call-stack-view&quot;);if(!e)throw new Error(&quot;callStackElement not found&quot;);var t=Array.prototype.filter.call(e.querySelectorAll(i),function(n){return n.offsetWidth&gt;0||n.offsetHeight&gt;0||n===document.activeElement});return t}function jt(){const i=Gt();var e=i.indexOf(document.activeElement);if(e&gt;-1){var t=i[e+1];t&amp;&amp;t.focus()}}function Zt(){const i=Gt();var e=i.indexOf(document.activeElement);if(e&gt;-1){var t=i[e-1];t&amp;&amp;t.focus()}}function _n(i,e,t){let n,s,l,r,o;ge(i,Bt,_=&gt;t(16,l=_)),ge(i,$t,_=&gt;t(17,r=_)),ge(i,Z,_=&gt;t(18,o=_));let{frame:c}=e,{rootFrame:d}=e,{indent:v=0}=e,p;const m=c.time/d.time;let f,g;c.isSynthetic||c.filePathShort==null?g=&quot;&quot;:c.lineNo==null||c.lineNo===0?g=c.filePathShort:g=`${c.filePathShort}:${c.lineNo}`;let w,E=null;if(c.group){const _=c.group.libraries;_.length&lt;4?E=_.join(&quot;, &quot;):E=`${_[0]}, ${_[1]}, ${_[2]}...`}let C;C=zt(m);function y(_){k(c,!s,_.altKey)}function k(_,T,R=!0){if(Bt.update(B=&gt;({...B,[_.uuid]:T})),R)for(const B of _.children)k(B,T,!0),_.group&amp;&amp;_.group.rootFrame==_&amp;&amp;H(_.group.id,!T)}function H(_,T){$t.update(R=&gt;({...R,[_]:T}))}function W(){c.group&amp;&amp;H(c.group.id,!n)}function P(_){let T=!0;_.key===&quot;Enter&quot;||_.key===&quot; &quot;?y(_):_.key===&quot;ArrowLeft&quot;&amp;&amp;!s?k(c,!0,_.altKey):_.key===&quot;ArrowRight&quot;&amp;&amp;s?k(c,!1,_.altKey):_.key===&quot;ArrowUp&quot;?Zt():_.key===&quot;ArrowDown&quot;?jt():T=!1,T&amp;&amp;(_.preventDefault(),_.stopPropagation())}function M(_){let T=!0;_.key===&quot;Enter&quot;||_.key===&quot; &quot;?W():_.key===&quot;ArrowLeft&quot;&amp;&amp;c.group?H(c.group.id,!1):_.key===&quot;ArrowRight&quot;&amp;&amp;c.group?H(c.group.id,!0):_.key===&quot;ArrowUp&quot;?Zt():_.key===&quot;ArrowDown&quot;?jt():T=!1,T&amp;&amp;(_.preventDefault(),_.stopPropagation())}return i.$$set=_=&gt;{&quot;frame&quot;in _&amp;&amp;t(0,c=_.frame),&quot;rootFrame&quot;in _&amp;&amp;t(1,d=_.rootFrame),&quot;indent&quot;in _&amp;&amp;t(2,v=_.indent)},i.$$.update=()=&gt;{var _,T;if(i.$$.dirty&amp;131073&amp;&amp;(c.group?r[c.group.id??&quot;&quot;]||((_=c.group)==null?void 0:_.rootFrame)===c||c.children.filter(R=&gt;!R.group).length&gt;1?t(3,p=!0):t(3,p=!1):t(3,p=!0)),i.$$.dirty&amp;1&amp;&amp;(c.className?t(4,f=`${c.className}.${c.function}`):t(4,f=c.function)),i.$$.dirty&amp;262145)if(o.timeFormat===&quot;absolute&quot;)t(6,w=c.time.toLocaleString(void 0,{minimumFractionDigits:3,maximumFractionDigits:3}));else if(o.timeFormat===&quot;proportion&quot;)t(6,w=`${(m*100).toLocaleString(void 0,{minimumFractionDigits:1,maximumFractionDigits:1})}%`);else throw new Error(&quot;unknown timeFormat&quot;);i.$$.dirty&amp;131073&amp;&amp;t(10,n=r[((T=c.group)==null?void 0:T.id)??&quot;&quot;]===!0),i.$$.dirty&amp;65537&amp;&amp;t(9,s=l[c.uuid]===!0)},[c,d,v,p,f,g,w,E,C,s,n,m,y,W,P,M,l,r,o]}let Kt=class extends fe{constructor(e){super(),de(this,e,_n,gn,re,{frame:0,rootFrame:1,indent:2})}};function Qt(i,e,t){let n=i;for(const s of e)if(n=s(n,t),!n)return null;return n}const wn=&quot;\\0&quot;,bn=&quot;[await]&quot;,Ze=&quot;[self]&quot;,yn=[bn,Ze,&quot;[out-of-context]&quot;,&quot;[root]&quot;],Tn=&quot;c&quot;,An=&quot;h&quot;;class Ke{constructor(e,t){A(this,&quot;uuid&quot;,ot());A(this,&quot;identifier&quot;);A(this,&quot;_identifierParts&quot;);A(this,&quot;startTime&quot;);A(this,&quot;time&quot;,0);A(this,&quot;absorbedTime&quot;,0);A(this,&quot;group&quot;,null);A(this,&quot;attributes&quot;);A(this,&quot;_children&quot;,[]);A(this,&quot;parent&quot;,null);A(this,&quot;context&quot;);var l;this.identifier=e.identifier,this._identifierParts=this.identifier.split(wn),this.startTime=e.startTime??0,this.time=e.time??0,this.attributes=e.attributes??{},this.context=t;let n=this.startTime;const s=(l=e.children)==null?void 0:l.map(r=&gt;(r.startTime===void 0&amp;&amp;(r={...r,startTime:n},n+=r.time??0),n=r.startTime+(r.time??0),new Ke(r,t)));s&amp;&amp;this.addChildren(s)}cloneDeep(){return new Ke(this,this.context)}get children(){return this._children}addChild(e,t={}){if(e.removeFromParent(),e.parent=this,t.after){const n=this._children.indexOf(t.after);if(n==-1)throw new Error(&quot;After frame not found&quot;);this._children.splice(n+1,0,e)}else this._children.push(e)}addChildren(e,t={}){e=e.slice(),t.after?(e.slice().reverse(),e.forEach(s=&gt;this.addChild(s,t))):e.forEach(n=&gt;this.addChild(n,t))}removeFromParent(){if(this.parent){const e=this.parent._children.indexOf(this);this.parent._children.splice(e,1),this.parent=null}}getAttributes(e){return Object.keys(this.attributes).filter(n=&gt;n.startsWith(e)).map(n=&gt;({data:n.slice(1),time:this.attributes[n]}))}getAttributeValue(e){const t=this.getAttributes(e);if(!t||t.length==0)return null;let n=0;for(let s=0;s&lt;t.length;s++)t[s].time&gt;t[n].time&amp;&amp;(n=s);return t[n].data}get hasTracebackHide(){return this.getAttributeValue(An)==&quot;1&quot;}get function(){return this._identifierParts[0]}get filePath(){return this._identifierParts[1]??null}get lineNo(){const e=this._identifierParts[2];return e?parseInt(e):null}get isSynthetic(){return yn.includes(this.identifier)}get filePathShort(){return this.isSynthetic&amp;&amp;this.parent?this.parent.filePathShort:this.filePath?this.context.shortenPath(this.filePath):null}get isApplicationCode(){if(this.isSynthetic)return!1;const e=this.filePath;return!e||this.context.sysPrefixes.some(n=&gt;e.startsWith(n))?!1:e.startsWith(&quot;&lt;&quot;)?e.startsWith(&quot;&lt;ipython-input-&quot;)?!0:e==&quot;&lt;string&gt;&quot;||e==&quot;&lt;stdin&gt;&quot;?this.parent?this.parent.isApplicationCode:!0:!1:!0}get proportionOfParent(){return this.parent?this.time/this.parent.time:1}get className(){return this.getAttributeValue(Tn)??&quot;&quot;}get library(){const e=this.filePathShort;return e?/^[\\\\/.]*[^\\\\/.]*/.exec(e)[0]??&quot;&quot;:null}}class En{constructor(e){A(this,&quot;id&quot;);A(this,&quot;rootFrame&quot;);A(this,&quot;_frames&quot;,[]);this.id=ot(),this.rootFrame=e}addFrame(e){e.group&amp;&amp;e.group.removeFrame(e),this._frames.push(e),e.group=this}removeFrame(e){if(e.group!==this)throw new Error(&quot;Frame not in group.&quot;);const t=this._frames.indexOf(e);if(t===-1)throw new Error(&quot;Frame not found in group.&quot;);this._frames.splice(t,1),e.group=null}get frames(){return this._frames}get exitFrames(){const e=[];for(const t of this.frames){let n=!1;for(const s of t.children)if(s.group!=this){n=!0;break}n&amp;&amp;e.push(t)}return e}get libraries(){const e=[];for(const t of this.frames){const n=t.library;n&amp;&amp;(e.includes(n)||e.push(n))}return e}}function rt(i,e){const{replaceWith:t}=e,n=i.parent;if(!n)throw new Error(&quot;Cannot delete the root frame&quot;);if(t==&quot;children&quot;)n.addChildren(i.children,{after:i});else if(t==&quot;self_time&quot;)n.addChild(new Ke({identifier:Ze,time:i.time},n.context),{after:i});else if(t==&quot;nothing&quot;)n.absorbedTime+=i.time;else throw new Xi(t);i.removeFromParent(),Mt(i,!0)}function kn(i,e){if(i.parent!==e.parent)throw new Error(&quot;Both frames must have the same parent.&quot;);e.absorbedTime+=i.absorbedTime,e.time+=i.time,Object.entries(i.attributes).forEach(([t,n])=&gt;{e.attributes[t]!==void 0?e.attributes[t]+=n:e.attributes[t]=n}),e.addChildren(i.children),i.removeFromParent(),Mt(i,!1)}function Mt(i,e){if(e&amp;&amp;i.children&amp;&amp;i.children.forEach(t=&gt;{Mt(t,!0)}),i.group){const t=i.group;t.removeFrame(i),t.frames.length===1&amp;&amp;t.removeFrame(t.frames[0])}}function Ft(i,e){if(!i)return null;for(const t of i.children)Ft(t),t.filePath&amp;&amp;t.filePath.includes(&quot;&lt;frozen importlib._bootstrap&quot;)&amp;&amp;rt(t,{replaceWith:&quot;children&quot;});return i}function Pt(i,e){if(!i)return null;for(const t of i.children)Pt(t),t.hasTracebackHide&amp;&amp;rt(t,{replaceWith:&quot;children&quot;});return i}function Jt(i,e){if(!i)return null;const t={};for(const n of i.children.slice())if(t[n.identifier]){const s=t[n.identifier];kn(n,s)}else t[n.identifier]=n;return i.children.forEach(n=&gt;Jt(n)),i._children.sort((n,s)=&gt;s.time-n.time),i}function ei(i,e){if(!i)return null;const t=e.hideRegex,n=e.showRegex;function s(r){const o=r.filePath||&quot;&quot;,c=n&amp;&amp;new RegExp(n).test(o),d=t&amp;&amp;new RegExp(t).test(o);return c?!1:d?!0:!r.isApplicationCode}function l(r,o){o.addFrame(r),r.children.forEach(c=&gt;{s(c)&amp;&amp;l(c,o)})}return i.children.forEach(r=&gt;{if(!r.group&amp;&amp;s(r)&amp;&amp;r.children.some(s)){const o=new En(r);l(r,o)}ei(r,e)}),i}function ti(i,e,t=!0){if(!i)return null;let n=null;for(const s of i.children)s.identifier===Ze?n?(n.time+=s.time,s.removeFromParent()):n=s:n=null;return t&amp;&amp;i.children.forEach(s=&gt;ti(s,e,!0)),i}function ii(i,e){return i?(i.children.length===1&amp;&amp;i.children[0].identifier===Ze&amp;&amp;rt(i.children[0],{replaceWith:&quot;nothing&quot;}),i.children.forEach(t=&gt;ii(t)),i):null}function ni(i,e,t=null){if(!i)return null;t===null&amp;&amp;(t=i.time,t&lt;=0&amp;&amp;(t=1e-44));const n=e.filterThreshold??.01;for(const s of i.children.slice())s.time/t&lt;n&amp;&amp;rt(s,{replaceWith:&quot;nothing&quot;});return i.children.forEach(s=&gt;ni(s,e,t)),i}function si(i,e){if(!i)return null;const t=o=&gt;en(o,c=&gt;c.time),n=o=&gt;{var c;return((c=o.filePath)==null?void 0:c.includes(&quot;pyinstrument/__main__.py&quot;))&amp;&amp;o.children.length&gt;0},s=o=&gt;{var c;return o.proportionOfParent&gt;.8&amp;&amp;((c=o.filePath)==null?void 0:c.includes(&quot;&lt;string&gt;&quot;))&amp;&amp;o.children.length&gt;0},l=o=&gt;{var c;return o.proportionOfParent&gt;.8&amp;&amp;(new RegExp(&quot;.*runpy.py&quot;).test(o.filePath??&quot;&quot;)||((c=o.filePath)==null?void 0:c.includes(&quot;&lt;frozen runpy&gt;&quot;)))&amp;&amp;o.children.length&gt;0};let r=i;if(!n(r)||(r=t(r.children),!s(r))||(r=t(r.children),!l(r)))return i;for(;l(r);)r=t(r.children);return r.removeFromParent(),r}function oi(i,e){return i?(i.children.forEach(t=&gt;oi(t)),i.group&amp;&amp;i.group.frames.length&lt;3&amp;&amp;i.group.removeFrame(i),i):null}function Cn(i){let e,t,n;return t=new Kt({props:{frame:i[3],rootFrame:i[3]}}),{c(){e=h(&quot;div&quot;),we(t.$$.fragment),a(e,&quot;class&quot;,&quot;call-stack-margins svelte-1hebm9u&quot;)},m(s,l){S(s,e,l),ce(t,e,null),n=!0},p(s,l){const r={};l&amp;8&amp;&amp;(r.frame=s[3]),l&amp;8&amp;&amp;(r.rootFrame=s[3]),t.$set(r)},i(s){n||(D(t.$$.fragment,s),n=!0)},o(s){x(t.$$.fragment,s),n=!1},d(s){s&amp;&amp;L(e),ue(t)}}}function Mn(i){let e;return{c(){e=h(&quot;div&quot;),e.innerHTML=&#x27;&lt;div class=&quot;error&quot;&gt;All frames were filtered out.&lt;/div&gt;&#x27;,a(e,&quot;class&quot;,&quot;margins&quot;)},m(t,n){S(t,e,n)},p:F,i:F,o:F,d(t){t&amp;&amp;L(e)}}}function Fn(i){let e,t,n,s,l,r,o;const c=[Mn,Cn],d=[];function v(p,m){return p[3]?1:0}return n=v(i),s=d[n]=c[n](i),{c(){e=h(&quot;div&quot;),t=h(&quot;div&quot;),s.c(),l=b(),r=h(&quot;div&quot;),a(t,&quot;class&quot;,&quot;scroll-inner svelte-1hebm9u&quot;),a(r,&quot;class&quot;,&quot;scroll-size-fixer svelte-1hebm9u&quot;),a(e,&quot;class&quot;,&quot;call-stack-view svelte-1hebm9u&quot;)},m(p,m){S(p,e,m),u(e,t),d[n].m(t,null),i[7](t),u(e,l),u(e,r),i[8](r),i[9](e),o=!0},p(p,[m]){let f=n;n=v(p),n===f?d[n].p(p,m):(Oe(),x(d[f],1,1,()=&gt;{d[f]=null}),Ve(),s=d[n],s?s.p(p,m):(s=d[n]=c[n](p),s.c()),D(s,1),s.m(t,null))},i(p){o||(D(s),o=!0)},o(p){x(s),o=!1},d(p){p&amp;&amp;L(e),d[n].d(),i[7](null),i[8](null),i[9](null)}}}function Pn(i,e,t){let n,{session:s}=e;const l=Vt([Z],([f])=&gt;{const g=[f.removeImportlib?Ft:null,f.removeTracebackHide?Pt:null,ti,Jt,ii,f.removeIrrelevant?ni:null,f.removePyinstrument?si:null,f.collapseMode!==&quot;disabled&quot;?ei:null,oi].filter(E=&gt;E!==null),w={filterThreshold:f.removeIrrelevantThreshold,hideRegex:f.collapseMode==&quot;custom&quot;?f.collapseCustomHide:void 0,showRegex:f.collapseMode==&quot;custom&quot;?f.collapseCustomShow:void 0};return{processors:g,options:w}});ge(i,l,f=&gt;t(6,n=f));let r,o,c;bt(()=&gt;{let f=0;const g=r;if(!g)throw new Error(&quot;element not set&quot;);if(!o)throw new Error(&quot;scrollInnerElement not set&quot;);if(!c)throw new Error(&quot;scrollSizeFixerElement not set&quot;);const w=new ResizeObserver(()=&gt;{const C=o.getBoundingClientRect().height;C&gt;f&amp;&amp;(f=C,t(2,c.style.top=`${f-1}px`,c))});w.observe(o);let E;return g.addEventListener(&quot;scroll&quot;,E=()=&gt;{let C=g.scrollTop+g.clientHeight;const y=o.getBoundingClientRect().height;C&lt;y&amp;&amp;(C=y),C&lt;f&amp;&amp;(f=C,t(2,c.style.top=`${f-1}px`,c))}),E(),()=&gt;{w.disconnect(),g.removeEventListener(&quot;scroll&quot;,E)}});let d;function v(f){ke[f?&quot;unshift&quot;:&quot;push&quot;](()=&gt;{o=f,t(1,o)})}function p(f){ke[f?&quot;unshift&quot;:&quot;push&quot;](()=&gt;{c=f,t(2,c)})}function m(f){ke[f?&quot;unshift&quot;:&quot;push&quot;](()=&gt;{r=f,t(0,r)})}return i.$$set=f=&gt;{&quot;session&quot;in f&amp;&amp;t(5,s=f.session)},i.$$.update=()=&gt;{i.$$.dirty&amp;96&amp;&amp;t(3,d=Qt(s.rootFrame.cloneDeep(),n.processors,n.options))},[r,o,c,d,l,s,n,v,p,m]}class Rn extends fe{constructor(e){super(),de(this,e,Pn,Fn,re,{session:5})}}class In{constructor(e){A(this,&quot;mediaQueryList&quot;,null);this.onDevicePixelRatioChanged=e,this._onChange=this._onChange.bind(this),this.createMediaQueryList()}createMediaQueryList(){this.removeMediaQueryList();let e=`(resolution: ${window.devicePixelRatio}dppx)`;this.mediaQueryList=matchMedia(e),this.mediaQueryList.addEventListener(&quot;change&quot;,this._onChange)}removeMediaQueryList(){var e;(e=this.mediaQueryList)==null||e.removeEventListener(&quot;change&quot;,this._onChange),this.mediaQueryList=null}_onChange(e){this.onDevicePixelRatioChanged(),this.createMediaQueryList()}destroy(){this.removeMediaQueryList()}}class Ln{constructor(e){A(this,&quot;canvas&quot;);A(this,&quot;_size_observer&quot;);A(this,&quot;_devicePixelRatioObserver&quot;);A(this,&quot;drawAnimationRequest&quot;,null);this.container=e,getComputedStyle(e).position!=&quot;absolute&quot;&amp;&amp;(e.style.position=&quot;relative&quot;),this.canvas=document.createElement(&quot;canvas&quot;),this.canvas.style.position=&quot;absolute&quot;,this.canvas.style.left=&quot;0&quot;,this.canvas.style.top=&quot;0&quot;,this.canvas.style.width=&quot;100%&quot;,this.canvas.style.height=&quot;100%&quot;,this.container.appendChild(this.canvas),this.setCanvasSize=this.setCanvasSize.bind(this),this._size_observer=new ResizeObserver(this.setCanvasSize),this._size_observer.observe(e),this._devicePixelRatioObserver=new In(this.setCanvasSize),window.requestAnimationFrame(()=&gt;{this.setCanvasSize()})}destroy(){this._size_observer.disconnect(),this._devicePixelRatioObserver.destroy(),this.canvas.remove(),this.drawAnimationRequest!==null&amp;&amp;(window.cancelAnimationFrame(this.drawAnimationRequest),this.drawAnimationRequest=null)}setNeedsRedraw(){this.drawAnimationRequest===null&amp;&amp;(this.drawAnimationRequest=window.requestAnimationFrame(()=&gt;{this.drawAnimationRequest=null,this.canvasViewRedraw()}))}redrawIfNeeded(){this.drawAnimationRequest!==null&amp;&amp;(window.cancelAnimationFrame(this.drawAnimationRequest),this.drawAnimationRequest=null,this.canvasViewRedraw())}canvasViewRedraw(){const e=this.canvas.getContext(&quot;2d&quot;);e&amp;&amp;(e.resetTransform(),e.scale(window.devicePixelRatio,window.devicePixelRatio),this.redraw(e,{width:this.canvas.width/window.devicePixelRatio,height:this.canvas.height/window.devicePixelRatio}))}get width(){return this.canvas.width/window.devicePixelRatio}get height(){return this.canvas.height/window.devicePixelRatio}setCanvasSize(){const e=window.devicePixelRatio;this.canvas.height=this.container.clientHeight*e,this.canvas.width=this.container.clientWidth*e,this.canvasViewRedraw()}}function Sn(i){let e,t=i[2]==&quot;self&quot;?&quot;self&quot;:&quot;time&quot;,n,s,l,r=i[3](i[0].time)+&quot;&quot;;return{c(){e=h(&quot;div&quot;),n=I(t),s=b(),l=h(&quot;div&quot;),a(e,&quot;class&quot;,&quot;label svelte-ci3g2p&quot;),a(l,&quot;class&quot;,&quot;time-val svelte-ci3g2p&quot;)},m(o,c){S(o,e,c),u(e,n),S(o,s,c),S(o,l,c),l.innerHTML=r},p(o,c){c&amp;4&amp;&amp;t!==(t=o[2]==&quot;self&quot;?&quot;self&quot;:&quot;time&quot;)&amp;&amp;_e(n,t),c&amp;1&amp;&amp;r!==(r=o[3](o[0].time)+&quot;&quot;)&amp;&amp;(l.innerHTML=r)},d(o){o&amp;&amp;(L(e),L(s),L(l))}}}function Dn(i){let e,t,n,s,l=i[3](i[0].time)+&quot;&quot;,r,o=i[0].selfTime/i[0].time&gt;.001&amp;&amp;ri(i);return{c(){e=h(&quot;div&quot;),e.textContent=&quot;time&quot;,t=b(),n=h(&quot;div&quot;),s=h(&quot;div&quot;),r=b(),o&amp;&amp;o.c(),a(e,&quot;class&quot;,&quot;label svelte-ci3g2p&quot;),a(s,&quot;class&quot;,&quot;time-val svelte-ci3g2p&quot;),a(n,&quot;class&quot;,&quot;time-row svelte-ci3g2p&quot;)},m(c,d){S(c,e,d),S(c,t,d),S(c,n,d),u(n,s),s.innerHTML=l,u(n,r),o&amp;&amp;o.m(n,null)},p(c,d){d&amp;1&amp;&amp;l!==(l=c[3](c[0].time)+&quot;&quot;)&amp;&amp;(s.innerHTML=l),c[0].selfTime/c[0].time&gt;.001?o?o.p(c,d):(o=ri(c),o.c(),o.m(n,null)):o&amp;&amp;(o.d(1),o=null)},d(c){c&amp;&amp;(L(e),L(t),L(n)),o&amp;&amp;o.d()}}}function ri(i){let e,t,n,s=i[3](i[0].selfTime)+&quot;&quot;;return{c(){e=h(&quot;div&quot;),e.textContent=&quot;self&quot;,t=b(),n=h(&quot;div&quot;),a(e,&quot;class&quot;,&quot;label svelte-ci3g2p&quot;),a(n,&quot;class&quot;,&quot;time-val svelte-ci3g2p&quot;)},m(l,r){S(l,e,r),S(l,t,r),S(l,n,r),n.innerHTML=s},p(l,r){r&amp;1&amp;&amp;s!==(s=l[3](l[0].selfTime)+&quot;&quot;)&amp;&amp;(n.innerHTML=s)},d(l){l&amp;&amp;(L(e),L(t),L(n))}}}function Hn(i){let e,t,n=i[0].name+&quot;&quot;,s,l,r,o,c,d,v,p,m,f;function g(C,y){return C[2]==&quot;both&quot;?Dn:Sn}let w=g(i),E=w(i);return{c(){e=h(&quot;div&quot;),t=h(&quot;div&quot;),s=I(n),l=b(),E.c(),r=b(),o=h(&quot;div&quot;),o.textContent=&quot;loc&quot;,c=b(),d=h(&quot;div&quot;),v=h(&quot;div&quot;),m=b(),f=new Ri(!1),a(t,&quot;class&quot;,&quot;name svelte-ci3g2p&quot;),a(o,&quot;class&quot;,&quot;label svelte-ci3g2p&quot;),a(v,&quot;class&quot;,&quot;location-color svelte-ci3g2p&quot;),a(v,&quot;style&quot;,p=`background: ${i[0].locationColor}`),f.a=null,a(d,&quot;class&quot;,&quot;location-row&quot;),a(e,&quot;class&quot;,&quot;timeline-canvas-view-tooltip svelte-ci3g2p&quot;),a(e,&quot;style&quot;,`font: ${ai}; max-width: ${Vn}px;`)},m(C,y){S(C,e,y),u(e,t),u(t,s),u(e,l),E.m(e,null),u(e,r),u(e,o),u(e,c),u(e,d),u(d,v),u(d,m),f.m(i[1],d)},p(C,[y]){y&amp;1&amp;&amp;n!==(n=C[0].name+&quot;&quot;)&amp;&amp;_e(s,n),w===(w=g(C))&amp;&amp;E?E.p(C,y):(E.d(1),E=w(C),E&amp;&amp;(E.c(),E.m(e,r))),y&amp;1&amp;&amp;p!==(p=`background: ${C[0].locationColor}`)&amp;&amp;a(v,&quot;style&quot;,p),y&amp;2&amp;&amp;f.p(C[1])},i:F,o:F,d(C){C&amp;&amp;L(e),E.d()}}}function li(i){return i.selfTime==i.time?&quot;self&quot;:i.selfTime/i.time&gt;.001?&quot;both&quot;:&quot;time&quot;}function On(i,e){i.font=ai;const t=li(e)==&quot;both&quot;?140:70,n=i.measureText(e.name).width,s=i.measureText(e.location).width+46;let r=Math.max(t,n,s)+20;return r&gt;310&amp;&amp;(r=310),r}const Vn=310,ai=&quot;400 13px Source Sans Pro, sans-serif&quot;;function Nn(i,e,t){let{f:n}=e,s,l;function r(o){return`&lt;span style=&quot;color: ${zt(o/n.totalTime)}&quot;&gt;${o.toFixed(3)}&lt;/span&gt;`}return i.$$set=o=&gt;{&quot;f&quot;in o&amp;&amp;t(0,n=o.f)},i.$$.update=()=&gt;{i.$$.dirty&amp;1&amp;&amp;t(1,s=Ct(n.location)),i.$$.dirty&amp;1&amp;&amp;t(2,l=li(n))},[n,s,l,r]}class xn extends fe{constructor(e){super(),de(this,e,Nn,Hn,re,{f:0})}}const $n=&quot;#212325&quot;,ci=18,Bn=17,Ie=28,lt=17,ui=29,zn=[&quot;#3475BA&quot;,&quot;#318DBC&quot;,&quot;#47A298&quot;,&quot;#8AAE5D&quot;,&quot;#C1A731&quot;,&quot;#C07210&quot;,&quot;#B84210&quot;,&quot;#B53134&quot;,&quot;#9A3586&quot;,&quot;#4958B5&quot;,&quot;#3475BA&quot;].map(Ki);class Wn extends Ln{constructor(t){super(t);A(this,&quot;zoom&quot;,1);A(this,&quot;startT&quot;,0);A(this,&quot;yOffset&quot;,0);A(this,&quot;frames&quot;,[]);A(this,&quot;isZoomedIn&quot;,!1);A(this,&quot;tooltipContainer&quot;);A(this,&quot;tooltipComponent&quot;,null);A(this,&quot;_rootFrame&quot;,null);A(this,&quot;maxDepth&quot;,0);A(this,&quot;tooltipLocation&quot;,null);A(this,&quot;lastDrawWidth&quot;,0);A(this,&quot;lastDrawHeight&quot;,0);A(this,&quot;_libraryOrder&quot;,null);A(this,&quot;_colors&quot;,[]);A(this,&quot;_frameMaxT&quot;);A(this,&quot;mouseLocation&quot;,null);A(this,&quot;mouseDownLocation&quot;,null);A(this,&quot;touches&quot;,{});this.onWheel=this.onWheel.bind(this),this.onMouseMove=this.onMouseMove.bind(this),this.onMouseLeave=this.onMouseLeave.bind(this),this.onMouseDown=this.onMouseDown.bind(this),this.windowMouseUp=this.windowMouseUp.bind(this),this.onTouchstart=this.onTouchstart.bind(this),this.onTouchmove=this.onTouchmove.bind(this),this.onTouchend=this.onTouchend.bind(this),this.onTouchcancel=this.onTouchend.bind(this),this.canvas.addEventListener(&quot;wheel&quot;,this.onWheel),this.canvas.addEventListener(&quot;mousemove&quot;,this.onMouseMove),this.canvas.addEventListener(&quot;mouseleave&quot;,this.onMouseLeave),this.canvas.addEventListener(&quot;mousedown&quot;,this.onMouseDown),this.canvas.addEventListener(&quot;touchstart&quot;,this.onTouchstart),this.canvas.addEventListener(&quot;touchmove&quot;,this.onTouchmove),this.canvas.addEventListener(&quot;touchend&quot;,this.onTouchend),this.canvas.addEventListener(&quot;touchcancel&quot;,this.onTouchcancel),this.tooltipContainer=document.createElement(&quot;div&quot;),this.tooltipContainer.style.position=&quot;absolute&quot;,this.tooltipContainer.style.pointerEvents=&quot;none&quot;,this.container.appendChild(this.tooltipContainer)}destroy(){this.canvas.removeEventListener(&quot;wheel&quot;,this.onWheel),this.canvas.removeEventListener(&quot;mousemove&quot;,this.onMouseMove),this.canvas.removeEventListener(&quot;mouseleave&quot;,this.onMouseLeave),this.canvas.removeEventListener(&quot;mousedown&quot;,this.onMouseDown),this.canvas.removeEventListener(&quot;touchstart&quot;,this.onTouchstart),this.canvas.removeEventListener(&quot;touchmove&quot;,this.onTouchmove),this.canvas.removeEventListener(&quot;touchend&quot;,this.onTouchend),this.canvas.removeEventListener(&quot;touchcancel&quot;,this.onTouchcancel),this.tooltipContainer.remove(),super.destroy()}setRootFrame(t){this._rootFrame=t,this.frames=[],this._frameMaxT=void 0,this.maxDepth=0,this._collectFrames(t,0),this.fitContents(),this.setNeedsRedraw()}_collectFrames(t,n){this.frames.push({frame:t,depth:n,isApplicationCode:t.isApplicationCode,library:t.library,className:t.className,filePathShort:t.filePathShort}),this.maxDepth=Math.max(this.maxDepth,n);for(const s of t.children)s.identifier!==Ze&amp;&amp;this._collectFrames(s,n+1)}updateTooltip(t,n){var s;if(n){const l={name:this.frameName(n),time:n.frame.time,selfTime:this.frameSelfTime(n),totalTime:((s=this._rootFrame)==null?void 0:s.time)??1e-12,location:`${n.filePathShort}:${n.frame.lineNo}`,locationColor:this.colorForFrame(n)};if(this.tooltipComponent?this.tooltipComponent.$set({f:l}):this.tooltipComponent=new xn({target:this.tooltipContainer,props:{f:l}}),this.tooltipLocation){const r={x:this.tooltipLocation.x+12,y:this.tooltipLocation.y+12},o=On(t,l),c=this.width-10-o;r.x&gt;c&amp;&amp;(r.x=c);const v=this.height-10-60;r.y&gt;v&amp;&amp;(r.y=v),this.tooltipContainer.style.left=`${r.x}px`,this.tooltipContainer.style.top=`${r.y}px`}}n||this.tooltipComponent&amp;&amp;(this.tooltipComponent.$destroy(),this.tooltipComponent=null)}redraw(t,n){const{width:s,height:l}=n;(s!==this.lastDrawWidth||l!==this.lastDrawHeight)&amp;&amp;(this.isZoomedIn?this.clampViewport():this.fitContents()),this.lastDrawWidth=s,this.lastDrawHeight=l,t.fillStyle=$n,t.fillRect(0,0,s,l),this.drawAxes(t);for(const d of this.frames)this.drawFrame(t,d);t.globalAlpha=1;const r=this.maxYOffset&gt;0||this.isZoomedIn,o=!!this.mouseDownLocation;this.canvas.style.cursor=o&amp;&amp;r?&quot;grabbing&quot;:&quot;initial&quot;,t.fillStyle=&quot;red&quot;,t.font=&#x27;23px &quot;Source Sans Pro&quot;, sans-serif&#x27;;let c=null;!o&amp;&amp;this.tooltipLocation&amp;&amp;(c=this.hitTest(this.tooltipLocation)),this.updateTooltip(t,c)}drawAxes(t){const n=Math.max(800,this.width)/this.zoom;if(n==0)return;const s=Math.log10(n);let l=Math.ceil(s)+2;l&lt;0&amp;&amp;(l=0);const r=Math.ceil(s)-3,o=c=&gt;xe(c,{from:[s,s-3],to:[.71,0],clamp:!0});for(let c=r;c&lt;l;c++){let d=o(c);d=Math.max(0,Math.min(1,d)),d=Math.pow(d,2),this.drawAxis(t,Math.pow(10,c),d)}this.drawAxis(t,Math.pow(10,l),o(l),!0)}drawAxis(t,n,s,l=!1){t.fillStyle=&quot;white&quot;;const r=Math.floor(this.startT/n)*n,o=this.startT+this.width/this.zoom,c=Math.max(0,Math.ceil(-Math.log10(n)));for(let d=r;d&lt;o;d+=n){const v=this.xForT(d);if(Math.round(d/n)%10===0&amp;&amp;!l)continue;t.globalAlpha=s;const m=lt-this.yOffset;t.fillRect(v,m,1,this.height-m);const f=xe(s,{from:[.12,.25],to:[0,.5],clamp:!0});if(f&gt;.01){t.globalAlpha=f,t.font=&#x27;13px &quot;Source Sans Pro&quot;, sans-serif&#x27;;let g=d.toFixed(c);g==&quot;0&quot;&amp;&amp;(g=&quot;0s&quot;);let w=m+10;t.fillText(g,v+3,w);let E=this.height+lt+10-this.yOffset;E&lt;this.height-3&amp;&amp;(E=this.height-3),t.fillText(g,v+3,E)}t.globalAlpha=1}}drawFrame(t,n){const{x:s,y:l,w:r,h:o}=this.frameDims(n);if(s+r&lt;0||s&gt;this.width)return;if(t.fillStyle=this.colorForFrame(n),t.globalAlpha=n.isApplicationCode?1:.5,r&lt;2){t.fillRect(s,l,r,o);return}let d=this.frameName(n);const v=Math.floor(r/3.3);if(d.length&gt;v&amp;&amp;(d=d.substring(0,v)),d.length==0){t.fillRect(s,l,r,o);return}t.save(),t.beginPath(),t.rect(s,l,r,o),t.fill(),t.clip(),t.font=&#x27;13px &quot;Source Sans Pro&quot;, sans-serif&#x27;,t.fillStyle=&quot;white&quot;;let p=s;p&lt;0&amp;&amp;(p=0),t.fillText(d,p+2,l+13),t.restore()}_assignLibraryOrder(){const t={};for(const s of this.frames){const r=s.frame.library??&quot;&quot;;t[r]=(t[r]||0)+s.frame.time}const n=Object.keys(t);n.sort((s,l)=&gt;t[l]-t[s]),this._libraryOrder=n}colorForLibraryIndex(t){if(this._colors[t]!==void 0)return this._colors[t];const n=Math.pow(2,Math.ceil(Math.log2(t+1))),l=(2*t-n+1)/n,r=Gi(zn,l);return this._colors[t]=r,r}libraryIndexForFrame(t){this._libraryOrder||this._assignLibraryOrder();const n=t.library||&quot;&quot;;let s=this._libraryOrder.indexOf(n);return s===-1&amp;&amp;(s=this._libraryOrder.length,this._libraryOrder.push(n)),s}colorForFrame(t){const n=this.libraryIndexForFrame(t);return this.colorForLibraryIndex(n)}get frameMaxT(){return this._frameMaxT===void 0&amp;&amp;(this._frameMaxT=this.frames.reduce((t,n)=&gt;Math.max(t,n.frame.startTime+n.frame.time),0)),this._frameMaxT}get maxYOffset(){return Math.max(0,(this.maxDepth+1)*ci+lt*2+ui-this.height)}get minZoom(){return(this.width-2*Ie)/this.frameMaxT}get maxZoom(){return 6666666666666667e-8}fitContents(){this.startT=0,this.zoom=this.minZoom,this.isZoomedIn=!1}clampViewport(){this.zoom&lt;this.minZoom?(this.zoom=this.minZoom,this.isZoomedIn=!1):this.isZoomedIn=!0,this.zoom&gt;this.maxZoom&amp;&amp;(this.zoom=this.maxZoom),this.startT&lt;0&amp;&amp;(this.startT=0);const t=this.frameMaxT-(this.width-2*Ie)/this.zoom;this.startT&gt;t&amp;&amp;(this.startT=t),this.yOffset&lt;0&amp;&amp;(this.yOffset=0),this.yOffset&gt;this.maxYOffset&amp;&amp;(this.yOffset=this.maxYOffset)}frameDims(t){const n=t.depth*ci+lt+ui-this.yOffset,s=Bn;let l=this.xForT(t.frame.startTime),o=this.xForT(t.frame.startTime+t.frame.time)-l;return o&lt;1&amp;&amp;(o=1),o&gt;1&amp;&amp;(o-=xe(o,{from:[1,3],to:[0,1],clamp:!0})),{x:l,y:n,w:o,h:s}}xForT(t){return(t-this.startT)*this.zoom+Ie}tForX(t){return(t-Ie)/this.zoom+this.startT}frameName(t){let n;return t.className?n=`${t.className}.${t.frame.function}`:t.frame.function==&quot;&lt;module&gt;&quot;?n=t.filePathShort??t.frame.filePath??&quot;&quot;:n=t.frame.function,n}frameSelfTime(t){let n=t.frame.time;const s=t.frame.children.filter(l=&gt;!l.isSynthetic);for(const l of s)n-=l.time;return n}hitTest(t){for(const n of this.frames){const{x:s,y:l,w:r,h:o}=this.frameDims(n);if(t.x&gt;=s&amp;&amp;t.x&lt;=s+r&amp;&amp;t.y&gt;=l&amp;&amp;t.y&lt;=l+o)return n}return null}onWheel(t){const n=t.ctrlKey||t.metaKey,s=n?.01:.0023,l=this.tForX(t.offsetX);this.zoom*=1-t.deltaY*s,this.clampViewport(),this.startT=l-(t.offsetX-Ie)/this.zoom,n||(this.startT+=t.deltaX/this.zoom),this.clampViewport(),this.setNeedsRedraw(),t.preventDefault()}onMouseMove(t){const n={x:t.offsetX,y:t.offsetY},s=this.mouseLocation;if(this.mouseLocation=n,s&amp;&amp;this.mouseDownLocation){const l={x:n.x-s.x,y:n.y-s.y};this.startT-=l.x/this.zoom,this.yOffset-=l.y,this.clampViewport()}this.tooltipLocation=n,this.setNeedsRedraw()}onMouseLeave(t){this.mouseLocation=null,this.tooltipLocation=null,this.setNeedsRedraw()}onMouseDown(t){(t.button===0||t.button===1)&amp;&amp;(this.mouseDownLocation={x:t.offsetX,y:t.offsetY},window.addEventListener(&quot;mouseup&quot;,this.windowMouseUp),this.setNeedsRedraw())}windowMouseUp(t){window.removeEventListener(&quot;mouseup&quot;,this.windowMouseUp),this.mouseDownLocation=null,this.setNeedsRedraw()}onTouchstart(t){t.preventDefault(),t.stopPropagation();for(const n of Array.from(t.changedTouches))this.touches[n.identifier]={x:n.clientX,y:n.clientY,downT:this.tForX(n.clientX),startDate:Date.now(),downX:n.clientX,downY:n.clientY}}onTouchmove(t){t.preventDefault(),t.stopPropagation();let n=0;for(const l of Array.from(t.changedTouches)){const r=this.touches[l.identifier];r&amp;&amp;(n+=l.clientY-r.y,this.touches[l.identifier]={...r,x:l.clientX,y:l.clientY})}const s=n/Object.keys(this.touches).length;this.yOffset-=s,this.adjustXAxisForTouches(),this.setNeedsRedraw()}onTouchend(t){t.preventDefault(),t.stopPropagation();for(const n of Array.from(t.changedTouches))delete this.touches[n.identifier];this.setNeedsRedraw()}onTouchcancel(t){t.preventDefault(),t.stopPropagation();for(const n of Array.from(t.changedTouches))delete this.touches[n.identifier];this.setNeedsRedraw()}adjustXAxisForTouches(){const t=Object.keys(this.touches).map(Number);if(t.length!=0){if(t.length==1){const n=this.touches[t[0]];this.startT=n.downT-(n.x-Ie)/this.zoom}if(t.length&gt;=2){const n=this.touches[t[0]],s=this.touches[t[1]],l=(s.x-n.x)/(s.downT-n.downT),r=n.downT-(n.x-Ie)/l;this.startT=r,this.zoom=l}this.clampViewport()}}}function qn(i){let e;return{c(){e=h(&quot;div&quot;),e.innerHTML=&quot;&quot;,a(e,&quot;class&quot;,&quot;timeline svelte-p2tt1k&quot;)},m(t,n){S(t,e,n),i[6](e)},p:F,i:F,o:F,d(t){t&amp;&amp;L(e),i[6](null)}}}function Un(i,e,t){let n,{session:s}=e;const l=Vt([je],([v])=&gt;({processors:[v.removeImportlib?Ft:null,v.removeTracebackHide?Pt:null,v.removePyinstrument?si:null].filter(f=&gt;f!==null),options:{}}));ge(i,l,v=&gt;t(5,n=v));let r,o=null,c=null;Ii(()=&gt;{c==null||c.destroy()});function d(v){ke[v?&quot;unshift&quot;:&quot;push&quot;](()=&gt;{o=v,t(0,o)})}return i.$$set=v=&gt;{&quot;session&quot;in v&amp;&amp;t(2,s=v.session)},i.$$.update=()=&gt;{i.$$.dirty&amp;36&amp;&amp;t(3,r=Qt(s.rootFrame.cloneDeep(),n.processors,n.options)),i.$$.dirty&amp;1&amp;&amp;o&amp;&amp;t(4,c=new Wn(o)),i.$$.dirty&amp;24&amp;&amp;r&amp;&amp;c&amp;&amp;c.setRootFrame(r)},[o,l,s,r,c,n,d]}class Yn extends fe{constructor(e){super(),de(this,e,Un,qn,re,{session:2})}}function Xn(i){let e,t,n=i[1].viewMode+&quot;&quot;,s;return{c(){e=h(&quot;div&quot;),t=I(&quot;Unknown view mode: &quot;),s=I(n),a(e,&quot;class&quot;,&quot;error&quot;)},m(l,r){S(l,e,r),u(e,t),u(e,s)},p(l,r){r&amp;2&amp;&amp;n!==(n=l[1].viewMode+&quot;&quot;)&amp;&amp;_e(s,n)},i:F,o:F,d(l){l&amp;&amp;L(e)}}}function Gn(i){let e,t;return e=new Yn({props:{session:i[0]}}),{c(){we(e.$$.fragment)},m(n,s){ce(e,n,s),t=!0},p(n,s){const l={};s&amp;1&amp;&amp;(l.session=n[0]),e.$set(l)},i(n){t||(D(e.$$.fragment,n),t=!0)},o(n){x(e.$$.fragment,n),t=!1},d(n){ue(e,n)}}}function jn(i){let e,t;return e=new Rn({props:{session:i[0]}}),{c(){we(e.$$.fragment)},m(n,s){ce(e,n,s),t=!0},p(n,s){const l={};s&amp;1&amp;&amp;(l.session=n[0]),e.$set(l)},i(n){t||(D(e.$$.fragment,n),t=!0)},o(n){x(e.$$.fragment,n),t=!1},d(n){ue(e,n)}}}function Zn(i){let e;return{c(){e=h(&quot;div&quot;),e.innerHTML=&#x27;&lt;div class=&quot;spacer&quot; style=&quot;height: 20px;&quot;&gt;&lt;/div&gt; &lt;div class=&quot;error&quot;&gt;No samples recorded.&lt;/div&gt;&#x27;,a(e,&quot;class&quot;,&quot;margins&quot;)},m(t,n){S(t,e,n)},p:F,i:F,o:F,d(t){t&amp;&amp;L(e)}}}function Kn(i){let e,t,n,s,l,r,o,c;n=new pn({props:{session:i[0]}});const d=[Zn,jn,Gn,Xn],v=[];function p(m,f){return m[0].rootFrame?m[1].viewMode===&quot;call-stack&quot;?1:m[1].viewMode===&quot;timeline&quot;?2:3:0}return r=p(i),o=v[r]=d[r](i),{c(){e=h(&quot;div&quot;),t=h(&quot;div&quot;),we(n.$$.fragment),s=b(),l=h(&quot;div&quot;),o.c(),a(t,&quot;class&quot;,&quot;header&quot;),a(l,&quot;class&quot;,&quot;body svelte-1vwroj7&quot;),a(e,&quot;class&quot;,&quot;app svelte-1vwroj7&quot;)},m(m,f){S(m,e,f),u(e,t),ce(n,t,null),u(e,s),u(e,l),v[r].m(l,null),c=!0},p(m,[f]){const g={};f&amp;1&amp;&amp;(g.session=m[0]),n.$set(g);let w=r;r=p(m),r===w?v[r].p(m,f):(Oe(),x(v[w],1,1,()=&gt;{v[w]=null}),Ve(),o=v[r],o?o.p(m,f):(o=v[r]=d[r](m),o.c()),D(o,1),o.m(l,null))},i(m){c||(D(n.$$.fragment,m),D(o),c=!0)},o(m){x(n.$$.fragment,m),x(o),c=!1},d(m){m&amp;&amp;L(e),ue(n),v[r].d()}}}function Qn(i,e,t){let n;ge(i,Ge,p=&gt;t(1,n=p));let{session:s}=e;const l=document.createElement(&quot;link&quot;);l.rel=&quot;shortcut icon&quot;,l.href=vn,document.head.appendChild(l);const r=document.createElement(&quot;link&quot;);r.rel=&quot;preload&quot;,r.as=&quot;style&quot;,r.onload=()=&gt;{r.rel=&quot;stylesheet&quot;},r.href=&quot;https://fonts.googleapis.com/css?family=Source+Code+Pro:400,600|Source+Sans+Pro:400,600&amp;display=swap&quot;,document.head.appendChild(r);const o=s.rootFrame,c=o==null?void 0:o.time.toLocaleString(void 0,{maximumSignificantDigits:3});let d,v;return(v=/[^\\s/]+(:\\d+)?$/.exec(s.target_description))?d=v[0]:d=s.target_description,document.title=`${c}s - ${d} - pyinstrument`,i.$$set=p=&gt;{&quot;session&quot;in p&amp;&amp;t(0,s=p.session)},[s,n]}class Jn extends fe{constructor(e){super(),de(this,e,Qn,Kn,re,{session:0})}}class es{constructor(e){A(this,&quot;startTime&quot;);A(this,&quot;duration&quot;);A(this,&quot;minInterval&quot;);A(this,&quot;maxInterval&quot;);A(this,&quot;sampleCount&quot;);A(this,&quot;target_description&quot;);A(this,&quot;cpuTime&quot;);A(this,&quot;rootFrame&quot;);A(this,&quot;sysPath&quot;);A(this,&quot;sysPrefixes&quot;);A(this,&quot;_shortenPathCache&quot;,{});this.startTime=e.session.start_time,this.duration=e.session.duration,this.minInterval=e.session.min_interval,this.maxInterval=e.session.max_interval,this.sampleCount=e.session.sample_count,this.target_description=e.session.target_description,this.cpuTime=e.session.cpu_time,this.sysPath=e.session.sys_path,this.sysPrefixes=e.session.sys_prefixes,this.rootFrame=new Ke(e.frame_tree,this)}shortenPath(e){if(this._shortenPathCache[e])return this._shortenPathCache[e];let t=e;if($e(e).length&gt;1)for(const s of this.sysPath){const l=ts(e,s);$e(l).length&lt;$e(t).length&amp;&amp;(t=l)}return this._shortenPathCache[e]=t,t}}function $e(i){return i.split(/[/\\\\]/)}function di(i){const e=$e(i);return e.length&gt;0&amp;&amp;e[0].endsWith(&quot;:&quot;)?e[0]:null}function ts(i,e){if(di(i)!=di(e))return i;const t=$e(i),n=$e(e);let s=0;for(;s&lt;t.length&amp;&amp;s&lt;n.length&amp;&amp;t[s]==n[s];)s++;return n.slice(s).map(r=&gt;&quot;..&quot;).concat(t.slice(s)).join(&quot;/&quot;)}return{render(i,e){const t=new es(e);return new Jn({target:i,props:{session:t}})}}}();\n",
       "&lt;/script&gt;\n",
       "                &lt;style&gt;html,body{background-color:#303538;color:#fff;padding:0;margin:0}.margins{padding:0 30px}label{-webkit-user-select:none;user-select:none}label *{-webkit-user-select:initial;user-select:initial}.view-options-call-stack.svelte-1pecl4m.svelte-1pecl4m{padding:6px 9px}.option.svelte-1pecl4m.svelte-1pecl4m{display:grid;grid-template-columns:auto 1fr;align-items:start;padding-left:1px;margin-bottom:3px}.option.svelte-1pecl4m .description.svelte-1pecl4m{font-size:12px;color:#999;grid-column:2/3}.option-group.svelte-1pecl4m.svelte-1pecl4m{margin-bottom:10px}.option-group.svelte-1pecl4m .name.svelte-1pecl4m{margin-bottom:4px}.mini-input-grid.svelte-1pecl4m.svelte-1pecl4m{display:grid;grid-template-columns:auto 1fr;gap:5px;align-items:baseline;margin-top:3px;margin-bottom:2px}.mini-input-grid.svelte-1pecl4m label.svelte-1pecl4m{font-weight:600}input.svelte-1pecl4m.svelte-1pecl4m{font-family:Source Code Pro,Roboto Mono,Consolas,Monaco,monospace;font-size-adjust:.486094;border-radius:3px;background:#4e5255;padding:1px 5px;font-size:12px;border:1px solid #4e5255;color:#ccc}input.svelte-1pecl4m.svelte-1pecl4m:focus-visible{outline:1px solid #abb2b7}input[type=number].svelte-1pecl4m.svelte-1pecl4m::-webkit-inner-spin-button{-webkit-appearance:none}.view-options-timeline.svelte-vsz8zm{padding:6px 9px}.view-options.svelte-rpk7lo{position:absolute;z-index:1;right:0}.box.svelte-rpk7lo{width:90vw;max-width:282px;height:max-content;max-height:calc(100vh - 100px);position:absolute;right:0;top:calc(100% + 4px);border-radius:5px;border:1px solid #4e5255;background:#2a2f32;box-shadow:0 2px 14px -5px #00000040;overflow:hidden;display:flex;flex-direction:column}.title-row.svelte-rpk7lo{padding:5px 9px;font-size:12px;font-weight:600;background-color:#3c4144}.body.svelte-rpk7lo{overflow-y:auto;flex-basis:content;flex-shrink:1}.header.svelte-qdxst2.svelte-qdxst2{background:#292f32;font-size:14px;padding:9px 0}.row.svelte-qdxst2.svelte-qdxst2{display:flex;align-items:center;gap:10px}.logo.svelte-qdxst2.svelte-qdxst2{margin:0 -3px 0 -6px}.layout.svelte-qdxst2.svelte-qdxst2{flex:1;display:grid;gap:0 10px;grid-template-columns:auto minmax(auto,max-content)}@media (max-width: 800px){.layout.svelte-qdxst2.svelte-qdxst2{grid-template-columns:1fr}}.target-description.svelte-qdxst2.svelte-qdxst2{font-weight:600;margin-bottom:1px}.view-options.svelte-qdxst2.svelte-qdxst2{display:flex;flex-wrap:wrap}.view-options.svelte-qdxst2 label.svelte-qdxst2{margin:0 5px;white-space:nowrap}.metrics.svelte-qdxst2.svelte-qdxst2{grid-row:span 2;text-align:right;align-items:end;min-width:min-content}@media (max-width: 800px){.metrics.svelte-qdxst2.svelte-qdxst2{text-align:left}.metrics.svelte-qdxst2 br.svelte-qdxst2{display:none}}.metric.svelte-qdxst2.svelte-qdxst2{display:inline-block;white-space:nowrap;margin-left:2px}@media (max-width: 800px){.metric.svelte-qdxst2.svelte-qdxst2{margin-left:0;margin-right:2px}}.metric-label.svelte-qdxst2.svelte-qdxst2{font-weight:600;color:#fff9}.metric-value.svelte-qdxst2.svelte-qdxst2{color:#fff6}input[type=radio].svelte-qdxst2.svelte-qdxst2{vertical-align:-8%}.button-container.svelte-qdxst2.svelte-qdxst2{position:relative}button.svelte-qdxst2.svelte-qdxst2{background:#5c6063;border-radius:6px;font:inherit;font-size:.8571428571em;color:inherit;border:none;cursor:pointer}button.svelte-qdxst2.svelte-qdxst2:hover{background:#63686b}button.svelte-qdxst2.svelte-qdxst2:active{background:#55585b}.frame.svelte-7e9kco.svelte-7e9kco{font-family:Source Code Pro,Roboto Mono,Consolas,Monaco,monospace;font-size-adjust:.486094;font-size:14px;z-index:0;position:relative;-webkit-user-select:none;user-select:none}.group-header.svelte-7e9kco.svelte-7e9kco{-webkit-user-select:none;user-select:none}.group-header-button.svelte-7e9kco.svelte-7e9kco{margin-left:35px;display:inline-block;color:#ffffff94;-webkit-user-select:none;user-select:none;cursor:default;position:relative}.group-header-button.svelte-7e9kco.svelte-7e9kco:before{position:absolute;left:-3px;right:-3px;top:0;bottom:0;content:&quot;&quot;;z-index:-1;background-color:#3b4043}.group-header-button.svelte-7e9kco.svelte-7e9kco:hover:before{background-color:#4a4f54}.group-triangle.svelte-7e9kco.svelte-7e9kco,.frame-triangle.svelte-7e9kco.svelte-7e9kco{width:6px;height:10px;padding-left:6px;padding-right:5px;display:inline-block}.group-triangle.rotate.svelte-7e9kco.svelte-7e9kco,.frame-triangle.rotate.svelte-7e9kco.svelte-7e9kco{transform:translate(6px,4px) rotate(90deg)}.frame-description.svelte-7e9kco.svelte-7e9kco{display:flex;white-space:nowrap}.frame-description.svelte-7e9kco.svelte-7e9kco:hover{background-color:#35475980}.frame-description.svelte-7e9kco.svelte-7e9kco:focus-visible,.group-header.svelte-7e9kco.svelte-7e9kco:focus-visible{outline:none;background-color:#37516c}.frame-triangle.svelte-7e9kco.svelte-7e9kco{opacity:1}.frame-description.children-visible.svelte-7e9kco .frame-triangle.svelte-7e9kco{opacity:0}.frame-description.children-visible.svelte-7e9kco:hover .frame-triangle.svelte-7e9kco,.frame-description.children-visible.svelte-7e9kco:focus-visible .frame-triangle.svelte-7e9kco{opacity:1}.name.svelte-7e9kco.svelte-7e9kco,.time.svelte-7e9kco.svelte-7e9kco,.code-position.svelte-7e9kco.svelte-7e9kco{-webkit-user-select:text;user-select:text;cursor:default}.application-code.svelte-7e9kco .name.svelte-7e9kco{color:#5db3ff}.time.svelte-7e9kco.svelte-7e9kco{margin-right:.55em;color:#b8e98685}.code-position.svelte-7e9kco.svelte-7e9kco{color:#ffffff80;text-align:right;margin-left:2em}.visual-guide.svelte-7e9kco.svelte-7e9kco{top:21px;bottom:0;left:0;width:2px;background-color:#fff;position:absolute;opacity:.08;pointer-events:none}.frame-description:hover~.visual-guide.svelte-7e9kco.svelte-7e9kco{opacity:.4}.frame-description:hover~.children.svelte-7e9kco .visual-guide{opacity:.15}.call-stack-view.svelte-1hebm9u{background-color:#303538;position:absolute;top:0;bottom:0;left:0;right:0;overflow:auto}.call-stack-view.svelte-1hebm9u:focus{outline:none}.scroll-inner.svelte-1hebm9u{padding-top:10px;padding-bottom:40px;box-sizing:border-box;width:auto;min-width:max-content}.call-stack-margins.svelte-1hebm9u{padding-left:18px;padding-right:18px}.scroll-size-fixer.svelte-1hebm9u{height:1px;width:100px;position:absolute;left:0}.timeline-canvas-view-tooltip.svelte-ci3g2p.svelte-ci3g2p{box-sizing:border-box;width:max-content;border-radius:2px;border:1px solid rgba(255,255,255,.09);background:#202325;box-shadow:0 4px 4px #00000040;display:grid;grid-template-columns:minmax(auto,33px) minmax(auto,1fr);gap:1px 0;padding:4px 10px 7px;color:#fff}.timeline-canvas-view-tooltip.svelte-ci3g2p .name.svelte-ci3g2p{grid-column:span 2;line-break:anywhere}.timeline-canvas-view-tooltip.svelte-ci3g2p .label.svelte-ci3g2p{color:#ffffff80;margin-right:8px}.timeline-canvas-view-tooltip.svelte-ci3g2p .time-val.svelte-ci3g2p{margin-right:10px;font-weight:600}.timeline-canvas-view-tooltip.svelte-ci3g2p .time-row.svelte-ci3g2p{display:flex;justify-content:start}.timeline-canvas-view-tooltip.svelte-ci3g2p .location-color.svelte-ci3g2p{width:9px;height:9px;margin-right:3px;border-radius:2px;position:relative;display:inline-block}.timeline-canvas-view-tooltip.svelte-ci3g2p .location-color.svelte-ci3g2p:before{content:&quot;&quot;;position:absolute;top:0;left:0;right:0;bottom:0;border:1px solid #383838;mix-blend-mode:color-dodge;border-radius:2px}.timeline.svelte-p2tt1k{position:absolute;top:0;bottom:0;left:0;right:0;overflow:hidden;-webkit-user-select:none;user-select:none}.app.svelte-1vwroj7{font-family:Source Sans Pro,Arial,Helvetica,sans-serif;font-size-adjust:.486;-webkit-font-smoothing:antialiased;-moz-osx-font-smoothing:grayscale;display:flex;flex-direction:column;position:absolute;top:0;bottom:0;left:0;right:0}.body.svelte-1vwroj7{flex:1;position:relative}\n",
       "&lt;/style&gt;\n",
       "\n",
       "                &lt;script&gt;\n",
       "                    const sessionData = {&quot;session&quot;: {&quot;start_time&quot;: 1730806690.9754868, &quot;duration&quot;: 0.0014772415161132812, &quot;min_interval&quot;: 0.001, &quot;max_interval&quot;: 0.001, &quot;sample_count&quot;: 1, &quot;start_call_stack&quot;: [&quot;MainThread\\u0000&lt;thread&gt;\\u0000139775388411712&quot;, &quot;_run_module_as_main\\u0000/home/twigulus/miniconda3/envs/swd6_hpp/lib/python3.9/runpy.py\\u0000172\\u0001l197&quot;, &quot;_run_code\\u0000/home/twigulus/miniconda3/envs/swd6_hpp/lib/python3.9/runpy.py\\u000064\\u0001l87&quot;, &quot;&lt;module&gt;\\u0000/home/twigulus/miniconda3/envs/swd6_hpp/lib/python3.9/site-packages/ipykernel_launcher.py\\u00001\\u0001l18&quot;, &quot;launch_instance\\u0000/home/twigulus/miniconda3/envs/swd6_hpp/lib/python3.9/site-packages/traitlets/config/application.py\\u00001067\\u0001cIPKernelApp\\u0001l1075&quot;, &quot;start\\u0000/home/twigulus/miniconda3/envs/swd6_hpp/lib/python3.9/site-packages/ipykernel/kernelapp.py\\u0000720\\u0001cIPKernelApp\\u0001l739&quot;, &quot;start\\u0000/home/twigulus/miniconda3/envs/swd6_hpp/lib/python3.9/site-packages/tornado/platform/asyncio.py\\u0000204\\u0001cAsyncIOMainLoop\\u0001l205&quot;, &quot;run_forever\\u0000/home/twigulus/miniconda3/envs/swd6_hpp/lib/python3.9/asyncio/base_events.py\\u0000588\\u0001c_UnixSelectorEventLoop\\u0001l601&quot;, &quot;_run_once\\u0000/home/twigulus/miniconda3/envs/swd6_hpp/lib/python3.9/asyncio/base_events.py\\u00001830\\u0001c_UnixSelectorEventLoop\\u0001l1905&quot;, &quot;_run\\u0000/home/twigulus/miniconda3/envs/swd6_hpp/lib/python3.9/asyncio/events.py\\u000078\\u0001cHandle\\u0001l80&quot;, &quot;dispatch_queue\\u0000/home/twigulus/miniconda3/envs/swd6_hpp/lib/python3.9/site-packages/ipykernel/kernelbase.py\\u0000536\\u0001cIPythonKernel\\u0001l545&quot;, &quot;process_one\\u0000/home/twigulus/miniconda3/envs/swd6_hpp/lib/python3.9/site-packages/ipykernel/kernelbase.py\\u0000522\\u0001cIPythonKernel\\u0001l534&quot;, &quot;dispatch_shell\\u0000/home/twigulus/miniconda3/envs/swd6_hpp/lib/python3.9/site-packages/ipykernel/kernelbase.py\\u0000386\\u0001cIPythonKernel\\u0001l437&quot;, &quot;execute_request\\u0000/home/twigulus/miniconda3/envs/swd6_hpp/lib/python3.9/site-packages/ipykernel/ipkernel.py\\u0000358\\u0001cIPythonKernel\\u0001l362&quot;, &quot;execute_request\\u0000/home/twigulus/miniconda3/envs/swd6_hpp/lib/python3.9/site-packages/ipykernel/kernelbase.py\\u0000732\\u0001cIPythonKernel\\u0001l778&quot;, &quot;do_execute\\u0000/home/twigulus/miniconda3/envs/swd6_hpp/lib/python3.9/site-packages/ipykernel/ipkernel.py\\u0000364\\u0001cIPythonKernel\\u0001l449&quot;, &quot;run_cell\\u0000/home/twigulus/miniconda3/envs/swd6_hpp/lib/python3.9/site-packages/ipykernel/zmqshell.py\\u0000546\\u0001cZMQInteractiveShell\\u0001l549&quot;, &quot;run_cell\\u0000/home/twigulus/miniconda3/envs/swd6_hpp/lib/python3.9/site-packages/IPython/core/interactiveshell.py\\u00003015\\u0001cZMQInteractiveShell\\u0001l3048&quot;, &quot;_run_cell\\u0000/home/twigulus/miniconda3/envs/swd6_hpp/lib/python3.9/site-packages/IPython/core/interactiveshell.py\\u00003057\\u0001cZMQInteractiveShell\\u0001l3103&quot;, &quot;_pseudo_sync_runner\\u0000/home/twigulus/miniconda3/envs/swd6_hpp/lib/python3.9/site-packages/IPython/core/async_helpers.py\\u0000120\\u0001l129&quot;, &quot;run_cell_async\\u0000/home/twigulus/miniconda3/envs/swd6_hpp/lib/python3.9/site-packages/IPython/core/interactiveshell.py\\u00003156\\u0001cZMQInteractiveShell\\u0001l3308&quot;, &quot;run_ast_nodes\\u0000/home/twigulus/miniconda3/envs/swd6_hpp/lib/python3.9/site-packages/IPython/core/interactiveshell.py\\u00003391\\u0001cZMQInteractiveShell\\u0001l3490&quot;, &quot;run_code\\u0000/home/twigulus/miniconda3/envs/swd6_hpp/lib/python3.9/site-packages/IPython/core/interactiveshell.py\\u00003514\\u0001cZMQInteractiveShell\\u0001l3550\\u0001h1&quot;, &quot;&lt;module&gt;\\u0000/tmp/ipykernel_24631/1829346328.py\\u00001\\u0001l1&quot;, &quot;run_cell_magic\\u0000/home/twigulus/miniconda3/envs/swd6_hpp/lib/python3.9/site-packages/IPython/core/interactiveshell.py\\u00002477\\u0001cZMQInteractiveShell\\u0001l2517&quot;, &quot;pyinstrument\\u0000/home/twigulus/miniconda3/envs/swd6_hpp/lib/python3.9/site-packages/pyinstrument/magic/magic.py\\u000078\\u0001cPyinstrumentMagic\\u0001l153&quot;, &quot;run_cell\\u0000/home/twigulus/miniconda3/envs/swd6_hpp/lib/python3.9/site-packages/ipykernel/zmqshell.py\\u0000546\\u0001cZMQInteractiveShell\\u0001l549&quot;, &quot;run_cell\\u0000/home/twigulus/miniconda3/envs/swd6_hpp/lib/python3.9/site-packages/IPython/core/interactiveshell.py\\u00003015\\u0001cZMQInteractiveShell\\u0001l3048&quot;, &quot;_run_cell\\u0000/home/twigulus/miniconda3/envs/swd6_hpp/lib/python3.9/site-packages/IPython/core/interactiveshell.py\\u00003057\\u0001cZMQInteractiveShell\\u0001l3103&quot;, &quot;_pseudo_sync_runner\\u0000/home/twigulus/miniconda3/envs/swd6_hpp/lib/python3.9/site-packages/IPython/core/async_helpers.py\\u0000120\\u0001l129&quot;, &quot;run_cell_async\\u0000/home/twigulus/miniconda3/envs/swd6_hpp/lib/python3.9/site-packages/IPython/core/interactiveshell.py\\u00003156\\u0001cZMQInteractiveShell\\u0001l3308&quot;, &quot;run_ast_nodes\\u0000/home/twigulus/miniconda3/envs/swd6_hpp/lib/python3.9/site-packages/IPython/core/interactiveshell.py\\u00003391\\u0001cZMQInteractiveShell\\u0001l3490&quot;, &quot;run_code\\u0000/home/twigulus/miniconda3/envs/swd6_hpp/lib/python3.9/site-packages/IPython/core/interactiveshell.py\\u00003514\\u0001cZMQInteractiveShell\\u0001l3550\\u0001h1&quot;, &quot;&lt;module&gt;\\u0000/tmp/ipykernel_24631/701083101.py\\u00003\\u0001l3&quot;], &quot;target_description&quot;: &quot;Cell [12]&quot;, &quot;cpu_time&quot;: 0.0009546000000000276, &quot;sys_path&quot;: [&quot;/home/twigulus/miniconda3/envs/swd6_hpp/lib/python39.zip&quot;, &quot;/home/twigulus/miniconda3/envs/swd6_hpp/lib/python3.9&quot;, &quot;/home/twigulus/miniconda3/envs/swd6_hpp/lib/python3.9/lib-dynload&quot;, &quot;&quot;, &quot;/home/twigulus/miniconda3/envs/swd6_hpp/lib/python3.9/site-packages&quot;], &quot;sys_prefixes&quot;: [&quot;/home/twigulus/miniconda3/envs/swd6_hpp&quot;, &quot;/home/twigulus/miniconda3/envs/swd6_hpp&quot;, &quot;/home/twigulus/miniconda3/envs/swd6_hpp&quot;, &quot;/home/twigulus/miniconda3/envs/swd6_hpp&quot;]}, &quot;frame_tree&quot;: {&quot;identifier&quot;: &quot;run_code\\u0000/home/twigulus/miniconda3/envs/swd6_hpp/lib/python3.9/site-packages/IPython/core/interactiveshell.py\\u00003514&quot;,&quot;time&quot;: 0.001333,&quot;attributes&quot;: {&quot;cZMQInteractiveShell&quot;: 0.0013327789993127226, &quot;l3550&quot;: 0.0013327789993127226, &quot;h1&quot;: 0.0013327789993127226},&quot;children&quot;: [{&quot;identifier&quot;: &quot;&lt;module&gt;\\u0000/tmp/ipykernel_24631/701083101.py\\u00004&quot;,&quot;time&quot;: 0.001333,&quot;attributes&quot;: {&quot;l1&quot;: 0.0013327789993127226},&quot;children&quot;: [{&quot;identifier&quot;: &quot;some_function\\u0000/tmp/ipykernel_24631/3630047074.py\\u000012&quot;,&quot;time&quot;: 0.001333,&quot;attributes&quot;: {&quot;l15&quot;: 0.0013327789993127226},&quot;children&quot;: [{&quot;identifier&quot;: &quot;bottleneck\\u0000/tmp/ipykernel_24631/3630047074.py\\u00008&quot;,&quot;time&quot;: 0.001333,&quot;attributes&quot;: {&quot;l9&quot;: 0.0013327789993127226},&quot;children&quot;: [{&quot;identifier&quot;: &quot;sleep\\u0000&lt;built-in&gt;\\u00000&quot;,&quot;time&quot;: 0.001333,&quot;attributes&quot;: {},&quot;children&quot;: [{&quot;identifier&quot;: &quot;[self]&quot;,&quot;time&quot;: 0.001333,&quot;attributes&quot;: {},&quot;children&quot;: []}]}]}]}]}]}};\n",
       "                    pyinstrumentHTMLRenderer.render(document.getElementById(&#x27;app&#x27;), sessionData);\n",
       "                &lt;/script&gt;\n",
       "            &lt;/body&gt;\n",
       "            &lt;/html&gt;\n",
       "        \"\n",
       "        ></iframe>\n",
       "        "
      ],
      "text/plain": [
       "\n",
       "  _     ._   __/__   _ _  _  _ _/_   Recorded: 11:38:10  Samples:  1\n",
       " /_//_/// /_\\ / //_// / //_'/ //     Duration: 0.001     CPU time: 0.001\n",
       "/   _/                      v5.0.0\n",
       "\n",
       "Cell [12]\n",
       "\n",
       "0.001 ZMQInteractiveShell.run_code  IPython/core/interactiveshell.py:3514\n",
       "`- 0.001 <module>  /tmp/ipykernel_24631/701083101.py:4\n",
       "   `- 0.001 some_function  /tmp/ipykernel_24631/3630047074.py:12\n",
       "      `- 0.001 bottleneck  /tmp/ipykernel_24631/3630047074.py:8\n",
       "         `- 0.001 sleep  <built-in>\n",
       "\n"
      ]
     },
     "metadata": {},
     "output_type": "display_data"
    }
   ],
   "source": [
    "%%pyinstrument\n",
    "some_function()"
   ]
  },
  {
   "cell_type": "markdown",
   "id": "dac65adf-de3c-4cf6-8fa0-52bb409bc4e3",
   "metadata": {
    "tags": []
   },
   "source": [
    "## [`Eliot`](https://eliot.readthedocs.io/en/stable/index.html)\n",
    "\n",
    "Logs the performance information. It tracks each function called, its arguments, the return values, and any rasied exceptions. Hence, it can be helpful for profiling in real use cases."
   ]
  },
  {
   "cell_type": "markdown",
   "id": "7815950f-a80b-42aa-ab6d-e4f582ce2a96",
   "metadata": {},
   "source": [
    "```{note}\n",
    "Logging has a higher overhead than `cProfile`.\n",
    "```"
   ]
  },
  {
   "cell_type": "markdown",
   "id": "cd3d4b08-9f11-4ee3-8e49-a5816bbdd915",
   "metadata": {},
   "source": [
    "It works by using decorators. Decorators are a nice way for functions to return other functions.\n",
    "\n",
    "So:\n",
    "\n",
    "```python\n",
    "@f1\n",
    "def f2(): \n",
    "  pass\n",
    "```\n",
    "\n",
    "Is the same as:\n",
    "\n",
    "```python\n",
    "def f2(): \n",
    "  pass \n",
    "\n",
    "f2 = f1(f2)\n",
    "```\n",
    "\n",
    "For example, here is a decorated function that logs calls to a function:"
   ]
  },
  {
   "cell_type": "code",
   "execution_count": 13,
   "id": "c96dc758-f536-4590-8d0c-8a4304adb8b8",
   "metadata": {},
   "outputs": [],
   "source": [
    "def log_calls(function):\n",
    "    def wrapper():\n",
    "        name = function.__name__\n",
    "\n",
    "        print(f\"Before {name} was called ...\")\n",
    "        function()\n",
    "        print(f\"After {name} was called ...\")\n",
    "\n",
    "    return wrapper"
   ]
  },
  {
   "cell_type": "markdown",
   "id": "9a0bc9f4-3188-444e-af51-11cfc8fff298",
   "metadata": {},
   "source": [
    "Calling this returns a function:"
   ]
  },
  {
   "cell_type": "code",
   "execution_count": 14,
   "id": "9937156f-1092-4d12-a04c-cae4db4ff002",
   "metadata": {},
   "outputs": [
    {
     "data": {
      "text/plain": [
       "<function __main__.log_calls.<locals>.wrapper()>"
      ]
     },
     "execution_count": 14,
     "metadata": {},
     "output_type": "execute_result"
    }
   ],
   "source": [
    "log_calls(some_function)"
   ]
  },
  {
   "cell_type": "markdown",
   "id": "216425cf-f9e1-40aa-9484-92aec032e560",
   "metadata": {},
   "source": [
    "So, to execute it we add `()`:"
   ]
  },
  {
   "cell_type": "code",
   "execution_count": 15,
   "id": "8a8d6b72-77ce-4a79-be8f-7836cd743599",
   "metadata": {},
   "outputs": [
    {
     "name": "stdout",
     "output_type": "stream",
     "text": [
      "Before some_function was called ...\n",
      "After some_function was called ...\n"
     ]
    }
   ],
   "source": [
    "log_calls(some_function)()"
   ]
  },
  {
   "cell_type": "markdown",
   "id": "ad641bba-ff0c-486f-bc4f-c41f50e25f67",
   "metadata": {},
   "source": [
    "The `@wrapper` syntax is a nice way to return this same result, where the outer function is placed above the inner function with the `@` symbol:"
   ]
  },
  {
   "cell_type": "code",
   "execution_count": 16,
   "id": "49027e96-0e9d-4ff5-8392-7d25f48a6057",
   "metadata": {},
   "outputs": [],
   "source": [
    "@log_calls\n",
    "def some_function_with_logging():\n",
    "    some_function()"
   ]
  },
  {
   "cell_type": "code",
   "execution_count": 17,
   "id": "f7df5af4-a7fd-4de5-8359-70147d86a504",
   "metadata": {},
   "outputs": [
    {
     "name": "stdout",
     "output_type": "stream",
     "text": [
      "Before some_function_with_logging was called ...\n",
      "After some_function_with_logging was called ...\n"
     ]
    }
   ],
   "source": [
    "some_function_with_logging()"
   ]
  },
  {
   "cell_type": "markdown",
   "id": "898cacc4-43b7-4057-ae79-4b6581270745",
   "metadata": {},
   "source": [
    "Okay, so now we can use the `@eliot.log_call` decorator to profile a function:"
   ]
  },
  {
   "cell_type": "code",
   "execution_count": 18,
   "id": "2d5f0fbe-6ff5-4463-bbee-1391bd5936e7",
   "metadata": {},
   "outputs": [],
   "source": [
    "import eliot"
   ]
  },
  {
   "cell_type": "code",
   "execution_count": 19,
   "id": "91009349-647d-447a-96e8-e4d212cd578c",
   "metadata": {},
   "outputs": [],
   "source": [
    "def bottleneck():\n",
    "    time.sleep(0.5)"
   ]
  },
  {
   "cell_type": "code",
   "execution_count": 20,
   "id": "7fc81263-b63f-471f-8418-bda0b5c4b1e7",
   "metadata": {},
   "outputs": [],
   "source": [
    "@eliot.log_call\n",
    "def multiply(x, y):\n",
    "    bottleneck()\n",
    "    return x * y"
   ]
  },
  {
   "cell_type": "code",
   "execution_count": 21,
   "id": "499d8996-7416-491a-87bf-d3ef905b35b0",
   "metadata": {},
   "outputs": [],
   "source": [
    "@eliot.log_call\n",
    "def add(x, y):\n",
    "    return x + y"
   ]
  },
  {
   "cell_type": "markdown",
   "id": "05f199ec-63ce-44fb-b739-d35a64270a8c",
   "metadata": {},
   "source": [
    "This next cell is just to remove the log file, if you're trying different things:"
   ]
  },
  {
   "cell_type": "code",
   "execution_count": 22,
   "id": "c70701c5-6fc8-42ee-b232-7e4c833c26b4",
   "metadata": {},
   "outputs": [],
   "source": [
    "# remove file if exists\n",
    "import os\n",
    "\n",
    "try:\n",
    "    os.remove(\"profiling_some_function.log\")\n",
    "except OSError:\n",
    "    pass"
   ]
  },
  {
   "cell_type": "markdown",
   "id": "178015e8-e39f-4f11-aa46-8c5a0830aed6",
   "metadata": {},
   "source": [
    "Now, tell `eliot` where to log the output messages and run the function call:"
   ]
  },
  {
   "cell_type": "code",
   "execution_count": 23,
   "id": "d9dee53f-6dca-479b-87c5-3125940aede0",
   "metadata": {},
   "outputs": [],
   "source": [
    "eliot.to_file(open(\"profiling_some_function.log\", \"w+\"))\n",
    "result = multiply(add(3, 4), add(5, 6))"
   ]
  },
  {
   "cell_type": "markdown",
   "id": "b52ae58f-ae0c-4f13-b17e-2dd566d9fb15",
   "metadata": {},
   "source": [
    "You can now view this log file by calling `eliot-tree` from a terminal.  \n",
    "\n",
    "This shows that `add()` was called twice as inputs to `multiply()`.  \n",
    "\n",
    "The input and output arguments are shown too.  \n",
    "\n",
    "The time of the call is shown to the right, where `multiply()` took 0.5 seconds (due to the `time.sleep(0.5)` call).  "
   ]
  },
  {
   "cell_type": "markdown",
   "id": "ff17e288-9423-494e-a8a7-688cd6672b9a",
   "metadata": {},
   "source": [
    "```{note}\n",
    "You can call terminal commands from within a Jupyter Notebook cell by adding the prefix `!`.\n",
    "```"
   ]
  },
  {
   "cell_type": "code",
   "execution_count": 24,
   "id": "f06fd33e-83c0-4bdb-9a86-83135b545cdb",
   "metadata": {},
   "outputs": [
    {
     "name": "stdout",
     "output_type": "stream",
     "text": [
      "\u001b[38;5;15mf3b9357e-9d1c-4a5f-a7d6-6d5434ad2dc5\u001b[1m\u001b[0m\r\n",
      "\u001b[38;5;15m└── \u001b[2m\u001b[0m\u001b[38;5;5m__main__.add\u001b[0m/1\u001b[0m ⇒ \u001b[38;5;2mstarted\u001b[0m \u001b[38;5;15m2024-11-05 11:38:11Z\u001b[2m\u001b[0m ⧖ \u001b[38;5;4m0.000s\u001b[2m\u001b[0m\r\n",
      "    \u001b[38;5;4m├── \u001b[2m\u001b[0m\u001b[38;5;4mx\u001b[0m: 3\u001b[0m\r\n",
      "    \u001b[38;5;4m├── \u001b[2m\u001b[0m\u001b[38;5;4my\u001b[0m: 4\u001b[0m\r\n",
      "    \u001b[38;5;4m└── \u001b[2m\u001b[0m\u001b[38;5;5m__main__.add\u001b[0m/2\u001b[0m ⇒ \u001b[38;5;2msucceeded\u001b[0m \u001b[38;5;15m2024-11-05 11:38:11Z\u001b[2m\u001b[0m\r\n",
      "        \u001b[38;5;5m└── \u001b[2m\u001b[0m\u001b[38;5;4mresult\u001b[0m: 7\u001b[0m\r\n",
      "\r\n",
      "\u001b[38;5;15m5a8d8e25-173f-43d5-8bcf-b8e0086e2886\u001b[1m\u001b[0m\r\n",
      "\u001b[38;5;15m└── \u001b[2m\u001b[0m\u001b[38;5;5m__main__.add\u001b[0m/1\u001b[0m ⇒ \u001b[38;5;2mstarted\u001b[0m \u001b[38;5;15m2024-11-05 11:38:11Z\u001b[2m\u001b[0m ⧖ \u001b[38;5;4m0.000s\u001b[2m\u001b[0m\r\n",
      "    \u001b[38;5;4m├── \u001b[2m\u001b[0m\u001b[38;5;4mx\u001b[0m: 5\u001b[0m\r\n",
      "    \u001b[38;5;4m├── \u001b[2m\u001b[0m\u001b[38;5;4my\u001b[0m: 6\u001b[0m\r\n",
      "    \u001b[38;5;4m└── \u001b[2m\u001b[0m\u001b[38;5;5m__main__.add\u001b[0m/2\u001b[0m ⇒ \u001b[38;5;2msucceeded\u001b[0m \u001b[38;5;15m2024-11-05 11:38:11Z\u001b[2m\u001b[0m\r\n",
      "        \u001b[38;5;5m└── \u001b[2m\u001b[0m\u001b[38;5;4mresult\u001b[0m: 11\u001b[0m\r\n",
      "\r\n",
      "\u001b[38;5;15ma958efec-0dac-4819-a00b-8125628aab24\u001b[1m\u001b[0m\r\n",
      "\u001b[38;5;15m└── \u001b[2m\u001b[0m\u001b[38;5;5m__main__.multiply\u001b[0m/1\u001b[0m ⇒ \u001b[38;5;2mstarted\u001b[0m \u001b[38;5;15m2024-11-05 11:38:11Z\u001b[2m\u001b[0m ⧖ \u001b[38;5;4m0.518s\u001b[2m\u001b[0m\r\n",
      "    \u001b[38;5;4m├── \u001b[2m\u001b[0m\u001b[38;5;4mx\u001b[0m: 7\u001b[0m\r\n",
      "    \u001b[38;5;4m├── \u001b[2m\u001b[0m\u001b[38;5;4my\u001b[0m: 11\u001b[0m\r\n",
      "    \u001b[38;5;4m└── \u001b[2m\u001b[0m\u001b[38;5;5m__main__.multiply\u001b[0m/2\u001b[0m ⇒ \u001b[38;5;2msucceeded\u001b[0m \u001b[38;5;15m2024-11-05 11:38:11Z\u001b[2m\u001b[0m\r\n",
      "        \u001b[38;5;5m└── \u001b[2m\u001b[0m\u001b[38;5;4mresult\u001b[0m: 77\u001b[0m\r\n",
      "\r\n"
     ]
    }
   ],
   "source": [
    "!eliot-tree profiling_some_function.log"
   ]
  },
  {
   "cell_type": "markdown",
   "id": "d9d8be66-2b18-4801-9d10-be0fe24549bd",
   "metadata": {},
   "source": [
    "Visualising how Python handles functions can be helpful in understanding them.\n",
    "\n",
    "Click [here](https://pythontutor.com/composingprograms.html#code=def%20multiply%28x,%20y%29%3A%0A%20%20%20%20return%20x%20*%20y%0A%0Adef%20add%28x,%20y%29%3A%0A%20%20%20%20return%20x%20%2B%20y%0A%0Amultiply%28add%283,%204%29,%20add%285,%206%29%29&cumulative=true&curInstr=0&mode=display&origin=composingprograms.js&py=3&rawInputLstJSON=%5B%5D) to see an example."
   ]
  },
  {
   "cell_type": "markdown",
   "id": "42a7146e-bc2d-4078-b65e-b6b983d588e1",
   "metadata": {},
   "source": [
    "## Exercises"
   ]
  },
  {
   "cell_type": "markdown",
   "id": "af74e521-e75b-4684-a8b3-b01951a40340",
   "metadata": {},
   "source": [
    "```{admonition} Exercise 1\n",
    "\n",
    "What is profiling and why is it useful?\n",
    "\n",
    "```"
   ]
  },
  {
   "cell_type": "markdown",
   "id": "d82716c7-5863-431e-8bfe-9606efd4294a",
   "metadata": {},
   "source": [
    "```{admonition} Exercise 2\n",
    "\n",
    "What profiling tool times the execution of a cell in a Jupyter Notebook?\n",
    "\n",
    "```"
   ]
  },
  {
   "cell_type": "markdown",
   "id": "50981aaf-934c-4dd2-8d42-fd9d901b0e7a",
   "metadata": {},
   "source": [
    "```{admonition} Exercise 3\n",
    "\n",
    "Below are two approaches for filling up an empty NumPy array.  Which approach is faster and why?\n",
    "\n",
    "```"
   ]
  },
  {
   "cell_type": "code",
   "execution_count": 25,
   "id": "a1ae425f-43ce-4d37-aaab-980625fc5f9f",
   "metadata": {},
   "outputs": [],
   "source": [
    "def fill_array_approach_1(n):\n",
    "    array = np.empty(1)\n",
    "\n",
    "    for index in range(n):\n",
    "        new_point = np.random.rand()\n",
    "        array = np.append(array, new_point)\n",
    "\n",
    "    return array"
   ]
  },
  {
   "cell_type": "code",
   "execution_count": 26,
   "id": "4667ad6b-898d-4f3e-9459-11f38e8db3cd",
   "metadata": {},
   "outputs": [],
   "source": [
    "def fill_array_approach_2(n):\n",
    "    array = np.empty(n)\n",
    "\n",
    "    for index in range(len(array)):\n",
    "        new_point = np.random.rand()\n",
    "        array[index] = new_point\n",
    "\n",
    "    return array"
   ]
  },
  {
   "cell_type": "markdown",
   "id": "dd978a90-c624-482d-b783-0588cce6ca11",
   "metadata": {},
   "source": [
    "```{admonition} Exercise 4\n",
    "\n",
    "Below are two methods that find two numbers from an array of unique integers that add up to a target sum.  \n",
    "\n",
    "If the target can't be made, then an empty list is returned.  \n",
    "\n",
    "Each element in the array can only be used once.  \n",
    "\n",
    "Which method is faster and why?\n",
    "\n",
    "```"
   ]
  },
  {
   "cell_type": "code",
   "execution_count": 27,
   "id": "f9149f98-33c3-4d1c-addb-661f50b49e4a",
   "metadata": {},
   "outputs": [],
   "source": [
    "def two_sum_brute_force(array, target):\n",
    "    \"\"\"\n",
    "    A brute force approach to find two numbers from an array that add up to a target.\n",
    "\n",
    "    Steps\n",
    "    1. Loop through the array twice, adding up pairs of array elements.\n",
    "    2. Compare each of these sums to the target.\n",
    "    3. Return the pair that sums to the target, if one exists.\n",
    "    \"\"\"\n",
    "    for index_one in range(len(array)):\n",
    "        for index_two in range(index_one + 1, len(array)):\n",
    "            if (\n",
    "                array[index_one] + array[index_two] == target  # check sum of pair\n",
    "                and index_one != index_two  # can't use the same element twice\n",
    "            ):\n",
    "                return [index_one, index_two]  # return the target pair\n",
    "\n",
    "    return []  # return an empty list if the target pair isn't found"
   ]
  },
  {
   "cell_type": "code",
   "execution_count": 28,
   "id": "136e6648-107f-4b2c-818b-932b10dc2e8f",
   "metadata": {},
   "outputs": [],
   "source": [
    "def two_sum_cache(array, target):\n",
    "    \"\"\"\n",
    "    Use caching to find two numbers from an array that add up to a target.\n",
    "\n",
    "    Steps\n",
    "    1. Create a dictionary of cached differences relative to the target sum.\n",
    "    2. Loop through the array once, adding each index and difference to the cache.\n",
    "    3. If the required difference of a new array element is already in the cache,\n",
    "       then you've found a matching pair, which you can return.\n",
    "    \"\"\"\n",
    "    cache_differences = {}\n",
    "    for index, element in enumerate(array):\n",
    "        difference = (\n",
    "            target - element\n",
    "        )  # calculate the target difference for this element\n",
    "        if difference in cache_differences:  # if we have the matching pair\n",
    "            return [index, cache_differences[difference]]  # return the target pair\n",
    "        cache_differences[element] = index  # if we don't have a match, add to the cache\n",
    "\n",
    "    return []  # return an empty list if the target pair isn't found"
   ]
  },
  {
   "cell_type": "markdown",
   "id": "1bb857dd-5808-4c39-9f86-17811bb1998f",
   "metadata": {},
   "source": [
    "You can test them out using the following array and target:"
   ]
  },
  {
   "cell_type": "code",
   "execution_count": 29,
   "id": "7b636aaf-be33-4c75-9b03-586d84059d86",
   "metadata": {},
   "outputs": [],
   "source": [
    "import numpy as np\n",
    "\n",
    "array = np.random.choice(1_000, 500, replace=False)\n",
    "target = 250"
   ]
  },
  {
   "cell_type": "markdown",
   "id": "daa39db9-0337-4dd6-9ec7-b6f7b35aa893",
   "metadata": {},
   "source": [
    "## {ref}`Solutions <profiling>`"
   ]
  },
  {
   "cell_type": "markdown",
   "id": "ba85d337-9ea3-4511-ae33-4fb036418318",
   "metadata": {},
   "source": [
    "## Key Points"
   ]
  },
  {
   "cell_type": "markdown",
   "id": "e1de920e-c4c1-4c47-8a80-b7f1ab648754",
   "metadata": {},
   "source": [
    "```{important}\n",
    "\n",
    "- [x] _Measure the time of cells, functions, and programs to find bottlenecks e.g., using [`timeit`](https://ipython.readthedocs.io/en/stable/interactive/magics.html#magic-timeit) and [`line_profiler`](https://github.com/pyutils/line_profiler)._\n",
    "- [x] _Visualise the profiled code e.g., using [`SnakeViz`](https://jiffyclub.github.io/snakeviz/) and [`pyinstrument`](https://github.com/joerick/pyinstrument/)._\n",
    "- [x] _Log profiling information e.g., using [`Eliot`](https://eliot.readthedocs.io/en/stable/index.html)._\n",
    "- [x] _Consider how fast the code could go e.g., Big O notation._\n",
    "\n",
    "```"
   ]
  },
  {
   "cell_type": "markdown",
   "id": "d73bcbb5-e4c3-4032-b7af-8fd24d9e19e9",
   "metadata": {
    "tags": []
   },
   "source": [
    "## Further information\n",
    "\n",
    "### Other options\n",
    "\n",
    "- [`pyheat`](https://github.com/csurfer/pyheat)\n",
    "    - Combines `pprofile` and `matplotlib` to show a heatmap of the profiled code.\n",
    "- [`VizTracer`](https://github.com/gaogaotiantian/viztracer)\n",
    "  - A low-overhead logging/debugging/profiling tool that can trace and visualise your python code execution.\n",
    "\n",
    "#### Memory profiling\n",
    "\n",
    "- [`memory_profiler`](https://github.com/pythonprofilers/memory_profiler)\n",
    "  - Measures the memory used by a function, at its peak and the overall increment.\n",
    "- [`memray`](https://github.com/bloomberg/memray)\n",
    "    - Memray is a memory profiler for Python, generating several different types of reports to help you analyse the captured memory usage data. \n",
    "  \n",
    "### Resources\n",
    "\n",
    "- [Beyond `cProfile`: Choosing the right tool for performance optimisation](https://pythonspeed.com/articles/beyond-cprofile/)"
   ]
  }
 ],
 "metadata": {
  "interpreter": {
   "hash": "b1ffad78e3b53a26aeabe29bd69865e9fcde2eed64638bf28084d4e5d53534f3"
  },
  "kernelspec": {
   "display_name": "swd6_hpp",
   "language": "python",
   "name": "swd6_hpp"
  },
  "language_info": {
   "codemirror_mode": {
    "name": "ipython",
    "version": 3
   },
   "file_extension": ".py",
   "mimetype": "text/x-python",
   "name": "python",
   "nbconvert_exporter": "python",
   "pygments_lexer": "ipython3",
   "version": "3.9.20"
  }
 },
 "nbformat": 4,
 "nbformat_minor": 5
}
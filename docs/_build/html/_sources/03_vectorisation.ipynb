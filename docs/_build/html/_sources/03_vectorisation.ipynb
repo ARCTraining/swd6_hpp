{
 "cells": [
  {
   "cell_type": "markdown",
   "id": "9698fc7e-86fb-4f7e-bcc2-0a064277c161",
   "metadata": {},
   "source": [
    "# Vectorisation"
   ]
  },
  {
   "cell_type": "markdown",
   "id": "de9bfee8-586c-4772-97cf-55db6d47ea10",
   "metadata": {},
   "source": [
    "[![Open in Colab](https://colab.research.google.com/assets/colab-badge.svg)](https://colab.research.google.com/github/ARCTraining/swd6_hpp/blob/master/docs/03_vectorisation.ipynb)"
   ]
  },
  {
   "cell_type": "markdown",
   "id": "77fea9ce-fdcb-4528-b8cb-bd53bb4b0f2d",
   "metadata": {},
   "source": [
    "## [Broadcasting](https://jakevdp.github.io/PythonDataScienceHandbook/02.05-computation-on-arrays-broadcasting.html)\n",
    "\n",
    "Broadcasting allows for operations with different shaped arrays.\n",
    "\n",
    "It's implemented in many libraries, such as [NumPy](https://numpy.org/doc/stable/user/basics.broadcasting.html) and [xarray](https://xarray.pydata.org/en/v0.16.2/computation.html?highlight=Broadcasting#broadcasting-by-dimension-name)."
   ]
  },
  {
   "cell_type": "markdown",
   "id": "0831349f-eb07-45de-8750-60990551ee65",
   "metadata": {},
   "source": [
    "![broadcasting.png](images/broadcasting.png)  \n",
    "\n",
    "*[Image source](https://mathematica.stackexchange.com/questions/99171/how-to-implement-the-general-array-broadcasting-method-from-numpy)*"
   ]
  },
  {
   "cell_type": "code",
   "execution_count": 1,
   "id": "93f01927-a3a3-41c8-b603-2fb74c7809d4",
   "metadata": {},
   "outputs": [],
   "source": [
    "import numpy as np"
   ]
  },
  {
   "cell_type": "code",
   "execution_count": null,
   "id": "15ca405c-a77c-491f-b394-b7cbf9dfbe56",
   "metadata": {},
   "outputs": [],
   "source": [
    "nums_col = np.array([0, 10, 20, 30]).reshape(4, 1)\n",
    "nums_col"
   ]
  },
  {
   "cell_type": "code",
   "execution_count": null,
   "id": "6979e5ca-d3bb-4501-918a-acd8d3e82900",
   "metadata": {},
   "outputs": [],
   "source": [
    "nums_row = np.array([0, 1, 2])\n",
    "nums_row"
   ]
  },
  {
   "cell_type": "code",
   "execution_count": null,
   "id": "7333bbb1-56b0-4085-ac66-80737f014d74",
   "metadata": {},
   "outputs": [],
   "source": [
    "nums_col + nums_row"
   ]
  },
  {
   "cell_type": "code",
   "execution_count": 5,
   "id": "ac885173-26ff-49a6-b221-d7d8126b23bb",
   "metadata": {},
   "outputs": [],
   "source": [
    "import xarray as xr"
   ]
  },
  {
   "cell_type": "code",
   "execution_count": null,
   "id": "478fb729-bafd-47b7-90f4-e000ed0eb234",
   "metadata": {},
   "outputs": [],
   "source": [
    "nums_col = xr.DataArray([0, 10, 20, 30], [(\"col\", [0, 10, 20, 30])])\n",
    "nums_col"
   ]
  },
  {
   "cell_type": "code",
   "execution_count": null,
   "id": "c68fb480-0e83-4ea9-a2ea-c3b1539efbc8",
   "metadata": {},
   "outputs": [],
   "source": [
    "nums_row = xr.DataArray([0, 1, 2], [(\"row\", [0, 1, 2])])\n",
    "nums_row"
   ]
  },
  {
   "cell_type": "code",
   "execution_count": null,
   "id": "f7f9fb28-02b5-4106-8069-9c452384f65a",
   "metadata": {},
   "outputs": [],
   "source": [
    "nums_col + nums_row"
   ]
  },
  {
   "cell_type": "markdown",
   "id": "8e831c73-095d-4ab4-a2bf-fcbb1442ac70",
   "metadata": {},
   "source": [
    "## [Vectorisation](https://jakevdp.github.io/PythonDataScienceHandbook/02.03-computation-on-arrays-ufuncs.html)\n",
    "\n",
    "Vectorisation allows the code to operate on multiple array elements at once, rather than looping through them one at a time.  \n",
    "\n",
    "NumPy has many functions already vectorised for you, which have been optimised in C (i.e., they've been statically typed and compiled).\n",
    "\n",
    "These are known as the universal functions ([ufuncs](https://numpy.org/doc/stable/reference/ufuncs.html)).\n",
    "\n",
    "There are many operations available, for [maths](https://numpy.org/doc/stable/reference/ufuncs.html#math-operations) (e.g., `add` and `subtract`), [trigonometric](https://numpy.org/doc/stable/reference/ufuncs.html#trigonometric-functions) (e.g., `sin` and `cos`), [comparison](https://numpy.org/doc/stable/reference/ufuncs.html#comparison-functions) (e.g., `greater` and `less`), and [floating](https://numpy.org/doc/stable/reference/ufuncs.html#floating-functions) (e.g., `isnan`)\n",
    "\n",
    "For example, instead of using `+`, you can use the equivalent ufunc `np.add`:"
   ]
  },
  {
   "cell_type": "code",
   "execution_count": 5,
   "id": "f777e2e6-7b2a-48e9-aab4-c13680bc0e41",
   "metadata": {},
   "outputs": [],
   "source": [
    "nums = np.arange(1_000_000)"
   ]
  },
  {
   "cell_type": "code",
   "execution_count": null,
   "id": "a14443af-455b-4d55-b3c1-925220d2c39b",
   "metadata": {},
   "outputs": [],
   "source": [
    "%%timeit\n",
    "[num + 2 for num in nums]"
   ]
  },
  {
   "cell_type": "code",
   "execution_count": null,
   "id": "11db7051-4d1b-497f-a87e-f2895176a068",
   "metadata": {},
   "outputs": [],
   "source": [
    "%%timeit\n",
    "nums + 2  # adds 2 to every element by overloading the + (similar to broadcasting)"
   ]
  },
  {
   "cell_type": "code",
   "execution_count": null,
   "id": "193478c6-ff98-4b47-82d5-bee6d5fa0def",
   "metadata": {},
   "outputs": [],
   "source": [
    "%%timeit\n",
    "np.add(nums, 2)"
   ]
  },
  {
   "cell_type": "markdown",
   "id": "aa16cd08-88ce-4b14-b59a-dca651e048d1",
   "metadata": {},
   "source": [
    "```{admonition} Question 1\n",
    "\n",
    "If something doesn't vary for a given loop, should it be inside or outside of that loop?\n",
    "\n",
    "```"
   ]
  },
  {
   "cell_type": "markdown",
   "id": "9ae57caa-0997-4a2f-91fb-22d6ef0ffc71",
   "metadata": {},
   "source": [
    "## Create your own ufunc\n",
    "\n",
    "You can vectorise any arbitrary Python function to a NumPy ufunc using [`np.vectorize`](https://numpy.org/doc/stable/reference/generated/numpy.vectorize.html). Note that this is implemented using for loops, so doesn't necessarily offer a large performance advantage."
   ]
  },
  {
   "cell_type": "markdown",
   "id": "d9cba912-678e-41a3-a936-164c4981922a",
   "metadata": {},
   "source": [
    "*Don't worry about what this function does, just focus on the vectorisation bit.*"
   ]
  },
  {
   "cell_type": "code",
   "execution_count": 9,
   "id": "0632bc94-9e10-4c7a-830c-ff883aaacede",
   "metadata": {},
   "outputs": [],
   "source": [
    "import math\n",
    "\n",
    "SQRT_2PI = np.float32((2.0 * math.pi) ** 0.5)\n",
    "\n",
    "x = np.random.uniform(-3.0, 3.0, size=1_000_000)\n",
    "mean = 0.0\n",
    "sigma = 1.0\n",
    "\n",
    "\n",
    "def my_function(x, mean, sigma):\n",
    "    \"\"\"Compute the value of a Gaussian probability density function at x with given mean and sigma.\"\"\"\n",
    "    return math.exp(-0.5 * ((x - mean) / sigma) ** 2.0) / (sigma * SQRT_2PI)"
   ]
  },
  {
   "cell_type": "code",
   "execution_count": 10,
   "id": "2f4ac548-f462-4b8d-be69-ec1671dad6b4",
   "metadata": {},
   "outputs": [],
   "source": [
    "vectorized_function = np.vectorize(my_function)"
   ]
  },
  {
   "cell_type": "code",
   "execution_count": null,
   "id": "8f5bdae4-0e12-4288-aa1c-84daf3437f5d",
   "metadata": {},
   "outputs": [],
   "source": [
    "%%timeit\n",
    "vectorized_function(x, mean, sigma)"
   ]
  },
  {
   "cell_type": "markdown",
   "id": "575b3af1-07da-43c2-b239-35904fab3260",
   "metadata": {},
   "source": [
    "```{admonition} Question 2\n",
    "\n",
    "Can you run the unvectorised `my_function` directly on the same inputs (i.e., all of x)?\n",
    "\n",
    "```"
   ]
  },
  {
   "cell_type": "markdown",
   "id": "7ee7bd25-7536-4d7d-99ff-babf354fbec7",
   "metadata": {},
   "source": [
    "### Generalised universal functions ([gufuncs](https://numpy.org/doc/stable/reference/c-api/generalized-ufuncs.html))\n",
    "\n",
    "Whereas ufuncs apply the function element-by-element, the generalized version (gufuncs) supports \"sub-array\" by \"sub-array\" operations. \n",
    "\n",
    "Numba has a nice implementation of these, which we will explore in the next lesson."
   ]
  },
  {
   "cell_type": "markdown",
   "id": "532f3fb8",
   "metadata": {},
   "source": [
    "## Exercises"
   ]
  },
  {
   "cell_type": "markdown",
   "id": "eef7475d-362a-4fef-97de-c0e120a338fa",
   "metadata": {},
   "source": [
    "```{admonition} Exercise 1\n",
    "\n",
    "What is broadcasting?\n",
    "\n",
    "```"
   ]
  },
  {
   "cell_type": "markdown",
   "id": "0b7ec113-bc67-4123-b067-c349be3286fa",
   "metadata": {},
   "source": [
    "```{admonition} Exercise 2\n",
    "\n",
    "What is vectorisation?\n",
    "\n",
    "```"
   ]
  },
  {
   "cell_type": "markdown",
   "id": "3cf78870-248b-4695-a692-7df4cce4d1d4",
   "metadata": {},
   "source": [
    "```{admonition} Exercise 3\n",
    "\n",
    "How would you replace the `compute_reciprocals` function below with a vectorised version?\n",
    "\n",
    "```"
   ]
  },
  {
   "cell_type": "code",
   "execution_count": 1,
   "id": "f373a72b-46c5-43b6-8b1d-4f68a1fa0d01",
   "metadata": {},
   "outputs": [],
   "source": [
    "def compute_reciprocals(array):\n",
    "    \"\"\"\n",
    "    Divides 1 by an array of values.\n",
    "    \"\"\"\n",
    "    output = np.empty(len(array))\n",
    "    for i in range(len(array)):\n",
    "        output[i] = 1.0 / array[i]\n",
    "\n",
    "    return output"
   ]
  },
  {
   "cell_type": "code",
   "execution_count": null,
   "id": "80dc1a71-f35b-4ff6-b8a2-9c809b69b7d9",
   "metadata": {},
   "outputs": [],
   "source": [
    "big_array = np.random.randint(1, 100, size=1_000_000)\n",
    "%timeit compute_reciprocals(big_array)"
   ]
  },
  {
   "cell_type": "markdown",
   "id": "04b143d8-0695-4d6a-a240-c14a025ebf07",
   "metadata": {},
   "source": [
    "```{admonition} Exercise 4\n",
    "\n",
    "Create your own vectorised ufunc that calculates the cube root of an array over all elements.\n",
    "\n",
    "```"
   ]
  },
  {
   "cell_type": "markdown",
   "id": "b0d38ba6-a8b1-42f4-ad41-0b2260a089a2",
   "metadata": {},
   "source": [
    "## {ref}`Solutions <vectorisation>`"
   ]
  },
  {
   "cell_type": "markdown",
   "id": "3576f016-e9a3-4e6c-b7f9-921cd62efbbc",
   "metadata": {},
   "source": [
    "## Key Points"
   ]
  },
  {
   "cell_type": "markdown",
   "id": "4290431d-930b-4b55-b7e3-e9f27fd5ee54",
   "metadata": {},
   "source": [
    "```{important}\n",
    "\n",
    "- [x] _Take advantage of broadcasting for different shaped arrays._\n",
    "- [x] _Use vectorised functions where you can e.g., [NumPy ufuncs](https://numpy.org/doc/stable/reference/ufuncs.html)._\n",
    "\n",
    "```"
   ]
  },
  {
   "cell_type": "markdown",
   "id": "7fdd1a96-7d8f-4090-8069-a821c5e10a84",
   "metadata": {},
   "source": [
    "## Further information\n",
    "\n",
    "### More information\n",
    "\n",
    "- [Special ufuncs from SciPy](https://docs.scipy.org/doc/scipy/reference/special.html)\n",
    "\n",
    "### Other options\n",
    "\n",
    "- [Lazy loading](https://xarray.pydata.org/en/v0.16.2/dask.html) and [execution](https://tutorial.dask.org/01x_lazy.html)\n",
    "    - Lazily loads metadata only, rather than eagerly loading data into memory.\n",
    "    - Creates task graph of scheduled work awaiting execution (`.compute()`, more on that in the Parallelisation lesson)."
   ]
  }
 ],
 "metadata": {
  "kernelspec": {
   "display_name": "swd6_hpp",
   "language": "python",
   "name": "python3"
  },
  "language_info": {
   "codemirror_mode": {
    "name": "ipython",
    "version": 3
   },
   "file_extension": ".py",
   "mimetype": "text/x-python",
   "name": "python",
   "nbconvert_exporter": "python",
   "pygments_lexer": "ipython3",
   "version": "3.9.20"
  }
 },
 "nbformat": 4,
 "nbformat_minor": 5
}

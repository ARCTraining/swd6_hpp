{
 "cells": [
  {
   "cell_type": "markdown",
   "id": "889871d4-6344-4a5b-a591-e91b5b4f8134",
   "metadata": {},
   "source": [
    "# Overview"
   ]
  },
  {
   "cell_type": "markdown",
   "id": "522d29ce-e032-47f4-a9ce-665f5ee61e66",
   "metadata": {},
   "source": [
    "Python is a versitile and widely used computer programming language: \n",
    "\n",
    "- High−level (allowing you to focus on your problem and not the hardware)  \n",
    "- General purpose (can do many things) \n",
    "- Easy (and fun) to learn \n",
    "- Functions can be passed as arguments and can be returned from other functions \n",
    "- Open source \n",
    "- Large ecosystem of useful libraries and tools \n",
    "- It has sophisticated, convenient and useful syntax \n",
    "- It is evolving \n",
    "\n",
    "This course focuses on how to measure and improve the performance of Python programs. It focusses on processing time whilst also considering memory utilisation. There are 4 parts:",
    "- Profiling \n",
    "- Data Structures, Algorithms and Libraries \n",
    "- Vectorisation \n",
    "- Compilers \n",
    "\n",
    "Short breaks are timetabled for every 30 minutes and we have an hour for lunch from 12:30 to 13:30."
   ]
  },
  {
   "cell_type": "markdown",
   "id": "3813b72d-06fb-42e2-9bd2-c2b8bf3025f8",
   "metadata": {
    "tags": []
   },
   "source": [
    "## Think strategically \n",
    "\n",
    "There are usually trade-offs in changing code to do the same thing faster or using less memory: \n",
    "- The code may become significantly more complicated and less readable \n",
    "- A program that runs faster may require more memory \n",
    "- A program that requires less memory may run slower \n",
    "- The optimisations may only work well on specific platforms or with particular inputs \n",
    "\n",
    " Before optimising code, consider the following: \n",
    "\n",
    "- Is the code complete and working? \n",
    "  - Have you tested it? \n",
    "  - Is it well documented? \n",
    "- Is optimisation really needed? \n",
    "  - Have you profiled the code? \n",
    "  - Is there a better computer that you can use?",
    "\n",
    "If optimisation seems sensible, then test if simple things (e.g. using a different function or data structure) make sufficient improvement before trying something complicated (e.g. parallelisation - which can be a more major undertaking and involve rethinking and rewriting algorithms) \n",
    "\n"
   ]
  },
  {
   "cell_type": "markdown",
   "id": "fc5552df-b2d1-44d3-9462-a8eb112c43bb",
   "metadata": {},
   "source": [
    "## Follow along\n",
    "\n",
    "- Click on the Colab button within each Jupyter notebook to run there.  \n",
    "\n",
    "This is a practical course with exercises to help you learn. \n",
    "Hints for problems and solutions can be found on the {ref}`Solutions <solutions>` page, but try to have a go without first referring to these. \n",
    "If you have a question, want help, want us to go over something again, please ask - raise your hand or ask in the Teams chat. \n",
    "We plan to use emoji polls in the chat to check in with you throughout the course. \n",
    "After the course has ended the Teams chat will remain open for the rest of this week in case you want to ask anything. We will post a final message in the chat to refer you to a general Teams channel where you can ask further about the course. \n"
   ]
  }
 ],
 "metadata": {
  "kernelspec": {
   "display_name": "Python 3.9.13 ('swd6_clean')",
   "language": "python",
   "name": "python3"
  },
  "language_info": {
   "codemirror_mode": {
    "name": "ipython",
    "version": 3
   },
   "file_extension": ".py",
   "mimetype": "text/x-python",
   "name": "python",
   "nbconvert_exporter": "python",
   "pygments_lexer": "ipython3",
   "version": "3.9.13"
  },
  "vscode": {
   "interpreter": {
    "hash": "2a93d1c027dfda4462b694d6286448364ad2a6a8b6ce28fd67f0da1d08f0f41f"
   }
  }
 },
 "nbformat": 4,
 "nbformat_minor": 5
}

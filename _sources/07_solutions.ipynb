{
 "cells": [
  {
   "cell_type": "markdown",
   "id": "fe79fba2-48b4-4b3c-a479-1c0448ebeb5d",
   "metadata": {},
   "source": [
    "(solutions)=\n",
    "# Solutions"
   ]
  },
  {
   "cell_type": "markdown",
   "id": "35f44bf5-a285-4eda-9257-b0109270dd91",
   "metadata": {},
   "source": [
    "(profiling)=\n",
    "## Profiling"
   ]
  },
  {
   "cell_type": "markdown",
   "id": "a1c7d942-71b6-4502-9f2b-065c6a04343a",
   "metadata": {},
   "source": [
    "### Exercises"
   ]
  },
  {
   "cell_type": "markdown",
   "id": "85ca9c47-2204-4465-9083-00e0f6a8e612",
   "metadata": {},
   "source": [
    "```{admonition} Exercise 1\n",
    "\n",
    "What is profiling and why is it useful?\n",
    "\n",
    "```"
   ]
  },
  {
   "cell_type": "markdown",
   "id": "9dfb74b2-3349-47fa-998e-c81593bd40af",
   "metadata": {},
   "source": [
    "```{admonition} Solution 1\n",
    ":class: dropdown\n",
    "\n",
    "Profiling analyses your code in terms of speed or memory. \n",
    "\n",
    "This helps identify where the bottlenecks are (_why and where is it slow?_) and how much potential there is for improvement.  \n",
    "\n",
    "```"
   ]
  },
  {
   "cell_type": "markdown",
   "id": "3ae47827-a532-411c-9110-39245b9f905e",
   "metadata": {},
   "source": [
    "```{admonition} Exercise 2\n",
    "\n",
    "What profiling tool times the execution of a cell in a Jupyter Notebook?\n",
    "\n",
    "```"
   ]
  },
  {
   "cell_type": "markdown",
   "id": "d0782efb-adc7-4339-a451-afb6bbb822b2",
   "metadata": {},
   "source": [
    "```{admonition} Solution 2\n",
    ":class: dropdown\n",
    "\n",
    "`%%timeit`\n",
    "\n",
    "```"
   ]
  },
  {
   "cell_type": "markdown",
   "id": "8ec7e890-d43b-4452-aba9-465b4f915fa2",
   "metadata": {},
   "source": [
    "```{admonition} Exercise 3\n",
    "\n",
    "Below are two approaches for filling up an empty NumPy array.  \n",
    "\n",
    "Which approach is faster and why?\n",
    "\n",
    "```"
   ]
  },
  {
   "cell_type": "code",
   "execution_count": null,
   "id": "5d8a5fc4-8fc6-47c6-bb52-6627c4685e2c",
   "metadata": {},
   "outputs": [],
   "source": [
    "def fill_array_approach_1(n):\n",
    "    array = np.empty(1)\n",
    "\n",
    "    for index in range(n):\n",
    "        new_point = np.random.rand()\n",
    "        array = np.append(array, new_point)\n",
    "\n",
    "    return array"
   ]
  },
  {
   "cell_type": "code",
   "execution_count": null,
   "id": "4ce81eb6-4a47-46c6-bdef-04d3478b287e",
   "metadata": {},
   "outputs": [],
   "source": [
    "def fill_array_approach_2(n):\n",
    "    array = np.empty(n)\n",
    "\n",
    "    for index in range(len(array)):\n",
    "        new_point = np.random.rand()\n",
    "        array[index] = new_point\n",
    "\n",
    "    return array"
   ]
  },
  {
   "cell_type": "markdown",
   "id": "19d66107-d306-4216-8b70-20d69e72d512",
   "metadata": {},
   "source": [
    "```{admonition} Solution 3\n",
    ":class: dropdown\n",
    "\n",
    "Approach 2 is about 10x faster.\n",
    "\n",
    "For example, over 1,000 data points:\n",
    "\n",
    "`%timeit fill_array_approach_1(1_000)`  \n",
    "`2.7 ms ± 177 µs per loop (mean ± std. dev. of 7 runs, 100 loops each)`  \n",
    "\n",
    "`%timeit fill_array_approach_2(1_000)`  \n",
    "`251 µs ± 4.75 µs per loop (mean ± std. dev. of 7 runs, 1,000 loops each)`  \n",
    "\n",
    "This is because approach 2 creates one empty array of the required size in memory once, before filling it up in a loop.\n",
    "\n",
    "In contrast, approach 1 creates a new array *each time* by appending the new point.\n",
    "\n",
    "```"
   ]
  },
  {
   "cell_type": "markdown",
   "id": "ecd2f7be-e08b-4400-96cc-592a2fde1267",
   "metadata": {},
   "source": [
    "```{admonition} Exercise 4\n",
    "\n",
    "Below are two methods that find two numbers from an array of unique integers that add up to a target sum.  \n",
    "\n",
    "If the target can't be made, then an empty list is returned.  \n",
    "\n",
    "Each element in the array can only be used once.  \n",
    "\n",
    "Which method is faster and why?\n",
    "\n",
    "```"
   ]
  },
  {
   "cell_type": "code",
   "execution_count": null,
   "id": "731abf43-c626-48c4-8c22-7efad5e97ffd",
   "metadata": {},
   "outputs": [],
   "source": [
    "def two_sum_brute_force(array, target):\n",
    "    \"\"\"\n",
    "    A brute force approach to find two numbers from an array that add up to a target.\n",
    "\n",
    "    Steps\n",
    "    1. Loop through the array twice, adding up pairs of array elements.\n",
    "    2. Compare each of these sums to the target.\n",
    "    3. Return the pair that sums to the target, if one exists.\n",
    "    \"\"\"\n",
    "    for index_one in range(len(array)):\n",
    "        for index_two in range(index_one + 1, len(array)):\n",
    "            if (\n",
    "                array[index_one] + array[index_two] == target  # check sum of pair\n",
    "                and index_one != index_two  # can't use the same element twice\n",
    "            ):\n",
    "                return [index_one, index_two]  # return the target pair\n",
    "\n",
    "    return []  # return an empty list if the target pair isn't found"
   ]
  },
  {
   "cell_type": "code",
   "execution_count": null,
   "id": "b13e9027-ddfe-4e5a-96ee-a5ebb70ce12b",
   "metadata": {},
   "outputs": [],
   "source": [
    "def two_sum_cache(array, target):\n",
    "    \"\"\"\n",
    "    Use caching to find two numbers from an array that add up to a target.\n",
    "\n",
    "    Steps\n",
    "    1. Create a dictionary of cached differences relative to the target sum.\n",
    "    2. Loop through the array once, adding each index and difference to the cache.\n",
    "    3. If the required difference of a new array element is already in the cache,\n",
    "       then you've found a matching pair, which you can return.\n",
    "    \"\"\"\n",
    "    cache_differences = {}\n",
    "    for index, element in enumerate(array):\n",
    "        difference = (\n",
    "            target - element\n",
    "        )  # calculate the target difference for this element\n",
    "        if difference in cache_differences:  # if we have the matching pair\n",
    "            return [index, cache_differences[difference]]  # return the target pair\n",
    "        cache_differences[element] = index  # if we don't have a match, add to the cache\n",
    "\n",
    "    return []  # return an empty list if the target pair isn't found"
   ]
  },
  {
   "cell_type": "code",
   "execution_count": null,
   "id": "15d46fb9-416f-4de9-acba-36614d561dc9",
   "metadata": {},
   "outputs": [],
   "source": [
    "import numpy as np\n",
    "\n",
    "array = np.random.choice(1_000, 500, replace=False)\n",
    "target = 250"
   ]
  },
  {
   "cell_type": "markdown",
   "id": "fa55f09b-6467-4f57-a8f5-fe65c0fee620",
   "metadata": {},
   "source": [
    "```{admonition} Solution 4\n",
    ":class: dropdown\n",
    "\n",
    "The cached version is faster.\n",
    "\n",
    "This is because it only needs to loop through the array once.\n",
    "\n",
    "So, for the brute force method, the time complexity is O(n^2) and the space complexity is O(1).\n",
    "\n",
    "And for the cached method, the time complexity is O(n) and the space complexity is O(n). This is because the cache itself (i.e., the dictionary) takes up space up to the size of the array.\n",
    "\n",
    "For example, using the array and target above:\n",
    "\n",
    "`%timeit two_sum_brute_force(array, target)`  \n",
    "`272 µs ± 12.4 µs per loop (mean ± std. dev. of 7 runs, 1,000 loops each)`  \n",
    "\n",
    "`%timeit two_sum_cache(array, target)`  \n",
    "`31.8 µs ± 8.57 µs per loop (mean ± std. dev. of 7 runs, 10,000 loops each)`  \n",
    "\n",
    "```"
   ]
  },
  {
   "cell_type": "markdown",
   "id": "3e795aae-7cbb-4369-aa9a-0e238acbb43a",
   "metadata": {},
   "source": [
    "(data_structures_and_algorithms)=\n",
    "## Data Structures, Algorithms, and Libraries"
   ]
  },
  {
   "cell_type": "markdown",
   "id": "316f818f-9c81-4b7b-974a-c46a26878776",
   "metadata": {},
   "source": [
    "### Questions"
   ]
  },
  {
   "cell_type": "markdown",
   "id": "22a8569b-25b0-43b9-acf2-dfb372146f98",
   "metadata": {},
   "source": [
    "```{admonition} Question 1\n",
    "\n",
    "Which of the following uses less memory and how can you check?\n",
    "\n",
    "- `np.float16`  \n",
    "- `np.float32`  \n",
    "- `np.float64`  \n",
    "\n",
    "```"
   ]
  },
  {
   "cell_type": "markdown",
   "id": "ccf542da-e393-4160-85c5-2629be730ae6",
   "metadata": {},
   "source": [
    "```{admonition} Solution 1\n",
    ":class: dropdown\n",
    "\n",
    "Single precision floats have 32 bits (i.e., [`np.single`](https://numpy.org/doc/stable/reference/arrays.scalars.html#numpy.single) or [`np.float32`](https://numpy.org/doc/stable/reference/arrays.scalars.html#numpy.float32)).  \n",
    "\n",
    "This is equal to 4 bytes, as [1 byte is 8 bits](https://en.wikipedia.org/wiki/Byte).  \n",
    "\n",
    "You can check this using:  \n",
    "\n",
    "`np.float32(1.0).nbytes`  \n",
    "`4`  \n",
    "\n",
    "Half precision floats have (you guessed it) half of this (i.e., [`np.half`](https://numpy.org/doc/stable/reference/arrays.scalars.html#numpy.half) or [`np.float16`](https://numpy.org/doc/stable/reference/arrays.scalars.html#numpy.float16)):\n",
    "\n",
    "`np.float16(1.0).nbytes`  \n",
    "`2`  \n",
    "\n",
    "And double precision floats (i.e., [`np.double`](https://numpy.org/doc/stable/reference/arrays.scalars.html#numpy.double) or [`np.float64`](https://numpy.org/doc/stable/reference/arrays.scalars.html#numpy.float64)):\n",
    "\n",
    "`np.float64(1.0).nbytes`  \n",
    "`8`  \n",
    "\n",
    "In some situations, you may be able to significantly reduce your memory usage by using half or single precision arrays.\n",
    "\n",
    "```"
   ]
  },
  {
   "cell_type": "markdown",
   "id": "1fd57863-90c0-4ce5-8bf3-1f745dfd90a3",
   "metadata": {},
   "source": [
    "### Exercises"
   ]
  },
  {
   "cell_type": "markdown",
   "id": "fdeb2a2c-2059-4ab8-ab6d-4c5d30f4e852",
   "metadata": {},
   "source": [
    "```{admonition} Exercise 1\n",
    "\n",
    "What data structure would be suitable for finding or removing duplicate values?\n",
    "\n",
    "a. List  \n",
    "b. Dictionary  \n",
    "c. Queue   \n",
    "d. Set  \n",
    "\n",
    "Test out your answer on the following array:  \n",
    "\n",
    "`array = np.random.choice(100, 80)`  \n",
    "\n",
    "Are there any other ways of doing it?\n",
    "\n",
    "```"
   ]
  },
  {
   "cell_type": "markdown",
   "id": "0724551b-d50e-4508-8123-a2d2bac6c1d9",
   "metadata": {},
   "source": [
    "```{admonition} Solution 1\n",
    ":class: dropdown\n",
    "\n",
    "A suitable data structure for finding or removing duplicate values is:  \n",
    "\n",
    "d. Set  \n",
    "\n",
    "This is because [sets](https://docs.python.org/3/library/stdtypes.html#set-types-set-frozenset) are unordered collections of distinct hashable objects.  \n",
    "\n",
    "You can call it via `set(array)`.  \n",
    "\n",
    "Another approach would be to use NumPy features. For example, when creating a random array, you can specific whether the random choice gets replaced or not via:  \n",
    "\n",
    "`array = np.random.choice(100, 80, replace=False)`\n",
    "\n",
    "```"
   ]
  },
  {
   "cell_type": "markdown",
   "id": "9fb683dd-19b2-4312-82a8-ccd9a21447a8",
   "metadata": {},
   "source": [
    "```{admonition} Exercise 2\n",
    "\n",
    "In the exercise from the profiling lesson, we saw an example of `two_sum` i.e., finding two numbers from an array of unique integers that add up to a target sum.\n",
    "\n",
    "What would be a good approach for generalising this sum of two numbers to three, four, or n numbers?\n",
    "\n",
    "```"
   ]
  },
  {
   "cell_type": "markdown",
   "id": "c47f8fc4-8d65-4879-adbc-4f6ba6672313",
   "metadata": {},
   "source": [
    "```{admonition} Solution 2\n",
    ":class: dropdown\n",
    "\n",
    "Many algorithms are already implemented for you.\n",
    "\n",
    "For example, the [`algorithm`](https://github.com/keon/algorithms) library has an [`n_sum`](https://github.com/keon/algorithms/blob/master/algorithms/arrays/n_sum.py) method.\n",
    "\n",
    "This generalises the function to any value of n.\n",
    "\n",
    "For example, here is a \"six_sum\":\n",
    "\n",
    "`from algorithms.arrays import n_sum`  \n",
    "`array = np.random.choice(100, 80, replace=False)`  \n",
    "`target = 23`  \n",
    "`n_sum(6, array, target)`  \n",
    "`[[0, 1, 3, 4, 6, 9],`  \n",
    "` [0, 1, 3, 4, 7, 8],`  \n",
    "` [0, 1, 3, 5, 6, 8],`  \n",
    "` [0, 1, 4, 5, 6, 7]]`  \n",
    "\n",
    "Try it for yourself or any one of the other [many examples](https://github.com/keon/algorithms#list-of-implementations).\n",
    "\n",
    "```"
   ]
  },
  {
   "cell_type": "markdown",
   "id": "4cde16e4-2a14-4256-86ad-5bfb920512f1",
   "metadata": {},
   "source": [
    "(vectorisation)=\n",
    "## Vectorisation"
   ]
  },
  {
   "cell_type": "markdown",
   "id": "a94a2774-c42c-414e-afa4-fe655b876102",
   "metadata": {},
   "source": [
    "### Questions"
   ]
  },
  {
   "cell_type": "markdown",
   "id": "a1fe55db-f59b-4390-b543-5d39618887ac",
   "metadata": {},
   "source": [
    "```{admonition} Question 1\n",
    "\n",
    "If something doesn't vary for a given loop, should it be inside or outside of that loop?\n",
    "\n",
    "```"
   ]
  },
  {
   "cell_type": "markdown",
   "id": "43dd8902-e2f5-4a8d-9ea4-a5a1ae1ba84a",
   "metadata": {},
   "source": [
    "```{admonition} Solution 1\n",
    ":class: dropdown\n",
    "\n",
    "[Loop-invariants](https://en.wikipedia.org/wiki/Loop_invariant) should be *outside* of loops.  \n",
    "\n",
    "This is because loops are slow in Python ([CPython](https://www.python.org/), default interpreter).  \n",
    "\n",
    "Loops are slow because loops type−check and dispatch functions per cycle.  \n",
    "\n",
    "Try to avoid them where you can (e.g., by using NumPy ufuncs, aggregations, broadcasting, etc.).  \n",
    "\n",
    "```"
   ]
  },
  {
   "cell_type": "markdown",
   "id": "2b867f84-68e0-429a-ace1-9cfd31d661bc",
   "metadata": {},
   "source": [
    "```{admonition} Question 2\n",
    "\n",
    "Is it possible to run the unvectorised `my_function` directly on the same inputs (i.e., all of x)?\n",
    "\n",
    "```"
   ]
  },
  {
   "cell_type": "markdown",
   "id": "2c3c4c17-e429-4683-8b9d-19816e7dedea",
   "metadata": {},
   "source": [
    "```{admonition} Solution 2\n",
    ":class: dropdown\n",
    "\n",
    "No, a `TypeError` is returned.\n",
    "\n",
    "As the function has not yet been vectorised, it cannot operate across arrays with more than 1 element.\n",
    "\n",
    "To check that it does work for 1 element, you could try:  \n",
    "`my_function(x[0], mean, sigma)` \n",
    "\n",
    "or to run it in a loop:\n",
    "\n",
    "`for val in x:`  \n",
    "    `   my_function(val, mean, sigma)` \n",
    "\n",
    "\n",
    "```"
   ]
  },
  {
   "cell_type": "markdown",
   "id": "3f1647bc-a70d-472e-bc3a-7bce5fa63c54",
   "metadata": {},
   "source": [
    "### Exercises"
   ]
  },
  {
   "cell_type": "markdown",
   "id": "0a2aa30f-ada3-4378-b75d-a6c322105907",
   "metadata": {},
   "source": [
    "```{admonition} Exercise 1\n",
    "\n",
    "What is broadcasting?\n",
    "\n",
    "```"
   ]
  },
  {
   "cell_type": "markdown",
   "id": "d23c6a76-5d4c-4d2b-97ec-98f4350cc04c",
   "metadata": {},
   "source": [
    "```{admonition} Solution 1\n",
    ":class: dropdown\n",
    "\n",
    "Broadcasting allows for operations with different shaped arrays.\n",
    "\n",
    "```"
   ]
  },
  {
   "cell_type": "markdown",
   "id": "8636ba01-f12c-440b-9689-3d2e82960b5f",
   "metadata": {},
   "source": [
    "```{admonition} Exercise 2\n",
    "\n",
    "What is vectorisation?\n",
    "\n",
    "```"
   ]
  },
  {
   "cell_type": "markdown",
   "id": "4f0e39e4-5bc6-4d68-8101-b2a96c139ae5",
   "metadata": {},
   "source": [
    "```{admonition} Solution 2\n",
    ":class: dropdown\n",
    "\n",
    "Vectorisation allows the code to operate on multiple array elements at once, rather than looping through them one at a time.\n",
    "\n",
    "```"
   ]
  },
  {
   "cell_type": "markdown",
   "id": "6ef9406a-6060-4167-878b-42e765acf414",
   "metadata": {},
   "source": [
    "```{admonition} Exercise 3\n",
    "\n",
    "How would you replace the [`compute_reciprocals`](https://jakevdp.github.io/PythonDataScienceHandbook/02.03-computation-on-arrays-ufuncs.html) function below with a vectorised version?\n",
    "\n",
    "```"
   ]
  },
  {
   "cell_type": "code",
   "execution_count": null,
   "id": "155f85d1-4c09-43e4-973e-308df999ac08",
   "metadata": {},
   "outputs": [],
   "source": [
    "def compute_reciprocals(array):\n",
    "    \"\"\"\n",
    "    Divides 1 by an array of values.\n",
    "    \"\"\"\n",
    "    output = np.empty(len(array))\n",
    "    for i in range(len(array)):\n",
    "        output[i] = 1.0 / array[i]\n",
    "\n",
    "    return output"
   ]
  },
  {
   "cell_type": "code",
   "execution_count": null,
   "id": "d88fcefe-fe4d-4716-8aec-2f1d151f86ee",
   "metadata": {},
   "outputs": [],
   "source": [
    "big_array = np.random.randint(1, 100, size=1_000_000)\n",
    "%timeit compute_reciprocals(big_array)"
   ]
  },
  {
   "cell_type": "markdown",
   "id": "21d9b660-6e20-4513-a0f2-4828d65fd78a",
   "metadata": {},
   "source": [
    "```{admonition} Solution 3\n",
    ":class: dropdown\n",
    "\n",
    "You can either use the `np.divide` ufunc as follows:\n",
    "\n",
    "`%timeit np.divide(1.0, big_array)`  \n",
    "`1.29 ms ± 124 µs per loop (mean ± std. dev. of 7 runs, 1,000 loops each)`  \n",
    "\n",
    "Or you could just use `/`, which  works on every element by overloading the operator (similar to broadcasting):  \n",
    "\n",
    "`%timeit (1.0 / big_array)`  \n",
    "`1.19 ms ± 103 µs per loop (mean ± std. dev. of 7 runs, 1,000 loops each)`  \n",
    "\n",
    "```"
   ]
  },
  {
   "cell_type": "markdown",
   "id": "c3aca3e5-d6de-44a2-a917-c43863cb653b",
   "metadata": {},
   "source": [
    "```{admonition} Exercise 4\n",
    "\n",
    "Create your own vectorised ufunc that calculates the cube root of an array over all elements.\n",
    "\n",
    "```"
   ]
  },
  {
   "cell_type": "markdown",
   "id": "bf2581f7-97de-4f20-82dc-a3847118cd3b",
   "metadata": {},
   "source": [
    "```{hint}\n",
    ":class: dropdown\n",
    "\n",
    "Here is an unvectorised version (i.e., it has a for loop):\n",
    "\n",
    "`def my_cube_root(array):`  \n",
    "`    output = np.empty(len(array))`  \n",
    "`    for i in range(len(array)):`  \n",
    "`        output[i] = array[i] ** (1 / 3)`  \n",
    "`    `  \n",
    "`    return output`  \n",
    "\n",
    "`%timeit my_cube_root(big_array)`  \n",
    "`1.77 s ± 152 ms per loop (mean ± std. dev. of 7 runs, 1 loop each)`  \n",
    "\n",
    "```"
   ]
  },
  {
   "cell_type": "markdown",
   "id": "5b1716c7-ffaf-4c7b-9ca3-4bd075c4f999",
   "metadata": {},
   "source": [
    "```{admonition} Solution 4\n",
    ":class: dropdown\n",
    "\n",
    "**Option 1:**  \n",
    "You could use the `np.vectorize` decorator:\n",
    "\n",
    "`import math`  \n",
    "`from numpy import vectorize`  \n",
    "\n",
    "`@vectorize`  \n",
    "`def my_cube_root(array):`  \n",
    "`    return math.pow(array, 1/3)`  \n",
    "\n",
    "`%timeit my_cube_root(big_array)`  \n",
    "`213 ms ± 33.1 ms per loop (mean ± std. dev. of 7 runs, 10 loops each)`  \n",
    "\n",
    "**Option 2:**  \n",
    "You could overload the `**` and `/` symbols:  \n",
    "\n",
    "`def my_cube_root(array):`  \n",
    "`    return array ** (1 / 3)`  \n",
    "\n",
    "`%timeit my_cube_root(big_array)`  \n",
    "`36 ms ± 864 µs per loop (mean ± std. dev. of 7 runs, 10 loops each)`  \n",
    "\n",
    "**Option 3:**  \n",
    "You could use the optimised ufuncs from NumPy or SciPy (recommended):\n",
    "\n",
    "`%timeit np.cbrt(big_array)`  \n",
    "`13.9 ms ± 1.51 ms per loop (mean ± std. dev. of 7 runs, 100 loops each)`  \n",
    "\n",
    "`from scipy.special import cbrt`  \n",
    "`%timeit cbrt(big_array)`  \n",
    "`18.9 ms ± 1.9 ms per loop (mean ± std. dev. of 7 runs, 100 loops each)`  \n",
    "```"
   ]
  },
  {
   "cell_type": "markdown",
   "id": "33328ebc-1297-44ec-b79c-32303118584b",
   "metadata": {},
   "source": [
    "(compilers)=\n",
    "## Compilers"
   ]
  },
  {
   "cell_type": "markdown",
   "id": "149cb7a3-a8b7-4afa-bf55-61b17330facd",
   "metadata": {},
   "source": [
    "### Questions"
   ]
  },
  {
   "cell_type": "markdown",
   "id": "a91b89a2-b31b-4a26-89e4-e2b0176a3cfd",
   "metadata": {},
   "source": [
    "```{admonition} Question 1\n",
    "For the function below (`fast_add`):\n",
    "\n",
    "`@njit`  \n",
    "`def fast_add(x, y):`  \n",
    "`    return x + y`  \n",
    "\n",
    "What will happen when it is called with:  \n",
    "`fast_add(1, (2,))`  \n",
    "```"
   ]
  },
  {
   "cell_type": "markdown",
   "id": "7933a669-7e52-48bb-be15-f60aa1c11631",
   "metadata": {},
   "source": [
    "```{admonition} Solution 1\n",
    ":class: dropdown\n",
    "\n",
    "A `TypingError` is returned.\n",
    "\n",
    "This is because Numba is trying to compile a function that adds an integer to a tuple.\n",
    "\n",
    "Take care with types.\n",
    "\n",
    "Ensure that the function works first, before adding Numba to make it faster.\n",
    "\n",
    "```"
   ]
  },
  {
   "cell_type": "markdown",
   "id": "908129e8-13b0-40cc-9022-5d294f9380f9",
   "metadata": {},
   "source": [
    "### Exercises"
   ]
  },
  {
   "cell_type": "markdown",
   "id": "67b710b3-d348-4a78-9d6a-a409598f1feb",
   "metadata": {},
   "source": [
    "```{admonition} Exercise 1\n",
    "\n",
    "What is the default Python distribution?\n",
    "\n",
    "- Cython\n",
    "- PyPy\n",
    "- CPython\n",
    "\n",
    "```"
   ]
  },
  {
   "cell_type": "markdown",
   "id": "e45e22db-687e-47da-bb6b-7fbc2378a068",
   "metadata": {},
   "source": [
    "```{admonition} Solution 1\n",
    ":class: dropdown\n",
    "\n",
    "CPython\n",
    "\n",
    "```"
   ]
  },
  {
   "cell_type": "markdown",
   "id": "8b586f20-09e6-4655-883a-a15572750bfd",
   "metadata": {},
   "source": [
    "```{admonition} Exercise 2\n",
    "\n",
    "Which Numba compilation mode has higher performance?\n",
    "\n",
    "- `object`  \n",
    "- `nopython`  \n",
    "\n",
    "```"
   ]
  },
  {
   "cell_type": "markdown",
   "id": "7ee63655-e782-4450-a7ef-77f3afc7d36e",
   "metadata": {},
   "source": [
    "```{admonition} Solution 2\n",
    ":class: dropdown\n",
    "\n",
    "`nopython`\n",
    "\n",
    "```"
   ]
  },
  {
   "cell_type": "markdown",
   "id": "dfeaf7fc-5df2-435a-af36-7a792e450f24",
   "metadata": {},
   "source": [
    "```{admonition} Exercise 3\n",
    "\n",
    "How do I compile a function in Numba using `no-python` mode?\n",
    "\n",
    "```"
   ]
  },
  {
   "cell_type": "markdown",
   "id": "dff96261-f6cb-4a40-88a0-30deaf7dd48f",
   "metadata": {},
   "source": [
    "```{admonition} Solution 3\n",
    ":class: dropdown\n",
    "\n",
    "Wrap the function in the `@njit` (or `@jit(nopython=True)`) decorator.\n",
    "\n",
    "```"
   ]
  },
  {
   "cell_type": "markdown",
   "id": "f2115d31-fc16-4879-8149-96382e06f712",
   "metadata": {},
   "source": [
    "```{admonition} Exercise 4\n",
    "\n",
    "What is the keyword argument that enables Numba compiled functions to run over multiple CPUs?\n",
    "\n",
    "```"
   ]
  },
  {
   "cell_type": "markdown",
   "id": "0e4cd56b-5562-4381-b3de-d21b0bfc2f35",
   "metadata": {},
   "source": [
    "```{admonition} Solution 4\n",
    ":class: dropdown\n",
    "\n",
    "`parallel=True`\n",
    "\n",
    "```"
   ]
  },
  {
   "cell_type": "markdown",
   "id": "e0d7e0c9-8b3e-4f53-87cb-6ec35628988f",
   "metadata": {},
   "source": [
    "```{admonition} Exercise 5\n",
    "\n",
    "Create your own Numba vectorised function that calculates the cube root of an array over all elements.\n",
    "\n",
    "```"
   ]
  },
  {
   "cell_type": "markdown",
   "id": "93d6952a-cb5e-4a91-8173-0ef8be8f8b55",
   "metadata": {},
   "source": [
    "```{hint}\n",
    ":class: dropdown\n",
    "\n",
    "Have a look at the similar exercise from the Vectorisation lesson.\n",
    "\n",
    "```"
   ]
  },
  {
   "cell_type": "markdown",
   "id": "e25f1282-87d5-41af-8126-5f899f309f51",
   "metadata": {},
   "source": [
    "```{admonition} Solution 5\n",
    ":class: dropdown\n",
    "\n",
    "Using the Numba `@vectorize` decorator and the `math` library:  \n",
    "\n",
    "`import math`  \n",
    "`from numba import vectorize  # I'm the only change from the NumPy ufunc exercise`  \n",
    "\n",
    "`@vectorize`  \n",
    "`def my_cube_root(array):`  \n",
    "`    return math.pow(array, 1/3)`  \n",
    "\n",
    "`%timeit my_cube_root(big_array)`  \n",
    "`27.7 ms ± 643 µs per loop (mean ± std. dev. of 7 runs, 10 loops each)`\n",
    "\n",
    "Numba is a nice way to get performant numerical code.\n",
    "\n",
    "```"
   ]
  }
 ],
 "metadata": {
  "kernelspec": {
   "display_name": "swd6_hpp",
   "language": "python",
   "name": "swd6_hpp"
  },
  "language_info": {
   "codemirror_mode": {
    "name": "ipython",
    "version": 3
   },
   "file_extension": ".py",
   "mimetype": "text/x-python",
   "name": "python",
   "nbconvert_exporter": "python",
   "pygments_lexer": "ipython3",
   "version": "3.9.10"
  }
 },
 "nbformat": 4,
 "nbformat_minor": 5
}

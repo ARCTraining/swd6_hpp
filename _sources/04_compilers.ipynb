{
 "cells": [
  {
   "cell_type": "markdown",
   "id": "e959b40e-a651-404d-aee8-f23870af2e9c",
   "metadata": {},
   "source": [
    "# Compilers"
   ]
  },
  {
   "cell_type": "markdown",
   "id": "8aa45220-a638-4a4d-8fe1-f78e67007ea9",
   "metadata": {},
   "source": [
    "[![Open in Colab](https://colab.research.google.com/assets/colab-badge.svg)](https://colab.research.google.com/github/ARCTraining/swd6_hpp/blob/master/docs/04_compilers.ipynb)"
   ]
  },
  {
   "cell_type": "markdown",
   "id": "0f76a704-552e-4e76-9209-d8aba17057db",
   "metadata": {},
   "source": [
    "## [CPython](https://www.python.org/)\n",
    "\n",
    "CPython is the main Python distribution.\n",
    "\n",
    "- (*Not to be confused with Cython, which we'll touch on later*).\n",
    "\n",
    "CPython uses an Ahead-Of-Time (AOT) compiler i.e., the code is compiled in advance.\n",
    "\n",
    "- (*A compiler translates program source course into machine-readable instructions*).\n",
    "\n",
    "This is as an assortment of statically compiled C extensions.\n",
    "\n",
    "CPython is a general purpose interpreter, allowing it to work on a variety of problems.\n",
    "\n",
    "It is dynamically typed, so types can change as you go.\n",
    "\n",
    "For example:"
   ]
  },
  {
   "cell_type": "code",
   "execution_count": 1,
   "id": "9138a5f0-335e-4c25-9c13-b5f8b7435cbb",
   "metadata": {},
   "outputs": [
    {
     "name": "stdout",
     "output_type": "stream",
     "text": [
      "5\n",
      "Gary\n"
     ]
    }
   ],
   "source": [
    "# assign x to an integer\n",
    "x = 5\n",
    "print(x)\n",
    "\n",
    "# then assign x to a string\n",
    "x = 'Gary'\n",
    "print(x)"
   ]
  },
  {
   "cell_type": "markdown",
   "id": "7226fa6c-aa30-47d0-99b4-475adfab7b24",
   "metadata": {},
   "source": [
    "## [Numba](http://numba.pydata.org/)\n",
    "\n",
    "Numba uses a JIT (Just-In-Time) compiler on functions i.e., compiles the function at execution time.\n",
    "\n",
    "This converts the function to fast machine code ([LLVM](https://en.wikipedia.org/wiki/LLVM)).\n",
    "\n",
    "Numba works with the default CPython.\n",
    "\n",
    "It works by adding decorators around functions.\n",
    "\n",
    "Numba is helpful when you want to speed up numerical operations in specific functions.  \n",
    "\n",
    "There are two main modes: `object` and `nopython`."
   ]
  },
  {
   "cell_type": "markdown",
   "id": "8beda4df-da20-4a83-b402-01225428d491",
   "metadata": {},
   "source": [
    "### [`object`](https://numba.readthedocs.io/en/stable/glossary.html#term-object-mode) mode (`@jit`)\n",
    "\n",
    "Works by adding the [`@jit`](https://numba.readthedocs.io/en/stable/user/jit.html) decorator around the function.\n",
    "\n",
    "This then compiles code that handles all values as Python objects and uses CPython to work on those objects.\n",
    "\n",
    "`@jit` first tries to use `nopython` mode (covered next), and if it fails uses `object` mode.\n",
    "\n",
    "The main improvement over CPython is for [loops](https://numba.readthedocs.io/en/stable/glossary.html#term-loop-lifting)."
   ]
  },
  {
   "cell_type": "markdown",
   "id": "dc3b5911-6c69-4f4a-b5a5-62f35d9011ab",
   "metadata": {},
   "source": [
    "### [`nopython`](https://numba.readthedocs.io/en/stable/glossary.html#term-nopython-mode) mode (`@njit`)\n",
    "\n",
    "Works by adding the `@jit(nopython=True)` decorator (aliased as `@njit`) around the function.\n",
    "\n",
    "This then compiles code that does not access CPython.\n",
    "\n",
    "This has higher performance than the `object` mode.\n",
    "\n",
    "The `nopython` mode requires [specific types](https://numba.readthedocs.io/en/stable/reference/pysupported.html#pysupported) (mainly numbers), otherwise returns a `TypeError`.\n",
    "\n",
    "For example:"
   ]
  },
  {
   "cell_type": "code",
   "execution_count": 2,
   "id": "e3fe07c7-ddb3-457b-926a-846182d047d4",
   "metadata": {},
   "outputs": [],
   "source": [
    "import numpy as np\n",
    "from numba import njit"
   ]
  },
  {
   "cell_type": "markdown",
   "id": "1fd4f2bb-3208-4bf9-94b0-c1e530d4a696",
   "metadata": {},
   "source": [
    "First, lets profile an example numerical function without Numba:"
   ]
  },
  {
   "cell_type": "code",
   "execution_count": 3,
   "id": "86ab87f6-c63e-4a87-afa9-84afd3ea9a4b",
   "metadata": {},
   "outputs": [],
   "source": [
    "nums = np.arange(1_000_000)"
   ]
  },
  {
   "cell_type": "code",
   "execution_count": 4,
   "id": "d2880a2f-474e-4f76-96b2-18e732b63a5d",
   "metadata": {},
   "outputs": [],
   "source": [
    "def slow_function(nums):\n",
    "    trace = 0.0\n",
    "    for num in nums:          # loop\n",
    "        trace += np.cos(num)  # numpy\n",
    "    return nums + trace       # broadcasting"
   ]
  },
  {
   "cell_type": "code",
   "execution_count": 5,
   "id": "bc13dda5-b28a-45ba-811f-5b19efd47541",
   "metadata": {},
   "outputs": [
    {
     "name": "stdout",
     "output_type": "stream",
     "text": [
      "1.06 s ± 110 ms per loop (mean ± std. dev. of 7 runs, 1 loop each)\n"
     ]
    }
   ],
   "source": [
    "%%timeit\n",
    "slow_function(nums)"
   ]
  },
  {
   "cell_type": "markdown",
   "id": "aa373c38-68b2-4564-ac86-e8a8042c6275",
   "metadata": {},
   "source": [
    "Now, lets add the Numba `njit` decorator on the same function:"
   ]
  },
  {
   "cell_type": "code",
   "execution_count": 6,
   "id": "813e0666-4516-483f-bb94-ffbce61a3b1c",
   "metadata": {},
   "outputs": [],
   "source": [
    "@njit\n",
    "def fast_function(nums):\n",
    "    trace = 0.0\n",
    "    for num in nums:         # loop\n",
    "        trace += np.cos(num) # numpy\n",
    "    return nums + trace      # broadcasting"
   ]
  },
  {
   "cell_type": "markdown",
   "id": "db5b57c0-adee-4c40-862a-894730bf15d7",
   "metadata": {},
   "source": [
    "The first call to the Numba function has an overhead to compile the function."
   ]
  },
  {
   "cell_type": "code",
   "execution_count": 7,
   "id": "71903154-46f8-4378-8396-938a70e49794",
   "metadata": {},
   "outputs": [
    {
     "name": "stdout",
     "output_type": "stream",
     "text": [
      "380 ms ± 0 ns per loop (mean ± std. dev. of 1 run, 1 loop each)\n"
     ]
    }
   ],
   "source": [
    "%%timeit -n 1 -r 1 # -n 1 means execute the statement once, -r 1 means for one repetition\n",
    "fast_function(nums)"
   ]
  },
  {
   "cell_type": "markdown",
   "id": "0f3fee17-da48-4faa-b535-6b57b5bc552a",
   "metadata": {},
   "source": [
    "Then, all subsequent calls use this compiled version, which are much faster."
   ]
  },
  {
   "cell_type": "code",
   "execution_count": 8,
   "id": "82098da6-655c-4d0f-9926-239e2a2d9da1",
   "metadata": {},
   "outputs": [
    {
     "name": "stdout",
     "output_type": "stream",
     "text": [
      "16.5 ms ± 0 ns per loop (mean ± std. dev. of 1 run, 1 loop each)\n"
     ]
    }
   ],
   "source": [
    "%%timeit -n 1 -r 1\n",
    "fast_function(nums)"
   ]
  },
  {
   "cell_type": "markdown",
   "id": "8aca7221-c0f9-4895-bf93-aa0e7939d7db",
   "metadata": {},
   "source": [
    "```{admonition} Question 1\n",
    "For the function below (`fast_add`):\n",
    "\n",
    "`@njit`  \n",
    "`def fast_add(x, y):`  \n",
    "`    return x + y`  \n",
    "\n",
    "What will happen when it is called with:  \n",
    "`fast_add(1, (2,))`  \n",
    "```"
   ]
  },
  {
   "cell_type": "markdown",
   "id": "12a5814d-52b6-4065-95f4-858970eb90e6",
   "metadata": {},
   "source": [
    "### Signatures\n",
    "\n",
    "The signature of the Numba function can limit it to specific input and output types, among other things.\n",
    "\n",
    "This can save time for Numba to infer the types, and is also useful for when we use GPUs later.\n",
    "\n",
    "These are added as arguments to the Numba decorator.\n",
    "\n",
    "For example:"
   ]
  },
  {
   "cell_type": "code",
   "execution_count": 10,
   "id": "6657af8e-8a4d-42ea-b508-20d376beecf5",
   "metadata": {},
   "outputs": [],
   "source": [
    "from numba import int32, float32"
   ]
  },
  {
   "cell_type": "markdown",
   "id": "eeffa89c-b662-4cf5-9c84-a97fbf98d639",
   "metadata": {},
   "source": [
    "Here, the output type is wrapped around the input types."
   ]
  },
  {
   "cell_type": "code",
   "execution_count": 11,
   "id": "4a7e6c6f-6cda-478c-b551-0c1fb186fa6a",
   "metadata": {},
   "outputs": [],
   "source": [
    "@njit(float32(int32, int32))\n",
    "def fast_add(x, y):\n",
    "    return x + y"
   ]
  },
  {
   "cell_type": "code",
   "execution_count": 12,
   "id": "4e930273-11ac-4d6a-afbd-563b3010d84a",
   "metadata": {},
   "outputs": [
    {
     "data": {
      "text/plain": [
       "4.0"
      ]
     },
     "execution_count": 12,
     "metadata": {},
     "output_type": "execute_result"
    }
   ],
   "source": [
    "fast_add(2, 2)"
   ]
  },
  {
   "cell_type": "markdown",
   "id": "e224e31c-f95c-4bfb-9dc0-8a08926b7a89",
   "metadata": {},
   "source": [
    "#### [`@vectorize`](https://numba.readthedocs.io/en/stable/user/vectorize.html#vectorize)\n",
    "\n",
    "Numba also simplifies the creation of a NumPy ufunc using the `@vectorize` decorator.\n",
    "\n",
    "They can be targeted to different hardware in the signature.\n",
    "\n",
    "The [default](http://numba.pydata.org/numba-doc/latest/user/vectorize.html#dynamic-universal-functions) target is for a single CPU case (which has the least overhead).\n",
    "\n",
    "This is suitable for smaller data sizes (<1 KB) and low compute intensities.\n",
    "\n",
    "For example:"
   ]
  },
  {
   "cell_type": "code",
   "execution_count": 13,
   "id": "9fd7df8b-c025-4051-93b6-734f771ea75e",
   "metadata": {},
   "outputs": [],
   "source": [
    "from numba import vectorize"
   ]
  },
  {
   "cell_type": "markdown",
   "id": "576aab69-36b4-4dac-a645-d492849e4ab0",
   "metadata": {},
   "source": [
    "*Don't worry about what this function does, just focus on the vectorisation bit.*\n",
    "\n",
    "You'll notice that this it the same example as from the previous lesson on vectorisation, apart from that we're now adding Numba's `@vectorize` decorator."
   ]
  },
  {
   "cell_type": "code",
   "execution_count": 14,
   "id": "596ada97-e27c-4cf2-8146-1c83df9021aa",
   "metadata": {},
   "outputs": [],
   "source": [
    "import math\n",
    "SQRT_2PI = np.float32((2.0 * math.pi)**0.5)\n",
    "\n",
    "x = np.random.uniform(-3.0, 3.0, size=1_000_000)\n",
    "mean = 0.0\n",
    "sigma = 1.0\n",
    "\n",
    "@vectorize  # I'm new\n",
    "def my_function(x, mean, sigma):\n",
    "    '''Compute the value of a Gaussian probability density function at x with given mean and sigma.'''\n",
    "    return math.exp(-0.5 * ((x - mean) / sigma)**2.0) / (sigma * SQRT_2PI)"
   ]
  },
  {
   "cell_type": "markdown",
   "id": "99519866-68bf-4227-831d-53c048885ca5",
   "metadata": {},
   "source": [
    "So, the first call to the function compiles it:"
   ]
  },
  {
   "cell_type": "code",
   "execution_count": 15,
   "id": "ab865d7a-7788-43a9-88fd-25d13d42400a",
   "metadata": {},
   "outputs": [
    {
     "name": "stdout",
     "output_type": "stream",
     "text": [
      "119 ms ± 0 ns per loop (mean ± std. dev. of 1 run, 1 loop each)\n"
     ]
    }
   ],
   "source": [
    "%%timeit -n 1 -r 1\n",
    "my_function(x, 0.0, 1.0)"
   ]
  },
  {
   "cell_type": "markdown",
   "id": "1aafcf83-e64a-48f8-92ec-b9466e3941fa",
   "metadata": {},
   "source": [
    "Then, all subsequent calls use the fast compiled version:"
   ]
  },
  {
   "cell_type": "code",
   "execution_count": 16,
   "id": "9fb96111-db39-49ac-be6d-89c76b6615f7",
   "metadata": {},
   "outputs": [
    {
     "name": "stdout",
     "output_type": "stream",
     "text": [
      "28.5 ms ± 0 ns per loop (mean ± std. dev. of 1 run, 1 loop each)\n"
     ]
    }
   ],
   "source": [
    "%%timeit -n 1 -r 1\n",
    "my_function(x, 0.0, 1.0)"
   ]
  },
  {
   "cell_type": "markdown",
   "id": "cdffe3fd-c278-41e4-868a-386261884fdd",
   "metadata": {
    "tags": []
   },
   "source": [
    "### [`@guvectorize`](http://numba.pydata.org/numba-doc/latest/user/vectorize.html#the-guvectorize-decorator)\n",
    "\n",
    "During our last lesson on vectorisation we also touched on generalised ufuncs ([gufuncs](https://numpy.org/doc/stable/reference/c-api/generalized-ufuncs.html)).\n",
    "\n",
    "These extend `vectorize` to work on many input elements.\n",
    "\n",
    "Numba has a nice implementation of these using `guvectorize`.\n",
    "\n",
    "The signature also requires the types to be specified first in a list.\n",
    "\n",
    "- For example: `[(int64[:], int64, int64[:])]` means an n-element one-dimensional array of `int64`, a scalar of `int64`, and another n-element one-dimensional array of `int64`.\n",
    "\n",
    "Then the signature includes the input(s) and output(s) dimensions in symbolic form.\n",
    "\n",
    "- For example: `'(n),()->(n)'` means input an n-element one-dimensional array (`(n)`) and a scalar (`()`), and output an n-element one-dimensional array (`(n)`)."
   ]
  },
  {
   "cell_type": "code",
   "execution_count": 17,
   "id": "9365acb5-3355-431f-92cf-f61d25ede48b",
   "metadata": {},
   "outputs": [],
   "source": [
    "from numba import guvectorize, int64"
   ]
  },
  {
   "cell_type": "code",
   "execution_count": 18,
   "id": "ede6d132-6106-4ff6-9a55-43506f8c5dd7",
   "metadata": {},
   "outputs": [],
   "source": [
    "@guvectorize([(int64[:], int64, int64[:])], '(n),()->(n)')\n",
    "def g(x, y, result):\n",
    "    for index in range(x.shape[0]):\n",
    "        result[index] = x[index] + y"
   ]
  },
  {
   "cell_type": "markdown",
   "id": "595c1fc1-4b35-4924-82b6-b0ed31a32a61",
   "metadata": {},
   "source": [
    "First, lets try the gufunc with 1D array and an integer:"
   ]
  },
  {
   "cell_type": "code",
   "execution_count": 19,
   "id": "0de8d344-aca9-4a9a-bd1d-a62fe8237f87",
   "metadata": {},
   "outputs": [
    {
     "data": {
      "text/plain": [
       "array([0, 1, 2, 3, 4])"
      ]
     },
     "execution_count": 19,
     "metadata": {},
     "output_type": "execute_result"
    }
   ],
   "source": [
    "x = np.arange(5)\n",
    "x"
   ]
  },
  {
   "cell_type": "code",
   "execution_count": 20,
   "id": "ae40cdc4-56bd-4ab7-9c30-a42dab690466",
   "metadata": {},
   "outputs": [
    {
     "data": {
      "text/plain": [
       "array([5, 6, 7, 8, 9])"
      ]
     },
     "execution_count": 20,
     "metadata": {},
     "output_type": "execute_result"
    }
   ],
   "source": [
    "g(x, 5)"
   ]
  },
  {
   "cell_type": "markdown",
   "id": "42ff8b9b-bee3-4d5a-b93f-72e8b10d23c0",
   "metadata": {},
   "source": [
    "Okay. So, now how about a 2D array and an integer:"
   ]
  },
  {
   "cell_type": "code",
   "execution_count": 21,
   "id": "994c66f5-51c6-43ec-9aec-063fa9cae239",
   "metadata": {},
   "outputs": [
    {
     "data": {
      "text/plain": [
       "array([[0, 1, 2],\n",
       "       [3, 4, 5]])"
      ]
     },
     "execution_count": 21,
     "metadata": {},
     "output_type": "execute_result"
    }
   ],
   "source": [
    "x = np.arange(6).reshape(2, 3)\n",
    "x"
   ]
  },
  {
   "cell_type": "code",
   "execution_count": 22,
   "id": "746210ed-ea6d-4076-bf0b-102aead6225e",
   "metadata": {},
   "outputs": [
    {
     "data": {
      "text/plain": [
       "array([[10, 11, 12],\n",
       "       [13, 14, 15]])"
      ]
     },
     "execution_count": 22,
     "metadata": {},
     "output_type": "execute_result"
    }
   ],
   "source": [
    "g(x, 10)"
   ]
  },
  {
   "cell_type": "markdown",
   "id": "786361da-33b5-479f-b96d-2527d2dbb5d3",
   "metadata": {},
   "source": [
    "And, what about a 2D array and a 1D array:"
   ]
  },
  {
   "cell_type": "code",
   "execution_count": 23,
   "id": "9c23587b-f630-4396-8cc7-571b4c4c94ac",
   "metadata": {},
   "outputs": [
    {
     "data": {
      "text/plain": [
       "array([[10, 11, 12],\n",
       "       [23, 24, 25]])"
      ]
     },
     "execution_count": 23,
     "metadata": {},
     "output_type": "execute_result"
    }
   ],
   "source": [
    "g(x, np.array([10, 20]))"
   ]
  },
  {
   "cell_type": "markdown",
   "id": "3095ea78-6587-43e3-ae2d-aadbd54c0a3e",
   "metadata": {
    "tags": []
   },
   "source": [
    "### [`parallel = True`](https://numba.readthedocs.io/en/stable/user/performance-tips.html#parallel-true)\n",
    "\n",
    "The next lesson covers parallelisation in detail. However, before that, let's touch on a nice feature within Numba.\n",
    "\n",
    "Numba can target different hardware in the signature.\n",
    "\n",
    "Just now, we saw a Numba function for a single CPU, which is suitable for small data sizes.\n",
    "\n",
    "The next target is for a multi-core CPU.\n",
    "\n",
    "This has small additional overheads for threading.\n",
    "\n",
    "This is suitable for medium data sizes (1 KB - 1 MB).\n",
    "\n",
    "If code contains operations that are parallelisable (and [supported](https://numba.readthedocs.io/en/stable/user/parallel.html#numba-parallel-supported)) Numba can compile a version that will run in parallel on multiple threads.\n",
    "\n",
    "This parallelisation is performed automatically and is enabled by simply adding the keyword agurment `parallel=True` to `@njit`."
   ]
  },
  {
   "cell_type": "markdown",
   "id": "8d646367-e902-4edf-a9bc-87aef4304143",
   "metadata": {},
   "source": [
    "For example, let's first use the function in serial (i.e., with `parallel=False` which is also the default):"
   ]
  },
  {
   "cell_type": "code",
   "execution_count": 24,
   "id": "3544de3b-4757-4cfd-a46f-35bd018a3f58",
   "metadata": {},
   "outputs": [],
   "source": [
    "x = np.arange(1.e7, dtype=np.int64)"
   ]
  },
  {
   "cell_type": "code",
   "execution_count": 25,
   "id": "52f21516-cbcf-4a0f-8a61-38b64c0b8fc9",
   "metadata": {},
   "outputs": [],
   "source": [
    "@njit\n",
    "def my_serial_function_for_cpu(x):\n",
    "    return np.cos(x) ** 2 + np.sin(x) ** 2"
   ]
  },
  {
   "cell_type": "code",
   "execution_count": 26,
   "id": "076553a1-7730-4e3a-8541-c0c50b4b0f8d",
   "metadata": {},
   "outputs": [
    {
     "name": "stdout",
     "output_type": "stream",
     "text": [
      "212 ms ± 30.3 ms per loop (mean ± std. dev. of 7 runs, 1 loop each)\n"
     ]
    }
   ],
   "source": [
    "%%timeit\n",
    "my_serial_function_for_cpu(x)"
   ]
  },
  {
   "cell_type": "markdown",
   "id": "894f39b9-efea-4611-8b28-8639e21cc0f5",
   "metadata": {},
   "source": [
    "Okay, so let's now change that to run in parallel:"
   ]
  },
  {
   "cell_type": "code",
   "execution_count": 27,
   "id": "61deda26-70f5-493e-a619-944ba54a9cae",
   "metadata": {},
   "outputs": [],
   "source": [
    "@njit(parallel=True)\n",
    "def my_parallel_function_for_cpu(x):\n",
    "    return np.cos(x) ** 2 + np.sin(x) ** 2"
   ]
  },
  {
   "cell_type": "markdown",
   "id": "84617bde-fc48-464f-a03e-3980a0cc90ed",
   "metadata": {},
   "source": [
    "```{note}\n",
    "The timing of this parallel function depends on how many CPUs your machine has and how free their resources are.\n",
    "```"
   ]
  },
  {
   "cell_type": "code",
   "execution_count": 28,
   "id": "549e8c67-be86-4ac3-b729-6cc6abe5d8be",
   "metadata": {},
   "outputs": [
    {
     "name": "stdout",
     "output_type": "stream",
     "text": [
      "104 ms ± 12.9 ms per loop (mean ± std. dev. of 7 runs, 1 loop each)\n"
     ]
    }
   ],
   "source": [
    "%%timeit\n",
    "my_parallel_function_for_cpu(x)"
   ]
  },
  {
   "cell_type": "markdown",
   "id": "37196609-daeb-4122-9c63-1d45cbd1bc48",
   "metadata": {},
   "source": [
    "## Exercises"
   ]
  },
  {
   "cell_type": "markdown",
   "id": "0a11b7fb-193b-44e6-8a3e-f16f50d8e475",
   "metadata": {},
   "source": [
    "```{admonition} Exercise 1\n",
    "\n",
    "What is the default Python distribution?\n",
    "\n",
    "- Cython\n",
    "- PyPy\n",
    "- CPython\n",
    "\n",
    "```"
   ]
  },
  {
   "cell_type": "markdown",
   "id": "20e1321a-6d5e-4000-bb8e-572dedabbe7b",
   "metadata": {},
   "source": [
    "```{admonition} Exercise 2\n",
    "\n",
    "Which Numba compilation mode has higher performance?\n",
    "\n",
    "- `object`  \n",
    "- `nopython`  \n",
    "\n",
    "```"
   ]
  },
  {
   "cell_type": "markdown",
   "id": "7921a8e9-b105-496d-a2f3-b37bd8c90682",
   "metadata": {},
   "source": [
    "```{admonition} Exercise 3\n",
    "\n",
    "How do I compile a function in Numba using `no-python` mode?\n",
    "\n",
    "```"
   ]
  },
  {
   "cell_type": "markdown",
   "id": "54236bd2-54d1-47f5-a8a8-6a4c86fabc6f",
   "metadata": {},
   "source": [
    "```{admonition} Exercise 4\n",
    "\n",
    "What is the keyword argument that enables Numba compiled functions to run over multiple CPUs?\n",
    "\n",
    "```"
   ]
  },
  {
   "cell_type": "markdown",
   "id": "5018080f-1ba1-477c-9a7a-3471c6aa68fa",
   "metadata": {},
   "source": [
    "```{admonition} Exercise 5\n",
    "\n",
    "Create your own Numba vectorised function that calculates the cube root of an array over all elements.\n",
    "\n",
    "```"
   ]
  },
  {
   "cell_type": "markdown",
   "id": "69f046f8-4ab7-499d-bc8e-b4da01e015a8",
   "metadata": {},
   "source": [
    "## {ref}`Solutions <compilers>`"
   ]
  },
  {
   "cell_type": "markdown",
   "id": "7846dcd7-d996-4061-9f65-c3d8575b4080",
   "metadata": {},
   "source": [
    "## Key Points"
   ]
  },
  {
   "cell_type": "markdown",
   "id": "95ecd1b2-9f62-4f94-b1c3-25c6e35c5cd1",
   "metadata": {},
   "source": [
    "```{important}\n",
    "\n",
    "- [x] _Speed up numerical functions with the [Numba](http://numba.pydata.org/) `@njit` (nopython) compiler._\n",
    "\n",
    "```"
   ]
  },
  {
   "cell_type": "markdown",
   "id": "71ec8c44-4ca3-4ee1-bac3-fc788b771946",
   "metadata": {},
   "source": [
    "## Further information\n",
    "\n",
    "### More information and considerations\n",
    "\n",
    "- Factor out the performance-critical part of the code for compilation in Numba.\n",
    "- Consider what data precision is required i.e., is 64-bit needed?\n",
    "- [Debugging and troubleshooting](https://numba.readthedocs.io/en/stable/user/troubleshoot.html#)\n",
    "- Here are some more Numba examples for [NumPy](https://numba.pydata.org/numba-doc/dev/reference/numpysupported.html) and [Pandas](https://pandas.pydata.org/pandas-docs/stable/user_guide/enhancingperf.html#numba-jit-compilation).\n",
    "- Numba can also target CUDA GPUs, which we'll cover in the final lesson.\n",
    "\n",
    "### Other options\n",
    "\n",
    "- [Cython](https://cython.org/)\n",
    "  - Compiles to statically typed C/C++.\n",
    "  - Can be used for any amount of code.\n",
    "  - Used with the default CPython.\n",
    "  - Cython is helpful when you need static typing e.g., when optimising libraries to release.  \n",
    "  - Here are some examples for [NumPy](https://cython.readthedocs.io/en/latest/src/tutorial/numpy.html) and [Pandas](https://pandas.pydata.org/pandas-docs/stable/user_guide/enhancingperf.html).\n",
    "- [PyPy](https://www.pypy.org/)\n",
    "  - Also uses the JIT compiler (though is written in Python).\n",
    "  - PyPy enables optimisations at run time, especially for numerical tasks with repitition and loops.\n",
    "  - Completely replaces CPython.\n",
    "      - Caution, it may not be [compatible](http://packages.pypy.org/) with the libraries you use.\n",
    "  - Generally fast, though there are overheads for start-up and memory.\n",
    "  - PyPy is helpful when want to speed up numerical opterations in all of the code. \n",
    "\n",
    "### Resources\n",
    "\n",
    "- [Why is Python slow?](https://youtu.be/I4nkgJdVZFA), Anthony Shaw, PyCon 2020. [CPython Internals](https://realpython.com/products/cpython-internals-book/)."
   ]
  }
 ],
 "metadata": {
  "interpreter": {
   "hash": "b1ffad78e3b53a26aeabe29bd69865e9fcde2eed64638bf28084d4e5d53534f3"
  },
  "kernelspec": {
   "display_name": "swd6_hpp",
   "language": "python",
   "name": "swd6_hpp"
  },
  "language_info": {
   "codemirror_mode": {
    "name": "ipython",
    "version": 3
   },
   "file_extension": ".py",
   "mimetype": "text/x-python",
   "name": "python",
   "nbconvert_exporter": "python",
   "pygments_lexer": "ipython3",
   "version": "3.9.10"
  }
 },
 "nbformat": 4,
 "nbformat_minor": 5
}
